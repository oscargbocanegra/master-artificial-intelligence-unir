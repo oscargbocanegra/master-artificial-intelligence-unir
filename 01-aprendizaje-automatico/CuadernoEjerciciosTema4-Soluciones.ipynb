{
 "cells": [
  {
   "cell_type": "code",
   "execution_count": null,
   "id": "ef3f342a",
   "metadata": {},
   "outputs": [],
   "source": []
  },
  {
   "cell_type": "markdown",
   "id": "9c98372b",
   "metadata": {},
   "source": [
    "# Tema 4: Naive Bayes\n",
    "## Cuaderno de ejercicios"
   ]
  },
  {
   "attachments": {
    "image.png": {
     "image/png": "[encoded data removed]"
    }
   },
   "cell_type": "markdown",
   "id": "f2fed516",
   "metadata": {},
   "source": [
    "**Ejercicio 1**\n",
    "\n",
    "Con la siguiente tabla de verosimilitud hallar la probabilidad aposterior de que un correo sea correo deseado si contiene la palabra Unsubscribe. \n",
    "\n",
    "\n",
    "![image.png](attachment:image.png)"
   ]
  },
  {
   "cell_type": "code",
   "execution_count": null,
   "id": "f97baa89",
   "metadata": {},
   "outputs": [],
   "source": [
    "# P( ham |'Unsubscribe' ) = P('Unsubscribe'|ham) ^ P(ham) / P('Unsubscribe')\n",
    "P_ham = ((23/80)*(80/100)) / (35/100)\n",
    "print('probabilidad posterior P (ham|unsubscribe): '+str(P_ham))"
   ]
  },
  {
   "cell_type": "markdown",
   "id": "eedcde4a",
   "metadata": {},
   "source": [
    "**Ejercicio 2**\n",
    "\n",
    "Crear un modelo Naive Bayes con el dataset de iris que se encuentra en la librería de sklearn. El modelo debe predecir la clase de flor. Analice si es un modelo de regresión o de clasificación y aplique las mejores métricas para evaluar el modelo. \n",
    "\n",
    " from sklearn.datasets import load_iris\n",
    " \n",
    " data = load_iris()\n"
   ]
  },
  {
   "cell_type": "code",
   "execution_count": null,
   "id": "f1e06837",
   "metadata": {},
   "outputs": [],
   "source": [
    "from sklearn.datasets import load_iris\n",
    "\n",
    "data = load_iris()"
   ]
  },
  {
   "cell_type": "code",
   "execution_count": null,
   "id": "961a53e7",
   "metadata": {},
   "outputs": [],
   "source": [
    "y = data.target\n",
    "X = data.data"
   ]
  },
  {
   "cell_type": "code",
   "execution_count": null,
   "id": "376c8d23",
   "metadata": {},
   "outputs": [],
   "source": [
    "data.target_names"
   ]
  },
  {
   "cell_type": "code",
   "execution_count": null,
   "id": "d790b2ac",
   "metadata": {},
   "outputs": [],
   "source": [
    "# separamos datos en entrenamiento y test\n",
    "\n",
    "from sklearn.model_selection import train_test_split\n",
    "X_train, X_test, y_train, y_test = train_test_split(X, y, test_size = 0.20, random_state = 0)"
   ]
  },
  {
   "cell_type": "code",
   "execution_count": null,
   "id": "fb0819e9",
   "metadata": {},
   "outputs": [],
   "source": [
    "from sklearn.naive_bayes import GaussianNB\n",
    "classifier = GaussianNB()\n",
    "classifier.fit(X_train, y_train)"
   ]
  },
  {
   "cell_type": "code",
   "execution_count": null,
   "id": "7eebe8c7",
   "metadata": {},
   "outputs": [],
   "source": [
    "y_pred  =  classifier.predict(X_test)"
   ]
  },
  {
   "cell_type": "code",
   "execution_count": null,
   "id": "995a703b",
   "metadata": {},
   "outputs": [],
   "source": [
    "from sklearn.metrics import confusion_matrix,accuracy_score\n",
    "cm = confusion_matrix(y_test, y_pred)\n",
    "ac = accuracy_score(y_test,y_pred)"
   ]
  },
  {
   "cell_type": "code",
   "execution_count": null,
   "id": "e733a242",
   "metadata": {},
   "outputs": [],
   "source": [
    "from sklearn.metrics import precision_recall_fscore_support\n",
    "\n",
    "precision_recall_fscore_support(y_test, y_pred, average=None, \n",
    "                                labels=[0, 1, 2])"
   ]
  },
  {
   "cell_type": "markdown",
   "id": "d9039c0f",
   "metadata": {},
   "source": [
    "_Conclusiones_: Hemos realizado una tarea de clasifición. Para esta tarea, hemos generado un modelo con Naive Bayes que funciona muy bien para clasificar este dataset. Tiene valores de precisión y recall muy altos para todas las clases. Falla algo más en la clase 2, donde es capaz de detectar menos flores de esa clase. Habría que observar la distribución de valores y quizás sea porque sea una clase cuyos valores solapen con los de otras y sea más dificil de detectar."
   ]
  },
  {
   "cell_type": "markdown",
   "id": "df2cb271",
   "metadata": {},
   "source": [
    "**Ejercicio 3**\n",
    "\n",
    "Crear un modelo Naive Bayes con el dataset de diabetes que se encuentra en la librería de sklearn. El modelo debe predecir la progresión de la enfermedad. Analice si es un modelo de regresión o de clasificación y aplique las mejores métricas para evaluar el modelo. \n",
    "\n",
    "diabetes = datasets.load_diabetes()"
   ]
  },
  {
   "cell_type": "code",
   "execution_count": 1,
   "id": "0a1def0f",
   "metadata": {},
   "outputs": [],
   "source": [
    "from sklearn.datasets import load_diabetes\n",
    "\n",
    "data = load_diabetes()"
   ]
  },
  {
   "cell_type": "code",
   "execution_count": 2,
   "id": "a942b0b8",
   "metadata": {},
   "outputs": [],
   "source": [
    "X = data.data\n",
    "y = data.target"
   ]
  },
  {
   "cell_type": "code",
   "execution_count": 4,
   "id": "0889f29f-41f8-4f76-a024-cb7a51fc3994",
   "metadata": {},
   "outputs": [
    {
     "data": {
      "text/plain": [
       "array([151.,  75., 141., 206., 135.,  97., 138.,  63., 110., 310., 101.,\n",
       "        69., 179., 185., 118., 171., 166., 144.,  97., 168.,  68.,  49.,\n",
       "        68., 245., 184., 202., 137.,  85., 131., 283., 129.,  59., 341.,\n",
       "        87.,  65., 102., 265., 276., 252.,  90., 100.,  55.,  61.,  92.,\n",
       "       259.,  53., 190., 142.,  75., 142., 155., 225.,  59., 104., 182.,\n",
       "       128.,  52.,  37., 170., 170.,  61., 144.,  52., 128.,  71., 163.,\n",
       "       150.,  97., 160., 178.,  48., 270., 202., 111.,  85.,  42., 170.,\n",
       "       200., 252., 113., 143.,  51.,  52., 210.,  65., 141.,  55., 134.,\n",
       "        42., 111.,  98., 164.,  48.,  96.,  90., 162., 150., 279.,  92.,\n",
       "        83., 128., 102., 302., 198.,  95.,  53., 134., 144., 232.,  81.,\n",
       "       104.,  59., 246., 297., 258., 229., 275., 281., 179., 200., 200.,\n",
       "       173., 180.,  84., 121., 161.,  99., 109., 115., 268., 274., 158.,\n",
       "       107.,  83., 103., 272.,  85., 280., 336., 281., 118., 317., 235.,\n",
       "        60., 174., 259., 178., 128.,  96., 126., 288.,  88., 292.,  71.,\n",
       "       197., 186.,  25.,  84.,  96., 195.,  53., 217., 172., 131., 214.,\n",
       "        59.,  70., 220., 268., 152.,  47.,  74., 295., 101., 151., 127.,\n",
       "       237., 225.,  81., 151., 107.,  64., 138., 185., 265., 101., 137.,\n",
       "       143., 141.,  79., 292., 178.,  91., 116.,  86., 122.,  72., 129.,\n",
       "       142.,  90., 158.,  39., 196., 222., 277.,  99., 196., 202., 155.,\n",
       "        77., 191.,  70.,  73.,  49.,  65., 263., 248., 296., 214., 185.,\n",
       "        78.,  93., 252., 150.,  77., 208.,  77., 108., 160.,  53., 220.,\n",
       "       154., 259.,  90., 246., 124.,  67.,  72., 257., 262., 275., 177.,\n",
       "        71.,  47., 187., 125.,  78.,  51., 258., 215., 303., 243.,  91.,\n",
       "       150., 310., 153., 346.,  63.,  89.,  50.,  39., 103., 308., 116.,\n",
       "       145.,  74.,  45., 115., 264.,  87., 202., 127., 182., 241.,  66.,\n",
       "        94., 283.,  64., 102., 200., 265.,  94., 230., 181., 156., 233.,\n",
       "        60., 219.,  80.,  68., 332., 248.,  84., 200.,  55.,  85.,  89.,\n",
       "        31., 129.,  83., 275.,  65., 198., 236., 253., 124.,  44., 172.,\n",
       "       114., 142., 109., 180., 144., 163., 147.,  97., 220., 190., 109.,\n",
       "       191., 122., 230., 242., 248., 249., 192., 131., 237.,  78., 135.,\n",
       "       244., 199., 270., 164.,  72.,  96., 306.,  91., 214.,  95., 216.,\n",
       "       263., 178., 113., 200., 139., 139.,  88., 148.,  88., 243.,  71.,\n",
       "        77., 109., 272.,  60.,  54., 221.,  90., 311., 281., 182., 321.,\n",
       "        58., 262., 206., 233., 242., 123., 167.,  63., 197.,  71., 168.,\n",
       "       140., 217., 121., 235., 245.,  40.,  52., 104., 132.,  88.,  69.,\n",
       "       219.,  72., 201., 110.,  51., 277.,  63., 118.,  69., 273., 258.,\n",
       "        43., 198., 242., 232., 175.,  93., 168., 275., 293., 281.,  72.,\n",
       "       140., 189., 181., 209., 136., 261., 113., 131., 174., 257.,  55.,\n",
       "        84.,  42., 146., 212., 233.,  91., 111., 152., 120.,  67., 310.,\n",
       "        94., 183.,  66., 173.,  72.,  49.,  64.,  48., 178., 104., 132.,\n",
       "       220.,  57.])"
      ]
     },
     "execution_count": 4,
     "metadata": {},
     "output_type": "execute_result"
    }
   ],
   "source": [
    "y"
   ]
  },
  {
   "cell_type": "code",
   "execution_count": null,
   "id": "9dc94687",
   "metadata": {},
   "outputs": [],
   "source": [
    "# separamos datos en entrenamiento y test\n",
    "\n",
    "from sklearn.model_selection import train_test_split\n",
    "from sklearn.naive_bayes import GaussianNB\n",
    "\n",
    "X_train, X_test, y_train, y_test = train_test_split(X, y, test_size = 0.20, random_state = 0)\n",
    "\n",
    "classifier = GaussianNB()\n",
    "classifier.fit(X_train, y_train)\n",
    "\n",
    "y_pred  =  classifier.predict(X_test)"
   ]
  },
  {
   "cell_type": "code",
   "execution_count": null,
   "id": "3cff1c06",
   "metadata": {},
   "outputs": [],
   "source": [
    "# métricas de regresion\n",
    "from sklearn.metrics import explained_variance_score\n",
    "from sklearn.metrics import max_error\n",
    "from sklearn.metrics import mean_absolute_error\n",
    "from sklearn.metrics import mean_squared_error\n",
    "\n",
    "explained_variance_score(y_test, y_pred)"
   ]
  },
  {
   "cell_type": "code",
   "execution_count": null,
   "id": "e195fd73",
   "metadata": {},
   "outputs": [],
   "source": [
    "max_error(y_test, y_pred)"
   ]
  },
  {
   "cell_type": "code",
   "execution_count": null,
   "id": "2e0ab152",
   "metadata": {},
   "outputs": [],
   "source": [
    "mean_absolute_error(y_test, y_pred)"
   ]
  },
  {
   "cell_type": "code",
   "execution_count": null,
   "id": "dd718858",
   "metadata": {},
   "outputs": [],
   "source": [
    "mean_squared_error(y_test, y_pred)"
   ]
  },
  {
   "cell_type": "code",
   "execution_count": null,
   "id": "e03cfc8e",
   "metadata": {},
   "outputs": [],
   "source": [
    "from sklearn.metrics import median_absolute_error\n",
    "\n",
    "median_absolute_error(y_test, y_pred)"
   ]
  },
  {
   "cell_type": "markdown",
   "id": "a99d758c",
   "metadata": {},
   "source": [
    "Es un dataset para regresion, aplicar un método de clasificación como Naive Bayes, no es una buena opción a pesar de que cumple la condición de que sus características se aproximan con una distribución normal."
   ]
  },
  {
   "cell_type": "markdown",
   "id": "273d8847",
   "metadata": {},
   "source": [
    "**Ejercicio 4**\n",
    "\n",
    "Tenemos cuatro clientes, conocemos si compró algo o no en base a sus ingresos `(low, médium, high)`.\n",
    "\n",
    "Usando la regla de Bayes, calcular la probabilidad de que un cliente compre un producto dado que tiene altos ingresos.\n",
    "\n",
    "| Buy | Income |\n",
    "| ------------- | ------------- |\n",
    "| yes | high |\n",
    "| no | high |\n",
    "| no | medium |\n",
    "| yes | low |"
   ]
  },
  {
   "cell_type": "code",
   "execution_count": null,
   "id": "5eaf654e",
   "metadata": {},
   "outputs": [],
   "source": [
    "# P(buy | high) = P(high | buy) * P(buy) / P(high)\n",
    "P_bH = ((1/2)*(2/4))/(2/4)"
   ]
  },
  {
   "cell_type": "code",
   "execution_count": null,
   "id": "74a19af2",
   "metadata": {},
   "outputs": [],
   "source": [
    "print('probabilidad Pb_H:'+str(P_bH))"
   ]
  },
  {
   "cell_type": "code",
   "execution_count": null,
   "id": "b9b330e5",
   "metadata": {},
   "outputs": [],
   "source": []
  }
 ],
 "metadata": {
  "kernelspec": {
   "display_name": "Python 3 (ipykernel)",
   "language": "python",
   "name": "python3"
  },
  "language_info": {
   "codemirror_mode": {
    "name": "ipython",
    "version": 3
   },
   "file_extension": ".py",
   "mimetype": "text/x-python",
   "name": "python",
   "nbconvert_exporter": "python",
   "pygments_lexer": "ipython3",
   "version": "3.8.18"
  }
 },
 "nbformat": 4,
 "nbformat_minor": 5
}
