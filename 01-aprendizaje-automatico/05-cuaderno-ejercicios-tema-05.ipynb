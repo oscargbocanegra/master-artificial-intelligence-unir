{
 "cells": [
  {
   "cell_type": "markdown",
   "id": "e2d217c9",
   "metadata": {},
   "source": [
    "# Tema 5: Árboles de decisión\n",
    "## Cuaderno de ejercicios\n",
    "\n",
    "_Para facilitar la comprensión de los ejercicios no se ha implementado ningún algoritmo ni función para realizar los cálculos._"
   ]
  },
  {
   "cell_type": "markdown",
   "id": "59f84a76",
   "metadata": {},
   "source": [
    "**Ejercicio 1**. Dado el conjuto de datos de la tabla (Buy Computer data), construir un árbol de decisión y predecir la clase para el siguiente ejemplo: age = joven, income=medium, student=yes, credit-rating=fair.\n",
    "\n",
    "|id|age|income|student|credit_rating|Buy_Computer|\n",
    "|---|---|---|---|---|---|\n",
    "|1\t|youth\t|high\t|no\t|fair|\tno|\n",
    "|2\t|youth\t|high\t|no\t|excellent|\tno|\n",
    "|3\t|middle_age|\thigh\t|no\t|fair|\tyes|\n",
    "|4\t|senior\t|medium\t|no\t|fair|\tyes|\n",
    "|5\t|senior\t|low\t|yes\t|fair|\tyes|\n",
    "|6\t|senior|\tlow\t|yes\t|excellent|\tno|\n",
    "|7\t|middle_age|\tlow\t|yes|\texcellent|\tyes|\n",
    "|8\t|youth|\tmedium\t|no\t|fair|\tno|\n",
    "|9\t|youth|\tlow\t|yes|\tfair\t|yes|\n",
    "|10\t|senior|\tmedium|\tyes|\tfair|\tyes|\n",
    "|11\t|youth|\tmedium\t|yes\t|excellent|\tyes|\n",
    "|12\t|middle_age|\tmedium|\tno\t|excellent|\tyes|\n",
    "|13\t|middle_age|\thigh\t|yes|\tfair|\tyes|\n",
    "|14\t|senior|\tmedium\t| no\t|excellent|\tno|"
   ]
  },
  {
   "cell_type": "markdown",
   "id": "c6b09f6e",
   "metadata": {},
   "source": [
    "**Ejercicio 2.** Considere una tarea de clasificación de dos categorías con los siguientes datos de  entrenamiento:\n",
    "\n",
    "|attr1| attr2 |attr3| attr4| class|\n",
    "|---|---|---|---|---|\n",
    "|a |1 |c |-1 |c1|\n",
    "|b |0 |c |-1 |c1|\n",
    "|a |0 |c |1 |c1|\n",
    "|b |1 |c |1 |c1|\n",
    "|b |0 |c |1 |c2|\n",
    "|a |0| a |-1 |c2|\n",
    "|a |1 |a |-1 |c2|\n",
    "|b |1 |c |-1 |c2|\n",
    "\n",
    "Construya un árbol de decisión completo (sin podar) para estos datos usando la ganancia de información como criterio de división. Mostrar todos los cálculos de entropía"
   ]
  }
 ],
 "metadata": {
  "kernelspec": {
   "display_name": "Python 3 (ipykernel)",
   "language": "python",
   "name": "python3"
  },
  "language_info": {
   "codemirror_mode": {
    "name": "ipython",
    "version": 3
   },
   "file_extension": ".py",
   "mimetype": "text/x-python",
   "name": "python",
   "nbconvert_exporter": "python",
   "pygments_lexer": "ipython3",
   "version": "3.8.15"
  }
 },
 "nbformat": 4,
 "nbformat_minor": 5
}
