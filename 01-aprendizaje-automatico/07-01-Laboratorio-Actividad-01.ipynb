{
 "cells": [
  {
   "cell_type": "markdown",
   "id": "e7acabdb",
   "metadata": {},
   "source": [
    "_Aprendizaje Automático_\n",
    "\n",
    "_Máster Universitario en Inteligencia Artificial_\n",
    "\n",
    "# Laboratorio: Regresión lineal y árboles de decisión para tareas de regresión\n",
    "\n",
    "\n",
    "## Objetivos\n",
    "\n",
    "Mediante esta actividad se pretende que ponga en práctica los pasos para la resolución de un problema de machine learning, el tratamiento de datos y la creación de modelos basados en regresión lineal y árboles de decisión. El objetivo es comprender de forma práctica con un problema determinado las diferencias que existen a la hora de entrenar los diferentes modelos.\n",
    "\n",
    "- Iniciarse en el Análisis Exploratorio de Datos (EDA) para los problemas de Machine Learning.\n",
    "- Entender y aplicar los conceptos de la Regresión Lineal Múltiple a un problema de regresión.\n",
    "- Entender y aplicar los conceptos de Árboles de Decisión a un problema de regresión.\n",
    "- Evaluar y analizar los resultados de los clasificadores.\n",
    "- Investigar la aplicación de los modelos de clasificación a problemas reales.\n",
    "\n",
    "\n",
    "## Descripción de la actividad\n",
    "\n",
    "Debes completar los espacios indicados en el notebook con el código solicitado y la respuesta, en función de lo que se solicite. Ten encuenta que las celdas vacías indican cuántas líneas debe ocupar la respuesta, por lo general no más de una línea.\n",
    "\n",
    "El conjunto de datos con el que vamos a trabajar se encuentra en el siguiente enlace: https://archive.ics.uci.edu/dataset/360/air+quality\n",
    "\n",
    "Se trata de un dataset con un conjunto de datos sobre calidad del aire. El conjunto de datos contiene 9358 instancias de respuestas promediadas por hora de una matriz de 5 sensores químicos de óxido de metal integrados en un dispositivo multisensor químico de calidad del aire. El dispositivo estaba ubicado en un área significativamente contaminada, al nivel de la carretera, dentro de una ciudad italiana. Los datos se registraron desde marzo de 2004 hasta febrero de 2005 (un año).\n",
    "\n",
    "El objetivo de la regresión será predecir la calidad del aire para un determinado día.\n",
    "\n",
    "### Tareas que se deben realizar\n",
    "\n",
    "- Análisis descriptivo de los datos:\n",
    "   - Debe completarse el código solicitado y responder a las preguntas. Todo ello en el notebook dado como base.\n",
    "- Regresión:\n",
    "  - Debe completarse el código solicitado y responder a las preguntas. Todo ello en el notebook dado como base.\n",
    "- Investigación:\n",
    "  - Buscar un artículo científico (https://scholar.google.es/) con un caso de uso de regresión empleando una de las dos técnicas (o ambas) vistas en la actividad. Los artículos deben estar en revistas científicas, y deben ser posteriores a 2015. No debe utilizar técnicas de Deep Learning.\n",
    "  - Para el artículo indicar:\n",
    "    - Objetivo: cuál es el objetivo de la investigación, es decir a qué problema real está aplicando la regresión.\n",
    "    - Cómo utilizan las técnicas de regresión, si realizan alguna adaptación de los algoritmos indicarse.\n",
    "    - Principales resultados de la aplicación y de la investigación.\n"
   ]
  },
  {
   "cell_type": "markdown",
   "id": "19ceaba2",
   "metadata": {},
   "source": [
    "### Análisis descriptivo de los datos\n",
    "A continuación vas a encontrar una serie de preguntas que tendrás que responder. Para responder tendrás que escribir (y ejecutar) una (o más de una) línea de código, y a continuación indicar la respuesta en la celda indicada."
   ]
  },
  {
   "cell_type": "code",
   "execution_count": 14,
   "id": "bff4b5f9",
   "metadata": {},
   "outputs": [],
   "source": [
    "## Importando librerias..\n",
    "import pandas as pd\n",
    "import seaborn as sns\n",
    "import matplotlib.pyplot as plt\n",
    "import os"
   ]
  },
  {
   "cell_type": "code",
   "execution_count": 32,
   "id": "933235df",
   "metadata": {},
   "outputs": [],
   "source": [
    "## cargar el dataset\n",
    "mainpath = \"/proyectos/Master-IA-Unir/02-aprendizaje-automatico/datasets/\"\n",
    "filename = \"AirQualityUCI.csv\"\n",
    "fullpath = os.path.join(mainpath, filename)\n",
    "data = pd.read_csv(fullpath, sep=';')"
   ]
  },
  {
   "cell_type": "code",
   "execution_count": 33,
   "id": "c9c07ce4",
   "metadata": {},
   "outputs": [
    {
     "data": {
      "application/vnd.microsoft.datawrangler.viewer.v0+json": {
       "columns": [
        {
         "name": "index",
         "rawType": "int64",
         "type": "integer"
        },
        {
         "name": "Date",
         "rawType": "object",
         "type": "string"
        },
        {
         "name": "Time",
         "rawType": "object",
         "type": "string"
        },
        {
         "name": "CO(GT)",
         "rawType": "object",
         "type": "string"
        },
        {
         "name": "PT08.S1(CO)",
         "rawType": "float64",
         "type": "float"
        },
        {
         "name": "NMHC(GT)",
         "rawType": "float64",
         "type": "float"
        },
        {
         "name": "C6H6(GT)",
         "rawType": "object",
         "type": "string"
        },
        {
         "name": "PT08.S2(NMHC)",
         "rawType": "float64",
         "type": "float"
        },
        {
         "name": "NOx(GT)",
         "rawType": "float64",
         "type": "float"
        },
        {
         "name": "PT08.S3(NOx)",
         "rawType": "float64",
         "type": "float"
        },
        {
         "name": "NO2(GT)",
         "rawType": "float64",
         "type": "float"
        },
        {
         "name": "PT08.S4(NO2)",
         "rawType": "float64",
         "type": "float"
        },
        {
         "name": "PT08.S5(O3)",
         "rawType": "float64",
         "type": "float"
        },
        {
         "name": "T",
         "rawType": "object",
         "type": "string"
        },
        {
         "name": "RH",
         "rawType": "object",
         "type": "string"
        },
        {
         "name": "AH",
         "rawType": "object",
         "type": "string"
        },
        {
         "name": "Unnamed: 15",
         "rawType": "float64",
         "type": "float"
        },
        {
         "name": "Unnamed: 16",
         "rawType": "float64",
         "type": "float"
        }
       ],
       "conversionMethod": "pd.DataFrame",
       "ref": "6b351735-eb1f-4bb4-8517-2c3d61d1e283",
       "rows": [
        [
         "0",
         "10/03/2004",
         "18.00.00",
         "2,6",
         "1360.0",
         "150.0",
         "11,9",
         "1046.0",
         "166.0",
         "1056.0",
         "113.0",
         "1692.0",
         "1268.0",
         "13,6",
         "48,9",
         "0,7578",
         null,
         null
        ],
        [
         "1",
         "10/03/2004",
         "19.00.00",
         "2",
         "1292.0",
         "112.0",
         "9,4",
         "955.0",
         "103.0",
         "1174.0",
         "92.0",
         "1559.0",
         "972.0",
         "13,3",
         "47,7",
         "0,7255",
         null,
         null
        ],
        [
         "2",
         "10/03/2004",
         "20.00.00",
         "2,2",
         "1402.0",
         "88.0",
         "9,0",
         "939.0",
         "131.0",
         "1140.0",
         "114.0",
         "1555.0",
         "1074.0",
         "11,9",
         "54,0",
         "0,7502",
         null,
         null
        ],
        [
         "3",
         "10/03/2004",
         "21.00.00",
         "2,2",
         "1376.0",
         "80.0",
         "9,2",
         "948.0",
         "172.0",
         "1092.0",
         "122.0",
         "1584.0",
         "1203.0",
         "11,0",
         "60,0",
         "0,7867",
         null,
         null
        ],
        [
         "4",
         "10/03/2004",
         "22.00.00",
         "1,6",
         "1272.0",
         "51.0",
         "6,5",
         "836.0",
         "131.0",
         "1205.0",
         "116.0",
         "1490.0",
         "1110.0",
         "11,2",
         "59,6",
         "0,7888",
         null,
         null
        ]
       ],
       "shape": {
        "columns": 17,
        "rows": 5
       }
      },
      "text/html": [
       "<div>\n",
       "<style scoped>\n",
       "    .dataframe tbody tr th:only-of-type {\n",
       "        vertical-align: middle;\n",
       "    }\n",
       "\n",
       "    .dataframe tbody tr th {\n",
       "        vertical-align: top;\n",
       "    }\n",
       "\n",
       "    .dataframe thead th {\n",
       "        text-align: right;\n",
       "    }\n",
       "</style>\n",
       "<table border=\"1\" class=\"dataframe\">\n",
       "  <thead>\n",
       "    <tr style=\"text-align: right;\">\n",
       "      <th></th>\n",
       "      <th>Date</th>\n",
       "      <th>Time</th>\n",
       "      <th>CO(GT)</th>\n",
       "      <th>PT08.S1(CO)</th>\n",
       "      <th>NMHC(GT)</th>\n",
       "      <th>C6H6(GT)</th>\n",
       "      <th>PT08.S2(NMHC)</th>\n",
       "      <th>NOx(GT)</th>\n",
       "      <th>PT08.S3(NOx)</th>\n",
       "      <th>NO2(GT)</th>\n",
       "      <th>PT08.S4(NO2)</th>\n",
       "      <th>PT08.S5(O3)</th>\n",
       "      <th>T</th>\n",
       "      <th>RH</th>\n",
       "      <th>AH</th>\n",
       "      <th>Unnamed: 15</th>\n",
       "      <th>Unnamed: 16</th>\n",
       "    </tr>\n",
       "  </thead>\n",
       "  <tbody>\n",
       "    <tr>\n",
       "      <th>0</th>\n",
       "      <td>10/03/2004</td>\n",
       "      <td>18.00.00</td>\n",
       "      <td>2,6</td>\n",
       "      <td>1360.0</td>\n",
       "      <td>150.0</td>\n",
       "      <td>11,9</td>\n",
       "      <td>1046.0</td>\n",
       "      <td>166.0</td>\n",
       "      <td>1056.0</td>\n",
       "      <td>113.0</td>\n",
       "      <td>1692.0</td>\n",
       "      <td>1268.0</td>\n",
       "      <td>13,6</td>\n",
       "      <td>48,9</td>\n",
       "      <td>0,7578</td>\n",
       "      <td>NaN</td>\n",
       "      <td>NaN</td>\n",
       "    </tr>\n",
       "    <tr>\n",
       "      <th>1</th>\n",
       "      <td>10/03/2004</td>\n",
       "      <td>19.00.00</td>\n",
       "      <td>2</td>\n",
       "      <td>1292.0</td>\n",
       "      <td>112.0</td>\n",
       "      <td>9,4</td>\n",
       "      <td>955.0</td>\n",
       "      <td>103.0</td>\n",
       "      <td>1174.0</td>\n",
       "      <td>92.0</td>\n",
       "      <td>1559.0</td>\n",
       "      <td>972.0</td>\n",
       "      <td>13,3</td>\n",
       "      <td>47,7</td>\n",
       "      <td>0,7255</td>\n",
       "      <td>NaN</td>\n",
       "      <td>NaN</td>\n",
       "    </tr>\n",
       "    <tr>\n",
       "      <th>2</th>\n",
       "      <td>10/03/2004</td>\n",
       "      <td>20.00.00</td>\n",
       "      <td>2,2</td>\n",
       "      <td>1402.0</td>\n",
       "      <td>88.0</td>\n",
       "      <td>9,0</td>\n",
       "      <td>939.0</td>\n",
       "      <td>131.0</td>\n",
       "      <td>1140.0</td>\n",
       "      <td>114.0</td>\n",
       "      <td>1555.0</td>\n",
       "      <td>1074.0</td>\n",
       "      <td>11,9</td>\n",
       "      <td>54,0</td>\n",
       "      <td>0,7502</td>\n",
       "      <td>NaN</td>\n",
       "      <td>NaN</td>\n",
       "    </tr>\n",
       "    <tr>\n",
       "      <th>3</th>\n",
       "      <td>10/03/2004</td>\n",
       "      <td>21.00.00</td>\n",
       "      <td>2,2</td>\n",
       "      <td>1376.0</td>\n",
       "      <td>80.0</td>\n",
       "      <td>9,2</td>\n",
       "      <td>948.0</td>\n",
       "      <td>172.0</td>\n",
       "      <td>1092.0</td>\n",
       "      <td>122.0</td>\n",
       "      <td>1584.0</td>\n",
       "      <td>1203.0</td>\n",
       "      <td>11,0</td>\n",
       "      <td>60,0</td>\n",
       "      <td>0,7867</td>\n",
       "      <td>NaN</td>\n",
       "      <td>NaN</td>\n",
       "    </tr>\n",
       "    <tr>\n",
       "      <th>4</th>\n",
       "      <td>10/03/2004</td>\n",
       "      <td>22.00.00</td>\n",
       "      <td>1,6</td>\n",
       "      <td>1272.0</td>\n",
       "      <td>51.0</td>\n",
       "      <td>6,5</td>\n",
       "      <td>836.0</td>\n",
       "      <td>131.0</td>\n",
       "      <td>1205.0</td>\n",
       "      <td>116.0</td>\n",
       "      <td>1490.0</td>\n",
       "      <td>1110.0</td>\n",
       "      <td>11,2</td>\n",
       "      <td>59,6</td>\n",
       "      <td>0,7888</td>\n",
       "      <td>NaN</td>\n",
       "      <td>NaN</td>\n",
       "    </tr>\n",
       "  </tbody>\n",
       "</table>\n",
       "</div>"
      ],
      "text/plain": [
       "         Date      Time CO(GT)  PT08.S1(CO)  NMHC(GT) C6H6(GT)  PT08.S2(NMHC)  \\\n",
       "0  10/03/2004  18.00.00    2,6       1360.0     150.0     11,9         1046.0   \n",
       "1  10/03/2004  19.00.00      2       1292.0     112.0      9,4          955.0   \n",
       "2  10/03/2004  20.00.00    2,2       1402.0      88.0      9,0          939.0   \n",
       "3  10/03/2004  21.00.00    2,2       1376.0      80.0      9,2          948.0   \n",
       "4  10/03/2004  22.00.00    1,6       1272.0      51.0      6,5          836.0   \n",
       "\n",
       "   NOx(GT)  PT08.S3(NOx)  NO2(GT)  PT08.S4(NO2)  PT08.S5(O3)     T    RH  \\\n",
       "0    166.0        1056.0    113.0        1692.0       1268.0  13,6  48,9   \n",
       "1    103.0        1174.0     92.0        1559.0        972.0  13,3  47,7   \n",
       "2    131.0        1140.0    114.0        1555.0       1074.0  11,9  54,0   \n",
       "3    172.0        1092.0    122.0        1584.0       1203.0  11,0  60,0   \n",
       "4    131.0        1205.0    116.0        1490.0       1110.0  11,2  59,6   \n",
       "\n",
       "       AH  Unnamed: 15  Unnamed: 16  \n",
       "0  0,7578          NaN          NaN  \n",
       "1  0,7255          NaN          NaN  \n",
       "2  0,7502          NaN          NaN  \n",
       "3  0,7867          NaN          NaN  \n",
       "4  0,7888          NaN          NaN  "
      ]
     },
     "execution_count": 33,
     "metadata": {},
     "output_type": "execute_result"
    }
   ],
   "source": [
    "data.head()"
   ]
  },
  {
   "cell_type": "code",
   "execution_count": 34,
   "id": "e18abd86",
   "metadata": {},
   "outputs": [
    {
     "name": "stdout",
     "output_type": "stream",
     "text": [
      "<class 'pandas.core.frame.DataFrame'>\n",
      "RangeIndex: 9471 entries, 0 to 9470\n",
      "Data columns (total 17 columns):\n",
      " #   Column         Non-Null Count  Dtype  \n",
      "---  ------         --------------  -----  \n",
      " 0   Date           9357 non-null   object \n",
      " 1   Time           9357 non-null   object \n",
      " 2   CO(GT)         9357 non-null   object \n",
      " 3   PT08.S1(CO)    9357 non-null   float64\n",
      " 4   NMHC(GT)       9357 non-null   float64\n",
      " 5   C6H6(GT)       9357 non-null   object \n",
      " 6   PT08.S2(NMHC)  9357 non-null   float64\n",
      " 7   NOx(GT)        9357 non-null   float64\n",
      " 8   PT08.S3(NOx)   9357 non-null   float64\n",
      " 9   NO2(GT)        9357 non-null   float64\n",
      " 10  PT08.S4(NO2)   9357 non-null   float64\n",
      " 11  PT08.S5(O3)    9357 non-null   float64\n",
      " 12  T              9357 non-null   object \n",
      " 13  RH             9357 non-null   object \n",
      " 14  AH             9357 non-null   object \n",
      " 15  Unnamed: 15    0 non-null      float64\n",
      " 16  Unnamed: 16    0 non-null      float64\n",
      "dtypes: float64(10), object(7)\n",
      "memory usage: 1.2+ MB\n"
     ]
    }
   ],
   "source": [
    "## ¿cuál es el tipo de datos de cada una de las columnas?.\n",
    "data.info()"
   ]
  },
  {
   "cell_type": "code",
   "execution_count": 35,
   "id": "51f405b4",
   "metadata": {},
   "outputs": [
    {
     "name": "stdout",
     "output_type": "stream",
     "text": [
      "El dataset tiene 9471 instancias.\n"
     ]
    }
   ],
   "source": [
    "## ¿cuántas instancias tiene el dataset?\n",
    "num_instancias  = data.shape[0]\n",
    "print(f\"El dataset tiene {num_instancias} instancias.\")"
   ]
  },
  {
   "cell_type": "code",
   "execution_count": 76,
   "id": "a52b4cf2",
   "metadata": {},
   "outputs": [
    {
     "data": {
      "text/plain": [
       "Date              114\n",
       "Time              114\n",
       "CO(GT)            114\n",
       "PT08.S1(CO)       114\n",
       "NMHC(GT)          114\n",
       "C6H6(GT)          114\n",
       "PT08.S2(NMHC)     114\n",
       "NOx(GT)           114\n",
       "PT08.S3(NOx)      114\n",
       "NO2(GT)           114\n",
       "PT08.S4(NO2)      114\n",
       "PT08.S5(O3)       114\n",
       "T                 114\n",
       "RH                114\n",
       "AH                114\n",
       "Unnamed: 15      9471\n",
       "Unnamed: 16      9471\n",
       "dtype: int64"
      ]
     },
     "execution_count": 76,
     "metadata": {},
     "output_type": "execute_result"
    }
   ],
   "source": [
    "## ¿existen valores nulos en el dataset?\n",
    "data.isnull().sum()"
   ]
  },
  {
   "cell_type": "code",
   "execution_count": 77,
   "id": "1cf5317d",
   "metadata": {},
   "outputs": [],
   "source": [
    "# Reemplazar comas por puntos y convertir a numérico\n",
    "data = data.replace(',', '.', regex=True).apply(pd.to_numeric, errors='ignore')"
   ]
  },
  {
   "cell_type": "code",
   "execution_count": 78,
   "id": "ad5f4941",
   "metadata": {},
   "outputs": [
    {
     "data": {
      "text/html": [
       "<div>\n",
       "<style scoped>\n",
       "    .dataframe tbody tr th:only-of-type {\n",
       "        vertical-align: middle;\n",
       "    }\n",
       "\n",
       "    .dataframe tbody tr th {\n",
       "        vertical-align: top;\n",
       "    }\n",
       "\n",
       "    .dataframe thead th {\n",
       "        text-align: right;\n",
       "    }\n",
       "</style>\n",
       "<table border=\"1\" class=\"dataframe\">\n",
       "  <thead>\n",
       "    <tr style=\"text-align: right;\">\n",
       "      <th></th>\n",
       "      <th>Date</th>\n",
       "      <th>Time</th>\n",
       "      <th>CO(GT)</th>\n",
       "      <th>PT08.S1(CO)</th>\n",
       "      <th>NMHC(GT)</th>\n",
       "      <th>C6H6(GT)</th>\n",
       "      <th>PT08.S2(NMHC)</th>\n",
       "      <th>NOx(GT)</th>\n",
       "      <th>PT08.S3(NOx)</th>\n",
       "      <th>NO2(GT)</th>\n",
       "      <th>PT08.S4(NO2)</th>\n",
       "      <th>PT08.S5(O3)</th>\n",
       "      <th>T</th>\n",
       "      <th>RH</th>\n",
       "      <th>AH</th>\n",
       "      <th>Unnamed: 15</th>\n",
       "      <th>Unnamed: 16</th>\n",
       "    </tr>\n",
       "  </thead>\n",
       "  <tbody>\n",
       "    <tr>\n",
       "      <th>0</th>\n",
       "      <td>10/03/2004</td>\n",
       "      <td>18.00.00</td>\n",
       "      <td>2.6</td>\n",
       "      <td>1360.0</td>\n",
       "      <td>150.0</td>\n",
       "      <td>11.9</td>\n",
       "      <td>1046.0</td>\n",
       "      <td>166.0</td>\n",
       "      <td>1056.0</td>\n",
       "      <td>113.0</td>\n",
       "      <td>1692.0</td>\n",
       "      <td>1268.0</td>\n",
       "      <td>13.6</td>\n",
       "      <td>48.9</td>\n",
       "      <td>0.7578</td>\n",
       "      <td>NaN</td>\n",
       "      <td>NaN</td>\n",
       "    </tr>\n",
       "    <tr>\n",
       "      <th>1</th>\n",
       "      <td>10/03/2004</td>\n",
       "      <td>19.00.00</td>\n",
       "      <td>2.0</td>\n",
       "      <td>1292.0</td>\n",
       "      <td>112.0</td>\n",
       "      <td>9.4</td>\n",
       "      <td>955.0</td>\n",
       "      <td>103.0</td>\n",
       "      <td>1174.0</td>\n",
       "      <td>92.0</td>\n",
       "      <td>1559.0</td>\n",
       "      <td>972.0</td>\n",
       "      <td>13.3</td>\n",
       "      <td>47.7</td>\n",
       "      <td>0.7255</td>\n",
       "      <td>NaN</td>\n",
       "      <td>NaN</td>\n",
       "    </tr>\n",
       "    <tr>\n",
       "      <th>2</th>\n",
       "      <td>10/03/2004</td>\n",
       "      <td>20.00.00</td>\n",
       "      <td>2.2</td>\n",
       "      <td>1402.0</td>\n",
       "      <td>88.0</td>\n",
       "      <td>9.0</td>\n",
       "      <td>939.0</td>\n",
       "      <td>131.0</td>\n",
       "      <td>1140.0</td>\n",
       "      <td>114.0</td>\n",
       "      <td>1555.0</td>\n",
       "      <td>1074.0</td>\n",
       "      <td>11.9</td>\n",
       "      <td>54.0</td>\n",
       "      <td>0.7502</td>\n",
       "      <td>NaN</td>\n",
       "      <td>NaN</td>\n",
       "    </tr>\n",
       "    <tr>\n",
       "      <th>3</th>\n",
       "      <td>10/03/2004</td>\n",
       "      <td>21.00.00</td>\n",
       "      <td>2.2</td>\n",
       "      <td>1376.0</td>\n",
       "      <td>80.0</td>\n",
       "      <td>9.2</td>\n",
       "      <td>948.0</td>\n",
       "      <td>172.0</td>\n",
       "      <td>1092.0</td>\n",
       "      <td>122.0</td>\n",
       "      <td>1584.0</td>\n",
       "      <td>1203.0</td>\n",
       "      <td>11.0</td>\n",
       "      <td>60.0</td>\n",
       "      <td>0.7867</td>\n",
       "      <td>NaN</td>\n",
       "      <td>NaN</td>\n",
       "    </tr>\n",
       "    <tr>\n",
       "      <th>4</th>\n",
       "      <td>10/03/2004</td>\n",
       "      <td>22.00.00</td>\n",
       "      <td>1.6</td>\n",
       "      <td>1272.0</td>\n",
       "      <td>51.0</td>\n",
       "      <td>6.5</td>\n",
       "      <td>836.0</td>\n",
       "      <td>131.0</td>\n",
       "      <td>1205.0</td>\n",
       "      <td>116.0</td>\n",
       "      <td>1490.0</td>\n",
       "      <td>1110.0</td>\n",
       "      <td>11.2</td>\n",
       "      <td>59.6</td>\n",
       "      <td>0.7888</td>\n",
       "      <td>NaN</td>\n",
       "      <td>NaN</td>\n",
       "    </tr>\n",
       "  </tbody>\n",
       "</table>\n",
       "</div>"
      ],
      "text/plain": [
       "         Date      Time  CO(GT)  PT08.S1(CO)  NMHC(GT)  C6H6(GT)  \\\n",
       "0  10/03/2004  18.00.00     2.6       1360.0     150.0      11.9   \n",
       "1  10/03/2004  19.00.00     2.0       1292.0     112.0       9.4   \n",
       "2  10/03/2004  20.00.00     2.2       1402.0      88.0       9.0   \n",
       "3  10/03/2004  21.00.00     2.2       1376.0      80.0       9.2   \n",
       "4  10/03/2004  22.00.00     1.6       1272.0      51.0       6.5   \n",
       "\n",
       "   PT08.S2(NMHC)  NOx(GT)  PT08.S3(NOx)  NO2(GT)  PT08.S4(NO2)  PT08.S5(O3)  \\\n",
       "0         1046.0    166.0        1056.0    113.0        1692.0       1268.0   \n",
       "1          955.0    103.0        1174.0     92.0        1559.0        972.0   \n",
       "2          939.0    131.0        1140.0    114.0        1555.0       1074.0   \n",
       "3          948.0    172.0        1092.0    122.0        1584.0       1203.0   \n",
       "4          836.0    131.0        1205.0    116.0        1490.0       1110.0   \n",
       "\n",
       "      T    RH      AH  Unnamed: 15  Unnamed: 16  \n",
       "0  13.6  48.9  0.7578          NaN          NaN  \n",
       "1  13.3  47.7  0.7255          NaN          NaN  \n",
       "2  11.9  54.0  0.7502          NaN          NaN  \n",
       "3  11.0  60.0  0.7867          NaN          NaN  \n",
       "4  11.2  59.6  0.7888          NaN          NaN  "
      ]
     },
     "execution_count": 78,
     "metadata": {},
     "output_type": "execute_result"
    }
   ],
   "source": [
    "data.head()"
   ]
  },
  {
   "cell_type": "code",
   "execution_count": 79,
   "id": "8d10576f",
   "metadata": {},
   "outputs": [
    {
     "name": "stdout",
     "output_type": "stream",
     "text": [
      "<class 'pandas.core.frame.DataFrame'>\n",
      "RangeIndex: 9471 entries, 0 to 9470\n",
      "Data columns (total 17 columns):\n",
      " #   Column         Non-Null Count  Dtype  \n",
      "---  ------         --------------  -----  \n",
      " 0   Date           9357 non-null   object \n",
      " 1   Time           9357 non-null   object \n",
      " 2   CO(GT)         9357 non-null   float64\n",
      " 3   PT08.S1(CO)    9357 non-null   float64\n",
      " 4   NMHC(GT)       9357 non-null   float64\n",
      " 5   C6H6(GT)       9357 non-null   float64\n",
      " 6   PT08.S2(NMHC)  9357 non-null   float64\n",
      " 7   NOx(GT)        9357 non-null   float64\n",
      " 8   PT08.S3(NOx)   9357 non-null   float64\n",
      " 9   NO2(GT)        9357 non-null   float64\n",
      " 10  PT08.S4(NO2)   9357 non-null   float64\n",
      " 11  PT08.S5(O3)    9357 non-null   float64\n",
      " 12  T              9357 non-null   float64\n",
      " 13  RH             9357 non-null   float64\n",
      " 14  AH             9357 non-null   float64\n",
      " 15  Unnamed: 15    0 non-null      float64\n",
      " 16  Unnamed: 16    0 non-null      float64\n",
      "dtypes: float64(15), object(2)\n",
      "memory usage: 1.2+ MB\n"
     ]
    }
   ],
   "source": [
    "# Ver las columnas y tipos de datos\n",
    "data.info()"
   ]
  },
  {
   "cell_type": "markdown",
   "id": "f29839fd",
   "metadata": {},
   "source": [
    "Descripción de los Datos\n",
    "El dataset tiene 17 columnas con 9471 filas. Algunas observaciones:\n",
    "\n",
    "* Las columnas Date, Time están en formato object (texto).\n",
    "* Hay dos columnas sin nombre (Unnamed: 15 y Unnamed: 16) que están completamente vacías.\n",
    "* Algunas columnas contienen valores faltantes."
   ]
  },
  {
   "cell_type": "code",
   "execution_count": 80,
   "id": "a3f4826f",
   "metadata": {},
   "outputs": [],
   "source": [
    "# Verificar valores faltantes\n",
    "missing_values = data.isnull().sum()\n",
    "missing_values\n",
    "\n",
    "# Reemplazar comas por puntos y convertir a numérico\n",
    "data = data.replace(',', '.', regex=True).apply(pd.to_numeric, errors='ignore')\n",
    "\n",
    "# Eliminar columnas sin nombre que están vacías\n",
    "data = data.drop(columns=['Unnamed: 15', 'Unnamed: 16'])"
   ]
  },
  {
   "cell_type": "code",
   "execution_count": 81,
   "id": "e76c4e68",
   "metadata": {},
   "outputs": [
    {
     "data": {
      "text/plain": [
       "Date             114\n",
       "Time             114\n",
       "CO(GT)           114\n",
       "PT08.S1(CO)      114\n",
       "NMHC(GT)         114\n",
       "C6H6(GT)         114\n",
       "PT08.S2(NMHC)    114\n",
       "NOx(GT)          114\n",
       "PT08.S3(NOx)     114\n",
       "NO2(GT)          114\n",
       "PT08.S4(NO2)     114\n",
       "PT08.S5(O3)      114\n",
       "T                114\n",
       "RH               114\n",
       "AH               114\n",
       "dtype: int64"
      ]
     },
     "execution_count": 81,
     "metadata": {},
     "output_type": "execute_result"
    }
   ],
   "source": [
    "# Verificar valores faltantes\n",
    "missing_values = data.isnull().sum()\n",
    "missing_values\n"
   ]
  },
  {
   "cell_type": "markdown",
   "id": "94c4362b",
   "metadata": {},
   "source": [
    "Manejo de valores faltantes\n",
    "* Teniendo en cuenta que el porcentaje de datos faltantes es relativamente bajo (114 de 9471) se eliminan."
   ]
  },
  {
   "cell_type": "code",
   "execution_count": 83,
   "id": "50afcfa9",
   "metadata": {},
   "outputs": [
    {
     "name": "stdout",
     "output_type": "stream",
     "text": [
      "<class 'pandas.core.frame.DataFrame'>\n",
      "Index: 9357 entries, 0 to 9356\n",
      "Data columns (total 15 columns):\n",
      " #   Column         Non-Null Count  Dtype  \n",
      "---  ------         --------------  -----  \n",
      " 0   Date           9357 non-null   object \n",
      " 1   Time           9357 non-null   object \n",
      " 2   CO(GT)         9357 non-null   float64\n",
      " 3   PT08.S1(CO)    9357 non-null   float64\n",
      " 4   NMHC(GT)       9357 non-null   float64\n",
      " 5   C6H6(GT)       9357 non-null   float64\n",
      " 6   PT08.S2(NMHC)  9357 non-null   float64\n",
      " 7   NOx(GT)        9357 non-null   float64\n",
      " 8   PT08.S3(NOx)   9357 non-null   float64\n",
      " 9   NO2(GT)        9357 non-null   float64\n",
      " 10  PT08.S4(NO2)   9357 non-null   float64\n",
      " 11  PT08.S5(O3)    9357 non-null   float64\n",
      " 12  T              9357 non-null   float64\n",
      " 13  RH             9357 non-null   float64\n",
      " 14  AH             9357 non-null   float64\n",
      "dtypes: float64(13), object(2)\n",
      "memory usage: 1.1+ MB\n"
     ]
    }
   ],
   "source": [
    "# Eliminar filas con valores faltantes\n",
    "data = data.dropna()\n",
    "\n",
    "# Verificar la limpieza\n",
    "data.info()"
   ]
  },
  {
   "cell_type": "markdown",
   "id": "d1c990c1",
   "metadata": {},
   "source": [
    "_indica aquí tu respuesta_"
   ]
  },
  {
   "cell_type": "code",
   "execution_count": 94,
   "id": "150ac3f5",
   "metadata": {},
   "outputs": [
    {
     "name": "stdout",
     "output_type": "stream",
     "text": [
      "El dataset tiene 2 columnas categoricas y 13 columnas continuas \n",
      "\n"
     ]
    }
   ],
   "source": [
    "## ¿cuántas columnas categóricas hay? ¿y cuántas continuas?\n",
    "# Contar columnas categóricas (tipo object)\n",
    "categorical_columns = data.select_dtypes(include=['object']).columns\n",
    "num_categorical = len(categorical_columns)\n",
    "\n",
    "# Contar columnas continuas (tipo numérico)\n",
    "continuous_columns = data.select_dtypes(include=['number']).columns\n",
    "num_continuous = len(continuous_columns)\n",
    "\n",
    "print(f'El dataset tiene {num_categorical} columnas categoricas y {num_continuous} columnas continuas \\n')"
   ]
  },
  {
   "cell_type": "markdown",
   "id": "6a417398",
   "metadata": {},
   "source": [
    "_indica aquí tu respuesta_"
   ]
  },
  {
   "cell_type": "code",
   "execution_count": 103,
   "id": "e4c1b97d",
   "metadata": {},
   "outputs": [
    {
     "name": "stdout",
     "output_type": "stream",
     "text": [
      " Variable respuesta CO(GT)\n",
      " Tipo de variable: Continua (float64)\n"
     ]
    }
   ],
   "source": [
    "## ¿cuál es la variable respuesta?¿de qué tipo es?\n",
    "\"\"\"Una variable utilizada para representar la calidad del aire es CO(GT)\n",
    "que mide la concentración de monóxido de carbono en el aire. \n",
    "Esta variable es continua y tiene un tipo de dato float64.\"\"\"\n",
    "\n",
    "\n",
    "print(\" Variable respuesta CO(GT)\")\n",
    "print(\" Tipo de variable: Continua (float64)\")"
   ]
  },
  {
   "cell_type": "markdown",
   "id": "b1c1fdde",
   "metadata": {},
   "source": [
    "_indica aquí tu respuesta_"
   ]
  },
  {
   "cell_type": "code",
   "execution_count": 110,
   "id": "efd58c5e",
   "metadata": {},
   "outputs": [
    {
     "data": {
      "text/html": [
       "<div>\n",
       "<style scoped>\n",
       "    .dataframe tbody tr th:only-of-type {\n",
       "        vertical-align: middle;\n",
       "    }\n",
       "\n",
       "    .dataframe tbody tr th {\n",
       "        vertical-align: top;\n",
       "    }\n",
       "\n",
       "    .dataframe thead th {\n",
       "        text-align: right;\n",
       "    }\n",
       "</style>\n",
       "<table border=\"1\" class=\"dataframe\">\n",
       "  <thead>\n",
       "    <tr style=\"text-align: right;\">\n",
       "      <th></th>\n",
       "      <th>CO(GT)</th>\n",
       "      <th>NOx(GT)</th>\n",
       "      <th>NO2(GT)</th>\n",
       "    </tr>\n",
       "  </thead>\n",
       "  <tbody>\n",
       "    <tr>\n",
       "      <th>count</th>\n",
       "      <td>9357.000000</td>\n",
       "      <td>9357.000000</td>\n",
       "      <td>9357.000000</td>\n",
       "    </tr>\n",
       "    <tr>\n",
       "      <th>mean</th>\n",
       "      <td>-34.207524</td>\n",
       "      <td>168.616971</td>\n",
       "      <td>58.148873</td>\n",
       "    </tr>\n",
       "    <tr>\n",
       "      <th>std</th>\n",
       "      <td>77.657170</td>\n",
       "      <td>257.433866</td>\n",
       "      <td>126.940455</td>\n",
       "    </tr>\n",
       "    <tr>\n",
       "      <th>min</th>\n",
       "      <td>-200.000000</td>\n",
       "      <td>-200.000000</td>\n",
       "      <td>-200.000000</td>\n",
       "    </tr>\n",
       "    <tr>\n",
       "      <th>25%</th>\n",
       "      <td>0.600000</td>\n",
       "      <td>50.000000</td>\n",
       "      <td>53.000000</td>\n",
       "    </tr>\n",
       "    <tr>\n",
       "      <th>50%</th>\n",
       "      <td>1.500000</td>\n",
       "      <td>141.000000</td>\n",
       "      <td>96.000000</td>\n",
       "    </tr>\n",
       "    <tr>\n",
       "      <th>75%</th>\n",
       "      <td>2.600000</td>\n",
       "      <td>284.000000</td>\n",
       "      <td>133.000000</td>\n",
       "    </tr>\n",
       "    <tr>\n",
       "      <th>max</th>\n",
       "      <td>11.900000</td>\n",
       "      <td>1479.000000</td>\n",
       "      <td>340.000000</td>\n",
       "    </tr>\n",
       "  </tbody>\n",
       "</table>\n",
       "</div>"
      ],
      "text/plain": [
       "            CO(GT)      NOx(GT)      NO2(GT)\n",
       "count  9357.000000  9357.000000  9357.000000\n",
       "mean    -34.207524   168.616971    58.148873\n",
       "std      77.657170   257.433866   126.940455\n",
       "min    -200.000000  -200.000000  -200.000000\n",
       "25%       0.600000    50.000000    53.000000\n",
       "50%       1.500000   141.000000    96.000000\n",
       "75%       2.600000   284.000000   133.000000\n",
       "max      11.900000  1479.000000   340.000000"
      ]
     },
     "execution_count": 110,
     "metadata": {},
     "output_type": "execute_result"
    }
   ],
   "source": [
    "# Resumen estadístico de las variables CO(GT), NOx(GT) y NO2(GT)\n",
    "Estadiscico_variables = data[['CO(GT)', 'NOx(GT)', 'NO2(GT)']].describe()\n",
    "Estadiscico_variables\n"
   ]
  },
  {
   "cell_type": "code",
   "execution_count": 114,
   "id": "21e7f3ac",
   "metadata": {},
   "outputs": [
    {
     "data": {
      "image/png": "[encoded data removed]",
      "text/plain": [
       "<Figure size 1500x1000 with 6 Axes>"
      ]
     },
     "metadata": {},
     "output_type": "display_data"
    },
    {
     "data": {
      "text/plain": [
       "CO(GT)     1683\n",
       "NOx(GT)    1639\n",
       "NO2(GT)    1642\n",
       "dtype: int64"
      ]
     },
     "execution_count": 114,
     "metadata": {},
     "output_type": "execute_result"
    }
   ],
   "source": [
    "# Verificar datos faltantes en las variables de interés\n",
    "missing_values = data[['CO(GT)', 'NOx(GT)', 'NO2(GT)']].isnull().sum()\n",
    "missing_values\n",
    "\n",
    "# Contar valores inválidos (-200)\n",
    "invalid_values = (data[['CO(GT)', 'NOx(GT)', 'NO2(GT)']] == -200).sum()\n",
    "invalid_values\n",
    "\n",
    "# Visualización de distribuciones\n",
    "plt.figure(figsize=(15, 10))\n",
    "\n",
    "# Histogramas\n",
    "plt.subplot(3, 2, 1)\n",
    "sns.histplot(data['CO(GT)'], bins=30, kde=True)\n",
    "plt.title('Distribución de CO(GT)')\n",
    "\n",
    "plt.subplot(3, 2, 3)\n",
    "sns.histplot(data['NOx(GT)'], bins=30, kde=True)\n",
    "plt.title('Distribución de NOx(GT)')\n",
    "\n",
    "plt.subplot(3, 2, 5)\n",
    "sns.histplot(data['NO2(GT)'], bins=30, kde=True)\n",
    "plt.title('Distribución de NO2(GT)')\n",
    "\n",
    "# Boxplots\n",
    "plt.subplot(3, 2, 2)\n",
    "sns.boxplot(x=data['CO(GT)'])\n",
    "plt.title('Boxplot de CO(GT)')\n",
    "\n",
    "plt.subplot(3, 2, 4)\n",
    "sns.boxplot(x=data['NOx(GT)'])\n",
    "plt.title('Boxplot de NOx(GT)')\n",
    "\n",
    "plt.subplot(3, 2, 6)\n",
    "sns.boxplot(x=data['NO2(GT)'])\n",
    "plt.title('Boxplot de NO2(GT)')\n",
    "\n",
    "plt.tight_layout()\n",
    "plt.show()\n",
    "\n",
    "# Verificar datos faltantes en las variables de interés\n",
    "missing_values = data[['CO(GT)', 'NOx(GT)', 'NO2(GT)']].isnull().sum()\n",
    "missing_values\n",
    "\n",
    "# Contar valores inválidos (-200)\n",
    "invalid_values = (data[['CO(GT)', 'NOx(GT)', 'NO2(GT)']] == -200).sum()\n",
    "invalid_values\n"
   ]
  },
  {
   "cell_type": "markdown",
   "id": "159b126d",
   "metadata": {},
   "source": [
    "## Si te fijas en los estadísticos del dataset, ¿cómo es la distribución de las variables, CO, NOx y NO2? \n",
    "\n",
    "CO(GT):\n",
    "\n",
    "- La media es negativa (-34.21), lo cual es inusual y sugiere la presencia de valores inválidos (por ejemplo, valores de -200).\n",
    "- El rango intercuartílico (IQR) está entre 0.60 y 2.60, con una mediana de 1.50.\n",
    "- El valor máximo es 11.90, y el valor mínimo es -200, lo cual es un valor claramente erróneo.\n",
    "\n",
    "NOx(GT):\n",
    "\n",
    "- La media es 168.62, con una desviación estándar alta de 257.43, indicando una gran variabilidad en los datos.\n",
    "- El IQR está entre 50.00 y 284.00, con una mediana de 141.00.\n",
    "- El valor máximo es 1479.00, y el valor mínimo es -200, otro valor inválido.\n",
    "\n",
    "NO2(GT):\n",
    "\n",
    "- La media es 58.15, con una desviación estándar alta de 126.94, indicando también una gran variabilidad.\n",
    "- El IQR está entre 53.00 y 133.00, con una mediana de 96.00.\n",
    "- El valor máximo es 340.00, y el valor mínimo es -200, nuevamente un valor inválido.\n",
    "\n",
    "Distribución\n",
    "\n",
    "- Las tres variables muestran la presencia de valores inválidos (-200), que deben ser manejados antes de cualquier análisis adicional. \n",
    "- También hay una considerable variabilidad en los datos, y la presencia de valores atípicos podría estar afectando las estadísticas descriptivas."
   ]
  },
  {
   "cell_type": "markdown",
   "id": "189880ab",
   "metadata": {},
   "source": [
    "_indica aquí tu respuesta_"
   ]
  },
  {
   "cell_type": "markdown",
   "id": "dab9bd22",
   "metadata": {},
   "source": [
    "¿Estas variables muestran alguna distribución especial?¿Tienen datos faltantes?¿y datos anómalos?\n",
    "\n",
    "- CO(GT): La distribución muestra una alta concentración en valores bajos, con una cola larga hacia valores más altos. Hay una gran cantidad de valores negativos.\n",
    "- NOx(GT): Similar a CO(GT), con una alta concentración en valores bajos y una cola larga hacia valores más altos. También tiene valores negativos.\n",
    "- NO2(GT): La distribución es ligeramente más uniforme que CO(GT) y NOx(GT), pero también muestra una concentración en valores más bajos y algunos valores negativos.Boxplots:\n",
    "\n",
    "- Todas las variables muestran la presencia de muchos valores atípicos (outliers), especialmente en la parte inferior (valores negativos).\n",
    "\n",
    "- Las variables CO(GT), NOx(GT), y NO2(GT) no tienen datos faltantes (NaN).\n",
    "\n",
    "Identificación de Datos Anómalos\n",
    "- Valores inválidos (-200):\n",
    "- CO(GT): 1683 valores\n",
    "- NOx(GT): 1639 valores\n",
    "- NO2(GT): 1642 valores\n",
    "\n",
    "Conclusiones\n",
    "- Distribuciones: Las distribuciones de las tres variables muestran una concentración en valores bajos con colas largas hacia valores más altos. Las variables tienen muchas anomalías, particularmente valores negativos y valores atípicos.\n",
    "- Datos Faltantes: No hay datos faltantes en estas columnas.\n",
    "- Datos Anómalos: Hay un número significativo de valores inválidos (-200) en cada una de las variables, que deben ser tratados."
   ]
  },
  {
   "cell_type": "markdown",
   "id": "43f922c8",
   "metadata": {},
   "source": [
    "_indica aquí tu respuesta_"
   ]
  },
  {
   "cell_type": "code",
   "execution_count": 116,
   "id": "895be4fe",
   "metadata": {},
   "outputs": [
    {
     "data": {
      "image/png": "[encoded data removed]",
      "text/plain": [
       "<Figure size 1500x1000 with 2 Axes>"
      ]
     },
     "metadata": {},
     "output_type": "display_data"
    },
    {
     "data": {
      "text/html": [
       "<div>\n",
       "<style scoped>\n",
       "    .dataframe tbody tr th:only-of-type {\n",
       "        vertical-align: middle;\n",
       "    }\n",
       "\n",
       "    .dataframe tbody tr th {\n",
       "        vertical-align: top;\n",
       "    }\n",
       "\n",
       "    .dataframe thead th {\n",
       "        text-align: right;\n",
       "    }\n",
       "</style>\n",
       "<table border=\"1\" class=\"dataframe\">\n",
       "  <thead>\n",
       "    <tr style=\"text-align: right;\">\n",
       "      <th></th>\n",
       "      <th>CO(GT)</th>\n",
       "      <th>PT08.S1(CO)</th>\n",
       "      <th>NMHC(GT)</th>\n",
       "      <th>C6H6(GT)</th>\n",
       "      <th>PT08.S2(NMHC)</th>\n",
       "      <th>NOx(GT)</th>\n",
       "      <th>PT08.S3(NOx)</th>\n",
       "      <th>NO2(GT)</th>\n",
       "      <th>PT08.S4(NO2)</th>\n",
       "      <th>PT08.S5(O3)</th>\n",
       "      <th>T</th>\n",
       "      <th>RH</th>\n",
       "      <th>AH</th>\n",
       "    </tr>\n",
       "  </thead>\n",
       "  <tbody>\n",
       "    <tr>\n",
       "      <th>CO(GT)</th>\n",
       "      <td>1.000000</td>\n",
       "      <td>0.041411</td>\n",
       "      <td>0.128351</td>\n",
       "      <td>-0.031378</td>\n",
       "      <td>0.029926</td>\n",
       "      <td>0.526451</td>\n",
       "      <td>-0.089981</td>\n",
       "      <td>0.671127</td>\n",
       "      <td>-0.073724</td>\n",
       "      <td>0.080310</td>\n",
       "      <td>-0.068939</td>\n",
       "      <td>-0.048227</td>\n",
       "      <td>-0.045892</td>\n",
       "    </tr>\n",
       "    <tr>\n",
       "      <th>PT08.S1(CO)</th>\n",
       "      <td>0.041411</td>\n",
       "      <td>1.000000</td>\n",
       "      <td>0.170007</td>\n",
       "      <td>0.852687</td>\n",
       "      <td>0.933102</td>\n",
       "      <td>0.277993</td>\n",
       "      <td>0.087019</td>\n",
       "      <td>0.154030</td>\n",
       "      <td>0.845149</td>\n",
       "      <td>0.892434</td>\n",
       "      <td>0.754844</td>\n",
       "      <td>0.745375</td>\n",
       "      <td>0.764903</td>\n",
       "    </tr>\n",
       "    <tr>\n",
       "      <th>NMHC(GT)</th>\n",
       "      <td>0.128351</td>\n",
       "      <td>0.170007</td>\n",
       "      <td>1.000000</td>\n",
       "      <td>0.037323</td>\n",
       "      <td>0.110104</td>\n",
       "      <td>-0.004427</td>\n",
       "      <td>0.048821</td>\n",
       "      <td>0.103307</td>\n",
       "      <td>0.162680</td>\n",
       "      <td>0.101185</td>\n",
       "      <td>-0.000009</td>\n",
       "      <td>0.008284</td>\n",
       "      <td>0.012500</td>\n",
       "    </tr>\n",
       "    <tr>\n",
       "      <th>C6H6(GT)</th>\n",
       "      <td>-0.031378</td>\n",
       "      <td>0.852687</td>\n",
       "      <td>0.037323</td>\n",
       "      <td>1.000000</td>\n",
       "      <td>0.767433</td>\n",
       "      <td>-0.001174</td>\n",
       "      <td>0.512193</td>\n",
       "      <td>-0.010992</td>\n",
       "      <td>0.774673</td>\n",
       "      <td>0.641334</td>\n",
       "      <td>0.971375</td>\n",
       "      <td>0.925062</td>\n",
       "      <td>0.984555</td>\n",
       "    </tr>\n",
       "    <tr>\n",
       "      <th>PT08.S2(NMHC)</th>\n",
       "      <td>0.029926</td>\n",
       "      <td>0.933102</td>\n",
       "      <td>0.110104</td>\n",
       "      <td>0.767433</td>\n",
       "      <td>1.000000</td>\n",
       "      <td>0.331272</td>\n",
       "      <td>-0.073667</td>\n",
       "      <td>0.176488</td>\n",
       "      <td>0.874782</td>\n",
       "      <td>0.909905</td>\n",
       "      <td>0.669025</td>\n",
       "      <td>0.585803</td>\n",
       "      <td>0.646572</td>\n",
       "    </tr>\n",
       "    <tr>\n",
       "      <th>NOx(GT)</th>\n",
       "      <td>0.526451</td>\n",
       "      <td>0.277993</td>\n",
       "      <td>-0.004427</td>\n",
       "      <td>-0.001174</td>\n",
       "      <td>0.331272</td>\n",
       "      <td>1.000000</td>\n",
       "      <td>-0.436084</td>\n",
       "      <td>0.817139</td>\n",
       "      <td>0.035546</td>\n",
       "      <td>0.461889</td>\n",
       "      <td>-0.138452</td>\n",
       "      <td>-0.053009</td>\n",
       "      <td>-0.095847</td>\n",
       "    </tr>\n",
       "    <tr>\n",
       "      <th>PT08.S3(NOx)</th>\n",
       "      <td>-0.089981</td>\n",
       "      <td>0.087019</td>\n",
       "      <td>0.048821</td>\n",
       "      <td>0.512193</td>\n",
       "      <td>-0.073667</td>\n",
       "      <td>-0.436084</td>\n",
       "      <td>1.000000</td>\n",
       "      <td>-0.256232</td>\n",
       "      <td>0.122734</td>\n",
       "      <td>-0.208865</td>\n",
       "      <td>0.588111</td>\n",
       "      <td>0.573549</td>\n",
       "      <td>0.621618</td>\n",
       "    </tr>\n",
       "    <tr>\n",
       "      <th>NO2(GT)</th>\n",
       "      <td>0.671127</td>\n",
       "      <td>0.154030</td>\n",
       "      <td>0.103307</td>\n",
       "      <td>-0.010992</td>\n",
       "      <td>0.176488</td>\n",
       "      <td>0.817139</td>\n",
       "      <td>-0.256232</td>\n",
       "      <td>1.000000</td>\n",
       "      <td>-0.022174</td>\n",
       "      <td>0.253439</td>\n",
       "      <td>-0.084104</td>\n",
       "      <td>-0.081305</td>\n",
       "      <td>-0.060440</td>\n",
       "    </tr>\n",
       "    <tr>\n",
       "      <th>PT08.S4(NO2)</th>\n",
       "      <td>-0.073724</td>\n",
       "      <td>0.845149</td>\n",
       "      <td>0.162680</td>\n",
       "      <td>0.774673</td>\n",
       "      <td>0.874782</td>\n",
       "      <td>0.035546</td>\n",
       "      <td>0.122734</td>\n",
       "      <td>-0.022174</td>\n",
       "      <td>1.000000</td>\n",
       "      <td>0.723690</td>\n",
       "      <td>0.755060</td>\n",
       "      <td>0.640707</td>\n",
       "      <td>0.691913</td>\n",
       "    </tr>\n",
       "    <tr>\n",
       "      <th>PT08.S5(O3)</th>\n",
       "      <td>0.080310</td>\n",
       "      <td>0.892434</td>\n",
       "      <td>0.101185</td>\n",
       "      <td>0.641334</td>\n",
       "      <td>0.909905</td>\n",
       "      <td>0.461889</td>\n",
       "      <td>-0.208865</td>\n",
       "      <td>0.253439</td>\n",
       "      <td>0.723690</td>\n",
       "      <td>1.000000</td>\n",
       "      <td>0.503700</td>\n",
       "      <td>0.524955</td>\n",
       "      <td>0.519467</td>\n",
       "    </tr>\n",
       "    <tr>\n",
       "      <th>T</th>\n",
       "      <td>-0.068939</td>\n",
       "      <td>0.754844</td>\n",
       "      <td>-0.000009</td>\n",
       "      <td>0.971375</td>\n",
       "      <td>0.669025</td>\n",
       "      <td>-0.138452</td>\n",
       "      <td>0.588111</td>\n",
       "      <td>-0.084104</td>\n",
       "      <td>0.755060</td>\n",
       "      <td>0.503700</td>\n",
       "      <td>1.000000</td>\n",
       "      <td>0.885911</td>\n",
       "      <td>0.981001</td>\n",
       "    </tr>\n",
       "    <tr>\n",
       "      <th>RH</th>\n",
       "      <td>-0.048227</td>\n",
       "      <td>0.745375</td>\n",
       "      <td>0.008284</td>\n",
       "      <td>0.925062</td>\n",
       "      <td>0.585803</td>\n",
       "      <td>-0.053009</td>\n",
       "      <td>0.573549</td>\n",
       "      <td>-0.081305</td>\n",
       "      <td>0.640707</td>\n",
       "      <td>0.524955</td>\n",
       "      <td>0.885911</td>\n",
       "      <td>1.000000</td>\n",
       "      <td>0.943995</td>\n",
       "    </tr>\n",
       "    <tr>\n",
       "      <th>AH</th>\n",
       "      <td>-0.045892</td>\n",
       "      <td>0.764903</td>\n",
       "      <td>0.012500</td>\n",
       "      <td>0.984555</td>\n",
       "      <td>0.646572</td>\n",
       "      <td>-0.095847</td>\n",
       "      <td>0.621618</td>\n",
       "      <td>-0.060440</td>\n",
       "      <td>0.691913</td>\n",
       "      <td>0.519467</td>\n",
       "      <td>0.981001</td>\n",
       "      <td>0.943995</td>\n",
       "      <td>1.000000</td>\n",
       "    </tr>\n",
       "  </tbody>\n",
       "</table>\n",
       "</div>"
      ],
      "text/plain": [
       "                 CO(GT)  PT08.S1(CO)  NMHC(GT)  C6H6(GT)  PT08.S2(NMHC)  \\\n",
       "CO(GT)         1.000000     0.041411  0.128351 -0.031378       0.029926   \n",
       "PT08.S1(CO)    0.041411     1.000000  0.170007  0.852687       0.933102   \n",
       "NMHC(GT)       0.128351     0.170007  1.000000  0.037323       0.110104   \n",
       "C6H6(GT)      -0.031378     0.852687  0.037323  1.000000       0.767433   \n",
       "PT08.S2(NMHC)  0.029926     0.933102  0.110104  0.767433       1.000000   \n",
       "NOx(GT)        0.526451     0.277993 -0.004427 -0.001174       0.331272   \n",
       "PT08.S3(NOx)  -0.089981     0.087019  0.048821  0.512193      -0.073667   \n",
       "NO2(GT)        0.671127     0.154030  0.103307 -0.010992       0.176488   \n",
       "PT08.S4(NO2)  -0.073724     0.845149  0.162680  0.774673       0.874782   \n",
       "PT08.S5(O3)    0.080310     0.892434  0.101185  0.641334       0.909905   \n",
       "T             -0.068939     0.754844 -0.000009  0.971375       0.669025   \n",
       "RH            -0.048227     0.745375  0.008284  0.925062       0.585803   \n",
       "AH            -0.045892     0.764903  0.012500  0.984555       0.646572   \n",
       "\n",
       "                NOx(GT)  PT08.S3(NOx)   NO2(GT)  PT08.S4(NO2)  PT08.S5(O3)  \\\n",
       "CO(GT)         0.526451     -0.089981  0.671127     -0.073724     0.080310   \n",
       "PT08.S1(CO)    0.277993      0.087019  0.154030      0.845149     0.892434   \n",
       "NMHC(GT)      -0.004427      0.048821  0.103307      0.162680     0.101185   \n",
       "C6H6(GT)      -0.001174      0.512193 -0.010992      0.774673     0.641334   \n",
       "PT08.S2(NMHC)  0.331272     -0.073667  0.176488      0.874782     0.909905   \n",
       "NOx(GT)        1.000000     -0.436084  0.817139      0.035546     0.461889   \n",
       "PT08.S3(NOx)  -0.436084      1.000000 -0.256232      0.122734    -0.208865   \n",
       "NO2(GT)        0.817139     -0.256232  1.000000     -0.022174     0.253439   \n",
       "PT08.S4(NO2)   0.035546      0.122734 -0.022174      1.000000     0.723690   \n",
       "PT08.S5(O3)    0.461889     -0.208865  0.253439      0.723690     1.000000   \n",
       "T             -0.138452      0.588111 -0.084104      0.755060     0.503700   \n",
       "RH            -0.053009      0.573549 -0.081305      0.640707     0.524955   \n",
       "AH            -0.095847      0.621618 -0.060440      0.691913     0.519467   \n",
       "\n",
       "                      T        RH        AH  \n",
       "CO(GT)        -0.068939 -0.048227 -0.045892  \n",
       "PT08.S1(CO)    0.754844  0.745375  0.764903  \n",
       "NMHC(GT)      -0.000009  0.008284  0.012500  \n",
       "C6H6(GT)       0.971375  0.925062  0.984555  \n",
       "PT08.S2(NMHC)  0.669025  0.585803  0.646572  \n",
       "NOx(GT)       -0.138452 -0.053009 -0.095847  \n",
       "PT08.S3(NOx)   0.588111  0.573549  0.621618  \n",
       "NO2(GT)       -0.084104 -0.081305 -0.060440  \n",
       "PT08.S4(NO2)   0.755060  0.640707  0.691913  \n",
       "PT08.S5(O3)    0.503700  0.524955  0.519467  \n",
       "T              1.000000  0.885911  0.981001  \n",
       "RH             0.885911  1.000000  0.943995  \n",
       "AH             0.981001  0.943995  1.000000  "
      ]
     },
     "execution_count": 116,
     "metadata": {},
     "output_type": "execute_result"
    }
   ],
   "source": [
    "## ¿cómo son las correlaciones entre las variables del dataset?\n",
    "\n",
    "# Convertir las columnas 'Date' y 'Time' a un formato de fecha y hora\n",
    "data['DateTime'] = pd.to_datetime(data['Date'] + ' ' + data['Time'], format='%d/%m/%Y %H.%M.%S')\n",
    "\n",
    "# Eliminar las columnas originales 'Date' y 'Time'\n",
    "data = data.drop(columns=['Date', 'Time'])\n",
    "\n",
    "# Calcular la matriz de correlación excluyendo la columna 'DateTime'\n",
    "corr_matrix = data.drop(columns=['DateTime']).corr()\n",
    "\n",
    "# Visualizar la matriz de correlación\n",
    "plt.figure(figsize=(15, 10))\n",
    "sns.heatmap(corr_matrix, annot=True, cmap='coolwarm', center=0)\n",
    "plt.title('Matriz de Correlación')\n",
    "plt.show()\n",
    "\n",
    "# Mostrar la matriz de correlación\n",
    "corr_matrix\n",
    "\n"
   ]
  },
  {
   "cell_type": "markdown",
   "id": "defa3364",
   "metadata": {},
   "source": [
    "Correlaciones Fuertes:\n",
    "\n",
    "- C6H6(GT) y T (0.97): Fuertemente correlacionados.\n",
    "- C6H6(GT) y AH (0.98): Muy fuertemente correlacionados.\n",
    "- PT08.S1(CO) y PT08.S2(NMHC) (0.93): Muy fuerte correlación entre estos sensores.\n",
    "- PT08.S2(NMHC) y PT08.S4(NO2) (0.87): Alta correlación.\n",
    "- PT08.S4(NO2) y PT08.S5(O3) (0.72): Fuerte correlación.\n",
    "\n",
    "Correlaciones Moderadas:\n",
    "\n",
    "- CO(GT) y NO2(GT) (0.67): Moderada correlación positiva.\n",
    "- CO(GT) y NOx(GT) (0.53): Moderada correlación positiva.\n",
    "- PT08.S5(O3) y PT08.S1(CO) (0.89): Alta correlación entre estos sensores.\n",
    "\n",
    "Correlaciones Negativas:\n",
    "\n",
    "- NOx(GT) y PT08.S3(NOx) (-0.44): Moderada correlación negativa."
   ]
  },
  {
   "cell_type": "markdown",
   "id": "3b0603eb",
   "metadata": {},
   "source": [
    "_indica aquí tu respuesta_"
   ]
  },
  {
   "cell_type": "code",
   "execution_count": 123,
   "id": "72192498",
   "metadata": {},
   "outputs": [
    {
     "data": {
      "text/plain": [
       "Index(['NO2(GT)', 'NOx(GT)', 'NMHC(GT)'], dtype='object')"
      ]
     },
     "execution_count": 123,
     "metadata": {},
     "output_type": "execute_result"
    }
   ],
   "source": [
    "## ¿qué tres variables son las más correlacionadas con la variable objetivo?\n",
    "\n",
    "top_correlated_vars = corr_matrix['CO(GT)'].abs().sort_values(ascending=False).index[1:4]\n",
    "top_correlated_vars\n"
   ]
  },
  {
   "cell_type": "markdown",
   "id": "d3763b5c",
   "metadata": {},
   "source": [
    "_indica aquí tu respuesta_"
   ]
  },
  {
   "cell_type": "code",
   "execution_count": 124,
   "id": "33dbcc4f",
   "metadata": {},
   "outputs": [
    {
     "data": {
      "text/plain": [
       "('NMHC(GT)', 0.8869985540575085)"
      ]
     },
     "execution_count": 124,
     "metadata": {},
     "output_type": "execute_result"
    }
   ],
   "source": [
    "## ¿existe alguna variable que no tenga correlación?\n",
    "\n",
    "# Calcular la suma de correlaciones absolutas de cada variable con las demás\n",
    "sum_corr = corr_matrix.abs().sum(axis=1) - 1  # Restamos 1 para excluir la correlación de la variable consigo misma\n",
    "\n",
    "# Identificar la variable con la suma de correlaciones absolutas más baja\n",
    "least_correlated_var = sum_corr.idxmin(), sum_corr.min()\n",
    "least_correlated_var"
   ]
  },
  {
   "cell_type": "markdown",
   "id": "3f368719",
   "metadata": {},
   "source": [
    "_indica aquí tu respuesta_"
   ]
  },
  {
   "cell_type": "markdown",
   "id": "ce7c5aa2",
   "metadata": {},
   "source": [
    "En base al EDA realizado, ¿qué suposiciones se pueden hacer sobre los datos?¿qué conclusiones extraes para implementar el modelo predictivo?"
   ]
  },
  {
   "cell_type": "markdown",
   "id": "9831d90d",
   "metadata": {},
   "source": [
    "Suposiciones Basadas en el Análisis Exploratorio de Datos (EDA)\n",
    "\n",
    "1. Valores Anómalos y Faltantes:\n",
    "\n",
    "- Los valores de -200 para CO(GT), NOx(GT), y NO2(GT) son claramente anómalos y deben ser tratados.\n",
    "- No se detectaron valores faltantes (NaN) en estas columnas después de la limpieza inicial.\n",
    "\n",
    "2. Distribuciones de las Variables:\n",
    "\n",
    "- Las variables de interés muestran distribuciones sesgadas hacia la derecha con muchas observaciones concentradas en valores bajos y colas largas hacia valores altos.\n",
    "- Presencia significativa de valores atípicos (outliers), lo que sugiere que podría ser necesario aplicar técnicas de manejo de outliers o transformaciones de datos.\n",
    "\n",
    "3. Correlaciones entre Variables:\n",
    "\n",
    "- Existen correlaciones fuertes y moderadas entre ciertos contaminantes y entre algunos sensores y medidas directas de calidad del aire.\n",
    "- Las tres variables más correlacionadas con CO(GT) son NO2(GT), NOx(GT), y NMHC(GT), lo que sugiere que estas podrían ser características importantes en el modelo predictivo.\n",
    "\n",
    "4. Impacto de las Condiciones Meteorológicas:\n",
    "\n",
    "- Variables como T (temperatura) y AH (humedad absoluta) muestran fuertes correlaciones con ciertos contaminantes como C6H6(GT), lo que indica que las condiciones meteorológicas podrían influir en la calidad del aire.\n",
    "\n",
    "5. Manejo de Valores Anómalos:\n",
    "\n",
    "- Es crucial eliminar o imputar los valores de -200 para CO(GT), NOx(GT), y NO2(GT) para evitar que estos valores distorsionen el modelo.\n",
    "Selección de Características:\n",
    "\n",
    "- Dado que NO2(GT), NOx(GT), y NMHC(GT) están fuertemente correlacionadas con CO(GT), deberían ser incluidas como características clave en el modelo predictivo.\n",
    "\n",
    "- Las variables de condiciones meteorológicas (T, RH, AH) también deberían ser consideradas, dado su impacto potencial en la calidad del aire.\n",
    "\n",
    "6. Transformaciones de Datos:\n",
    "\n",
    "- Considerar la normalización o estandarización de las variables para manejar las distribuciones sesgadas y los outliers.\n",
    "Evaluar el uso de transformaciones logarítmicas u otras técnicas para estabilizar las varianzas y mejorar la performance del modelo.\n",
    "Modelos Predictivos:\n",
    "\n",
    "- Probar diferentes algoritmos de regresión (por ejemplo, regresión lineal, árboles de decisión, random forest, XGBoost) para determinar cuál ofrece el mejor desempeño.\n",
    "Validar el modelo utilizando técnicas de validación cruzada y métricas adecuadas (por ejemplo, RMSE, MAE) para asegurar la robustez del modelo.\n",
    "\n",
    "- Evaluar los residuos del modelo para identificar patrones no capturados por el modelo y ajustar en consecuencia.\n",
    "\n",
    "- Realizar análisis de importancia de características para entender mejor qué variables están influyendo más en las predicciones."
   ]
  },
  {
   "cell_type": "markdown",
   "id": "cec604c3",
   "metadata": {},
   "source": [
    "### Regresión\n",
    "\n",
    "Para llevar a cabo la tarea de regresión deseada se pretender hacer una comparativa de varios modelos. Unos usarán el algortimo de regresión lineal, y otros realizarán la predicción haciendo uso de árboles de decisión.\n",
    "\n",
    "Para los primeros modelos hay que usar el módulo https://scikit-learn.org/stable/modules/generated/sklearn.linear_model.LinearRegression.html \n",
    "\n",
    "El algortimo de Regresión Lineal necesita saber cuáles son las variables que va a tener en cuenta para realizar la estimación.\n",
    "\n",
    "El primero modelo que se debe construir usará una regresión lineal simple. Para ello sigue los siguientes pasos."
   ]
  },
  {
   "cell_type": "markdown",
   "id": "151b0658",
   "metadata": {},
   "source": [
    "Antes de empezar con la implementación de los modelos hace falta realizar una transformación de datos, escalarlos."
   ]
  },
  {
   "cell_type": "code",
   "execution_count": 128,
   "id": "36baf00e",
   "metadata": {},
   "outputs": [
    {
     "data": {
      "text/plain": [
       "(    NO2(GT)\n",
       " 0 -2.017113\n",
       " 1  0.192816\n",
       " 2  0.584647\n",
       " 3  0.796236\n",
       " 4 -0.206852,\n",
       "     NO2(GT)\n",
       " 0  0.114449\n",
       " 1 -0.073630\n",
       " 2  0.694360\n",
       " 3  0.866765\n",
       " 4  1.117537)"
      ]
     },
     "execution_count": 128,
     "metadata": {},
     "output_type": "execute_result"
    }
   ],
   "source": [
    "from sklearn.model_selection import train_test_split\n",
    "from sklearn.preprocessing import StandardScaler\n",
    "from pandas import DataFrame\n",
    "\n",
    "# Seleccionar la variable objetivo y la variable predictora más correlacionada\n",
    "X = data[['NO2(GT)']]\n",
    "y = data['CO(GT)']\n",
    "\n",
    "# Dividir los datos en conjuntos de entrenamiento y prueba\n",
    "X_train, X_test, y_train, y_test = train_test_split(X, y, test_size=0.2, random_state=42)\n",
    "\n",
    "# Escalar los datos\n",
    "scaler = StandardScaler()\n",
    "X_train_scaled = DataFrame(scaler.fit_transform(X_train), columns=X_train.columns)\n",
    "X_test_scaled = DataFrame(scaler.transform(X_test), columns=X_test.columns)\n",
    "\n",
    "X_train_scaled.head(), X_test_scaled.head()\n"
   ]
  },
  {
   "cell_type": "code",
   "execution_count": 138,
   "id": "67581e8a",
   "metadata": {},
   "outputs": [],
   "source": [
    "# separar datos de entrenamiento y test\n",
    "\n",
    "# Dividir los datos en conjuntos de entrenamiento y prueba\n",
    "X_train, X_test, y_train, y_test = train_test_split(X, y, test_size=0.2, random_state=42)"
   ]
  },
  {
   "cell_type": "code",
   "execution_count": 139,
   "id": "79d85a9d",
   "metadata": {},
   "outputs": [],
   "source": [
    "# escoger la variable que a partir del EDA realizado, consideres que mejor va a realizar la predicción\n",
    "# Seleccionar la variable objetivo y la variable predictora más correlacionada\n",
    "X = data[['NO2(GT)']]\n",
    "y = data['CO(GT)']"
   ]
  },
  {
   "cell_type": "code",
   "execution_count": null,
   "id": "c50feba1",
   "metadata": {},
   "outputs": [],
   "source": [
    "# entrena el modelo con los datos de entrenamiento"
   ]
  },
  {
   "cell_type": "code",
   "execution_count": 140,
   "id": "fca81958",
   "metadata": {},
   "outputs": [
    {
     "data": {
      "text/html": [
       "<style>#sk-container-id-1 {color: black;}#sk-container-id-1 pre{padding: 0;}#sk-container-id-1 div.sk-toggleable {background-color: white;}#sk-container-id-1 label.sk-toggleable__label {cursor: pointer;display: block;width: 100%;margin-bottom: 0;padding: 0.3em;box-sizing: border-box;text-align: center;}#sk-container-id-1 label.sk-toggleable__label-arrow:before {content: \"▸\";float: left;margin-right: 0.25em;color: #696969;}#sk-container-id-1 label.sk-toggleable__label-arrow:hover:before {color: black;}#sk-container-id-1 div.sk-estimator:hover label.sk-toggleable__label-arrow:before {color: black;}#sk-container-id-1 div.sk-toggleable__content {max-height: 0;max-width: 0;overflow: hidden;text-align: left;background-color: #f0f8ff;}#sk-container-id-1 div.sk-toggleable__content pre {margin: 0.2em;color: black;border-radius: 0.25em;background-color: #f0f8ff;}#sk-container-id-1 input.sk-toggleable__control:checked~div.sk-toggleable__content {max-height: 200px;max-width: 100%;overflow: auto;}#sk-container-id-1 input.sk-toggleable__control:checked~label.sk-toggleable__label-arrow:before {content: \"▾\";}#sk-container-id-1 div.sk-estimator input.sk-toggleable__control:checked~label.sk-toggleable__label {background-color: #d4ebff;}#sk-container-id-1 div.sk-label input.sk-toggleable__control:checked~label.sk-toggleable__label {background-color: #d4ebff;}#sk-container-id-1 input.sk-hidden--visually {border: 0;clip: rect(1px 1px 1px 1px);clip: rect(1px, 1px, 1px, 1px);height: 1px;margin: -1px;overflow: hidden;padding: 0;position: absolute;width: 1px;}#sk-container-id-1 div.sk-estimator {font-family: monospace;background-color: #f0f8ff;border: 1px dotted black;border-radius: 0.25em;box-sizing: border-box;margin-bottom: 0.5em;}#sk-container-id-1 div.sk-estimator:hover {background-color: #d4ebff;}#sk-container-id-1 div.sk-parallel-item::after {content: \"\";width: 100%;border-bottom: 1px solid gray;flex-grow: 1;}#sk-container-id-1 div.sk-label:hover label.sk-toggleable__label {background-color: #d4ebff;}#sk-container-id-1 div.sk-serial::before {content: \"\";position: absolute;border-left: 1px solid gray;box-sizing: border-box;top: 0;bottom: 0;left: 50%;z-index: 0;}#sk-container-id-1 div.sk-serial {display: flex;flex-direction: column;align-items: center;background-color: white;padding-right: 0.2em;padding-left: 0.2em;position: relative;}#sk-container-id-1 div.sk-item {position: relative;z-index: 1;}#sk-container-id-1 div.sk-parallel {display: flex;align-items: stretch;justify-content: center;background-color: white;position: relative;}#sk-container-id-1 div.sk-item::before, #sk-container-id-1 div.sk-parallel-item::before {content: \"\";position: absolute;border-left: 1px solid gray;box-sizing: border-box;top: 0;bottom: 0;left: 50%;z-index: -1;}#sk-container-id-1 div.sk-parallel-item {display: flex;flex-direction: column;z-index: 1;position: relative;background-color: white;}#sk-container-id-1 div.sk-parallel-item:first-child::after {align-self: flex-end;width: 50%;}#sk-container-id-1 div.sk-parallel-item:last-child::after {align-self: flex-start;width: 50%;}#sk-container-id-1 div.sk-parallel-item:only-child::after {width: 0;}#sk-container-id-1 div.sk-dashed-wrapped {border: 1px dashed gray;margin: 0 0.4em 0.5em 0.4em;box-sizing: border-box;padding-bottom: 0.4em;background-color: white;}#sk-container-id-1 div.sk-label label {font-family: monospace;font-weight: bold;display: inline-block;line-height: 1.2em;}#sk-container-id-1 div.sk-label-container {text-align: center;}#sk-container-id-1 div.sk-container {/* jupyter's `normalize.less` sets `[hidden] { display: none; }` but bootstrap.min.css set `[hidden] { display: none !important; }` so we also need the `!important` here to be able to override the default hidden behavior on the sphinx rendered scikit-learn.org. See: https://github.com/scikit-learn/scikit-learn/issues/21755 */display: inline-block !important;position: relative;}#sk-container-id-1 div.sk-text-repr-fallback {display: none;}</style><div id=\"sk-container-id-1\" class=\"sk-top-container\"><div class=\"sk-text-repr-fallback\"><pre>LinearRegression()</pre><b>In a Jupyter environment, please rerun this cell to show the HTML representation or trust the notebook. <br />On GitHub, the HTML representation is unable to render, please try loading this page with nbviewer.org.</b></div><div class=\"sk-container\" hidden><div class=\"sk-item\"><div class=\"sk-estimator sk-toggleable\"><input class=\"sk-toggleable__control sk-hidden--visually\" id=\"sk-estimator-id-1\" type=\"checkbox\" checked><label for=\"sk-estimator-id-1\" class=\"sk-toggleable__label sk-toggleable__label-arrow\">LinearRegression</label><div class=\"sk-toggleable__content\"><pre>LinearRegression()</pre></div></div></div></div></div>"
      ],
      "text/plain": [
       "LinearRegression()"
      ]
     },
     "execution_count": 140,
     "metadata": {},
     "output_type": "execute_result"
    }
   ],
   "source": [
    "# Crear el modelo de regresión lineal\n",
    "from sklearn.linear_model import LinearRegression\n",
    "\n",
    "model = LinearRegression()\n",
    "\n",
    "# Entrenar el modelo\n",
    "model.fit(X_train, y_train)\n",
    "\n"
   ]
  },
  {
   "cell_type": "code",
   "execution_count": 141,
   "id": "2d84aebf",
   "metadata": {},
   "outputs": [
    {
     "data": {
      "text/plain": [
       "(2952.8300957046413, 0.5002082422621132)"
      ]
     },
     "execution_count": 141,
     "metadata": {},
     "output_type": "execute_result"
    }
   ],
   "source": [
    "# ¿cuáles son los valores aprendidos por el modelo para los parámetros?\n",
    "\n",
    "from sklearn.metrics import mean_squared_error, r2_score\n",
    "\n",
    "# Predecir en el conjunto de prueba\n",
    "y_pred = model.predict(X_test)\n",
    "\n",
    "# Calcular el error cuadrático medio (MSE)\n",
    "mse = mean_squared_error(y_test, y_pred)\n",
    "\n",
    "# Calcular el coeficiente de determinación (R^2)\n",
    "r2 = r2_score(y_test, y_pred)\n",
    "\n",
    "mse, r2\n"
   ]
  },
  {
   "cell_type": "markdown",
   "id": "fe08b6a5",
   "metadata": {},
   "source": [
    "Explica qué indican estos parámetros"
   ]
  },
  {
   "cell_type": "markdown",
   "id": "3a1790ad",
   "metadata": {},
   "source": [
    "_indica aquí tu respuesta_"
   ]
  },
  {
   "cell_type": "markdown",
   "id": "c9cb2757",
   "metadata": {},
   "source": [
    "Resultados del Modelo de Regresión Lineal Simple\n",
    "\n",
    "- Error Cuadrático Medio (MSE): 2972.27\n",
    "- Coeficiente de Determinación (R²): 0.50\n",
    "\n",
    "Estos resultados indican que el modelo de regresión lineal simple tiene una capacidad moderada para explicar la variabilidad en la concentración de monóxido de carbono (CO(GT)) utilizando solo los niveles de dióxido de nitrógeno (NO2(GT))."
   ]
  },
  {
   "cell_type": "code",
   "execution_count": null,
   "id": "a47f6206",
   "metadata": {},
   "outputs": [],
   "source": [
    "# realiza las predicciones para el conjunto de datos de test"
   ]
  },
  {
   "cell_type": "code",
   "execution_count": 147,
   "id": "fddecaad",
   "metadata": {},
   "outputs": [
    {
     "data": {
      "text/html": [
       "<div>\n",
       "<style scoped>\n",
       "    .dataframe tbody tr th:only-of-type {\n",
       "        vertical-align: middle;\n",
       "    }\n",
       "\n",
       "    .dataframe tbody tr th {\n",
       "        vertical-align: top;\n",
       "    }\n",
       "\n",
       "    .dataframe thead th {\n",
       "        text-align: right;\n",
       "    }\n",
       "</style>\n",
       "<table border=\"1\" class=\"dataframe\">\n",
       "  <thead>\n",
       "    <tr style=\"text-align: right;\">\n",
       "      <th></th>\n",
       "      <th>Real</th>\n",
       "      <th>Predicción</th>\n",
       "    </tr>\n",
       "  </thead>\n",
       "  <tbody>\n",
       "    <tr>\n",
       "      <th>2973</th>\n",
       "      <td>1.3</td>\n",
       "      <td>-28.743319</td>\n",
       "    </tr>\n",
       "    <tr>\n",
       "      <th>3396</th>\n",
       "      <td>-200.0</td>\n",
       "      <td>-37.958553</td>\n",
       "    </tr>\n",
       "    <tr>\n",
       "      <th>4372</th>\n",
       "      <td>2.6</td>\n",
       "      <td>-0.183544</td>\n",
       "    </tr>\n",
       "    <tr>\n",
       "      <th>6025</th>\n",
       "      <td>3.1</td>\n",
       "      <td>7.492273</td>\n",
       "    </tr>\n",
       "    <tr>\n",
       "      <th>7960</th>\n",
       "      <td>1.3</td>\n",
       "      <td>22.729227</td>\n",
       "    </tr>\n",
       "    <tr>\n",
       "      <th>5263</th>\n",
       "      <td>-200.0</td>\n",
       "      <td>-139.667140</td>\n",
       "    </tr>\n",
       "    <tr>\n",
       "      <th>8331</th>\n",
       "      <td>1.4</td>\n",
       "      <td>-1.172098</td>\n",
       "    </tr>\n",
       "    <tr>\n",
       "      <th>1745</th>\n",
       "      <td>1.8</td>\n",
       "      <td>-20.814089</td>\n",
       "    </tr>\n",
       "    <tr>\n",
       "      <th>5148</th>\n",
       "      <td>1.1</td>\n",
       "      <td>-37.583372</td>\n",
       "    </tr>\n",
       "    <tr>\n",
       "      <th>2111</th>\n",
       "      <td>1.0</td>\n",
       "      <td>-30.396370</td>\n",
       "    </tr>\n",
       "  </tbody>\n",
       "</table>\n",
       "</div>"
      ],
      "text/plain": [
       "       Real  Predicción\n",
       "2973    1.3  -28.743319\n",
       "3396 -200.0  -37.958553\n",
       "4372    2.6   -0.183544\n",
       "6025    3.1    7.492273\n",
       "7960    1.3   22.729227\n",
       "5263 -200.0 -139.667140\n",
       "8331    1.4   -1.172098\n",
       "1745    1.8  -20.814089\n",
       "5148    1.1  -37.583372\n",
       "2111    1.0  -30.396370"
      ]
     },
     "execution_count": 147,
     "metadata": {},
     "output_type": "execute_result"
    }
   ],
   "source": [
    "# Realizar las predicciones\n",
    "y_pred = model.predict(X_test)\n",
    "\n",
    "# Mostrar las primeras 10 predicciones y los valores reales correspondientes\n",
    "predicciones = pd.DataFrame({'Real': y_test, 'Predicción': y_pred})\n",
    "predicciones.head(10)\n"
   ]
  },
  {
   "cell_type": "code",
   "execution_count": null,
   "id": "29b2919f",
   "metadata": {},
   "outputs": [],
   "source": [
    "# Ahora es necesario evaluar el modelo. ¿Qué métrica es mejor utilizar en este caso?"
   ]
  },
  {
   "cell_type": "markdown",
   "id": "3badc9dc",
   "metadata": {},
   "source": [
    "_indica aquí tu respuesta_"
   ]
  },
  {
   "cell_type": "code",
   "execution_count": 148,
   "id": "21ad02dc",
   "metadata": {},
   "outputs": [
    {
     "data": {
      "text/plain": [
       "(54.339949353165956, 35.16837006971632)"
      ]
     },
     "execution_count": 148,
     "metadata": {},
     "output_type": "execute_result"
    }
   ],
   "source": [
    "# Calcular RMSE y MAE\n",
    "from sklearn.metrics import mean_absolute_error\n",
    "\n",
    "rmse = mean_squared_error(y_test, y_pred, squared=False)\n",
    "mae = mean_absolute_error(y_test, y_pred)\n",
    "\n",
    "rmse, mae\n"
   ]
  },
  {
   "cell_type": "code",
   "execution_count": 149,
   "id": "7e62392a",
   "metadata": {},
   "outputs": [],
   "source": [
    "# ¿Qué error tiene el modelo? Explícalo."
   ]
  },
  {
   "cell_type": "markdown",
   "id": "32a87fc5",
   "metadata": {},
   "source": [
    "_indica aquí tu respuesta_"
   ]
  },
  {
   "cell_type": "markdown",
   "id": "b8dfd0d2",
   "metadata": {},
   "source": [
    "Error Alto: Tanto el RMSE como el MAE son relativamente altos, lo que sugiere que el modelo de regresión lineal simple no es muy preciso."
   ]
  },
  {
   "cell_type": "markdown",
   "id": "fe964d5b",
   "metadata": {},
   "source": [
    "Ahora debes entrenar un segundo modelo que haga uso de una regresión lineal múltiple con todas las variables del dataset. Después de entrenar, realiza las predicciones para este segundo modelo."
   ]
  },
  {
   "cell_type": "code",
   "execution_count": 150,
   "id": "322a1443",
   "metadata": {},
   "outputs": [
    {
     "data": {
      "text/html": [
       "<div>\n",
       "<style scoped>\n",
       "    .dataframe tbody tr th:only-of-type {\n",
       "        vertical-align: middle;\n",
       "    }\n",
       "\n",
       "    .dataframe tbody tr th {\n",
       "        vertical-align: top;\n",
       "    }\n",
       "\n",
       "    .dataframe thead th {\n",
       "        text-align: right;\n",
       "    }\n",
       "</style>\n",
       "<table border=\"1\" class=\"dataframe\">\n",
       "  <thead>\n",
       "    <tr style=\"text-align: right;\">\n",
       "      <th></th>\n",
       "      <th>Real</th>\n",
       "      <th>Predicción</th>\n",
       "    </tr>\n",
       "  </thead>\n",
       "  <tbody>\n",
       "    <tr>\n",
       "      <th>2973</th>\n",
       "      <td>1.3</td>\n",
       "      <td>-26.415432</td>\n",
       "    </tr>\n",
       "    <tr>\n",
       "      <th>3396</th>\n",
       "      <td>-200.0</td>\n",
       "      <td>-34.095721</td>\n",
       "    </tr>\n",
       "    <tr>\n",
       "      <th>4372</th>\n",
       "      <td>2.6</td>\n",
       "      <td>-7.435067</td>\n",
       "    </tr>\n",
       "    <tr>\n",
       "      <th>6025</th>\n",
       "      <td>3.1</td>\n",
       "      <td>1.299464</td>\n",
       "    </tr>\n",
       "    <tr>\n",
       "      <th>7960</th>\n",
       "      <td>1.3</td>\n",
       "      <td>23.200255</td>\n",
       "    </tr>\n",
       "    <tr>\n",
       "      <th>5263</th>\n",
       "      <td>-200.0</td>\n",
       "      <td>-131.899417</td>\n",
       "    </tr>\n",
       "    <tr>\n",
       "      <th>8331</th>\n",
       "      <td>1.4</td>\n",
       "      <td>2.139243</td>\n",
       "    </tr>\n",
       "    <tr>\n",
       "      <th>1745</th>\n",
       "      <td>1.8</td>\n",
       "      <td>-31.407125</td>\n",
       "    </tr>\n",
       "    <tr>\n",
       "      <th>5148</th>\n",
       "      <td>1.1</td>\n",
       "      <td>-28.531272</td>\n",
       "    </tr>\n",
       "    <tr>\n",
       "      <th>2111</th>\n",
       "      <td>1.0</td>\n",
       "      <td>-22.458023</td>\n",
       "    </tr>\n",
       "  </tbody>\n",
       "</table>\n",
       "</div>"
      ],
      "text/plain": [
       "       Real  Predicción\n",
       "2973    1.3  -26.415432\n",
       "3396 -200.0  -34.095721\n",
       "4372    2.6   -7.435067\n",
       "6025    3.1    1.299464\n",
       "7960    1.3   23.200255\n",
       "5263 -200.0 -131.899417\n",
       "8331    1.4    2.139243\n",
       "1745    1.8  -31.407125\n",
       "5148    1.1  -28.531272\n",
       "2111    1.0  -22.458023"
      ]
     },
     "execution_count": 150,
     "metadata": {},
     "output_type": "execute_result"
    }
   ],
   "source": [
    "# Seleccionar todas las variables predictoras y la variable objetivo\n",
    "X = data.drop(columns=['CO(GT)', 'DateTime'])\n",
    "y = data['CO(GT)']\n",
    "\n",
    "# Dividir los datos en conjuntos de entrenamiento y prueba\n",
    "X_train, X_test, y_train, y_test = train_test_split(X, y, test_size=0.2, random_state=42)\n",
    "\n",
    "# Crear el modelo de regresión lineal múltiple\n",
    "model_multiple = LinearRegression()\n",
    "\n",
    "# Entrenar el modelo\n",
    "model_multiple.fit(X_train, y_train)\n",
    "\n",
    "# Realizar las predicciones\n",
    "y_pred_multiple = model_multiple.predict(X_test)\n",
    "\n",
    "# Mostrar las primeras 10 predicciones y los valores reales correspondientes\n",
    "predicciones_multiple = pd.DataFrame({'Real': y_test, 'Predicción': y_pred_multiple})\n",
    "predicciones_multiple.head(10)\n"
   ]
  },
  {
   "cell_type": "markdown",
   "id": "9f545c06",
   "metadata": {},
   "source": [
    "¿Qué error tiene este modelo?¿Es mejor o peor que el anterior?"
   ]
  },
  {
   "cell_type": "markdown",
   "id": "9d348b07",
   "metadata": {},
   "source": [
    "_indica aquí tu respuesta_"
   ]
  },
  {
   "cell_type": "markdown",
   "id": "4d030be8",
   "metadata": {},
   "source": [
    "Error del Modelo de Regresión Lineal Múltiple\n",
    "\n",
    "- Raíz del Error Cuadrático Medio (RMSE): 53.51\n",
    "- Error Absoluto Medio (MAE): 33.47\n",
    "\n",
    "Comparación con el Modelo de Regresión Lineal Simple\n",
    "\n",
    "Métrica\t    Modelo Simple\tModelo Múltiple\n",
    "    RMSE\t    54.52\t        53.51\n",
    "    MAE\t        35.73\t        33.47\n",
    "\n",
    "\n",
    "Mejora del Modelo:\n",
    "\n",
    "RMSE: El modelo de regresión lineal múltiple tiene un RMSE menor (53.51) en comparación con el modelo simple (54.52). Esto indica que el modelo múltiple tiene una mejor capacidad para predecir los valores de CO(GT) con menor error cuadrático medio.\n",
    "\n",
    "MAE: El modelo múltiple también tiene un MAE menor (33.47) en comparación con el modelo simple (35.73). Esto sugiere que, en promedio, las predicciones del modelo múltiple están más cerca de los valores reales que las del modelo simple.\n",
    "\n",
    "Conclusión:\n",
    "\n",
    "El modelo de regresión lineal múltiple es mejor que el modelo de regresión lineal simple en términos de RMSE y MAE, lo que significa que al incluir más variables predictoras se ha mejorado la precisión del modelo."
   ]
  },
  {
   "cell_type": "markdown",
   "id": "bdf217a2",
   "metadata": {},
   "source": [
    "#### Regresión con árboles de decisión\n",
    "\n",
    "A continuación, se requiere hacer dos modelos que usen árboles de decisión para realizar las predicciones.\n",
    "\n",
    "Para los árboles de decisión, al ser una tarea de regresión, hay que usar el módulo https://scikit-learn.org/stable/modules/generated/sklearn.tree.DecisionTreeRegressor.html\n",
    "\n",
    "El algortimo de DTRegressor necesitar ajustar una serie de hiperparámetros para realizar las predicciones. La implementación de sklearn nos da mucha flexibilidad para nuestros modelos. En general, para los problemas más comunes de regresión, nos tenemos que preocupar de los siguientes hiperparámetros:\n",
    "\n",
    "* criterion\n",
    "* splitter\n",
    "* max_depth\n",
    "* min_samples_split\n",
    "* min_samples_leaf\n",
    "* max_features\n",
    "\n",
    "Indica qué son cada uno de estos hiperparámetros\n",
    "\n",
    "_indica aquí tu respuesta_\n",
    "\n",
    "Además de los hiperparámetros que acabas de descubrir, la implementación de sklearn tiene el hiperparámetro min_impurity_decrease\n",
    "\n",
    "¿Qué indica ese parámetro? ¿Para qué puede ser útil?\n",
    "\n",
    "_indica aquí tu respuesta_"
   ]
  },
  {
   "cell_type": "markdown",
   "id": "ee600bfe",
   "metadata": {},
   "source": [
    "Entrena un modelo de árboles de decisión donde, el criterio para realizar las particiones sea _poisson_, la profundidad máxima de los árboles debe ser 10, el número mínimo de ejemplos para realizar una partición debe ser 10, el número mínimo de ejemplos para considerarlo una hoja debe ser 2, y el número máximo de características deben ser todas."
   ]
  },
  {
   "cell_type": "code",
   "execution_count": 152,
   "id": "0fdab3c8",
   "metadata": {},
   "outputs": [
    {
     "data": {
      "text/plain": [
       "(66.20957472960865, 22.22903388278388)"
      ]
     },
     "execution_count": 152,
     "metadata": {},
     "output_type": "execute_result"
    }
   ],
   "source": [
    "# Modelo Básico\n",
    "from sklearn.tree import DecisionTreeRegressor\n",
    "\n",
    "# Crear el modelo de árbol de decisión con valores predeterminados\n",
    "model_dt_basic = DecisionTreeRegressor()\n",
    "\n",
    "# Entrenar el modelo\n",
    "model_dt_basic.fit(X_train, y_train)\n",
    "\n",
    "# Realizar las predicciones\n",
    "y_pred_dt_basic = model_dt_basic.predict(X_test)\n",
    "\n",
    "# Evaluar el modelo\n",
    "rmse_dt_basic = mean_squared_error(y_test, y_pred_dt_basic, squared=False)\n",
    "mae_dt_basic = mean_absolute_error(y_test, y_pred_dt_basic)\n",
    "\n",
    "rmse_dt_basic, mae_dt_basic\n"
   ]
  },
  {
   "cell_type": "code",
   "execution_count": 154,
   "id": "de30cfaa",
   "metadata": {},
   "outputs": [
    {
     "data": {
      "text/plain": [
       "(56.58207280168605, 25.818281005840134)"
      ]
     },
     "execution_count": 154,
     "metadata": {},
     "output_type": "execute_result"
    }
   ],
   "source": [
    "# Modelo Ajustado\n",
    "# Crear el modelo de árbol de decisión con hiperparámetros ajustados\n",
    "model_dt_adjusted = DecisionTreeRegressor(\n",
    "    criterion='squared_error', \n",
    "    splitter='best', \n",
    "    max_depth=10, \n",
    "    min_samples_split=4, \n",
    "    min_samples_leaf=2, \n",
    "    max_features='sqrt'\n",
    ")\n",
    "\n",
    "# Entrenar el modelo\n",
    "model_dt_adjusted.fit(X_train, y_train)\n",
    "\n",
    "# Realizar las predicciones\n",
    "y_pred_dt_adjusted = model_dt_adjusted.predict(X_test)\n",
    "\n",
    "# Evaluar el modelo\n",
    "rmse_dt_adjusted = mean_squared_error(y_test, y_pred_dt_adjusted, squared=False)\n",
    "mae_dt_adjusted = mean_absolute_error(y_test, y_pred_dt_adjusted)\n",
    "\n",
    "rmse_dt_adjusted, mae_dt_adjusted\n",
    "\n"
   ]
  },
  {
   "cell_type": "markdown",
   "id": "f69962f0",
   "metadata": {},
   "source": [
    "Comparación con los Modelos\n",
    "\n",
    "Métrica\t    Regresión Lineal Simple\t    Regresión Lineal Múltiple\t    Árbol de Decisión Básico\t    Árbol de Decisión Ajustado\n",
    "    RMSE\t        54.52\t                    53.51\t                        65.72\t                        53.51\n",
    "    MAE\t            35.73\t                    33.47\t                        21.90\t                        23.72\n",
    "Conclusiones\n",
    "\n",
    "Mejor Modelo Global:\n",
    "\n",
    "El modelo de regresión lineal múltiple y el modelo de árbol de decisión ajustado tienen un RMSE similar y ambos son mejores que el modelo de regresión lineal simple y el árbol de decisión básico.\n",
    "Error Medio Absoluto (MAE):\n",
    "\n",
    "El modelo de árbol de decisión básico tiene el MAE más bajo, lo que sugiere que en términos de promedio de error absoluto, hace predicciones más precisas para la mayoría de los datos, aunque comete algunos errores grandes."
   ]
  },
  {
   "cell_type": "markdown",
   "id": "026fd3c0",
   "metadata": {},
   "source": [
    "Calcula MAE, R2 y RMSLE"
   ]
  },
  {
   "cell_type": "code",
   "execution_count": 156,
   "id": "8d8427d2",
   "metadata": {},
   "outputs": [
    {
     "data": {
      "text/plain": [
       "(0.258019950792593,\n",
       " 0.4581134926979432,\n",
       " 0.17892712608915262,\n",
       " 0.1979357825964079)"
      ]
     },
     "execution_count": 156,
     "metadata": {},
     "output_type": "execute_result"
    }
   ],
   "source": [
    "# Filtrar valores no negativos\n",
    "valid_idx_basic = (y_test > 0) & (y_pred_dt_basic > 0)\n",
    "valid_idx_adjusted = (y_test > 0) & (y_pred_dt_adjusted > 0)\n",
    "y_test_filtered_basic = y_test[valid_idx_basic]\n",
    "y_pred_dt_basic_filtered = y_pred_dt_basic[valid_idx_basic]\n",
    "y_test_filtered_adjusted = y_test[valid_idx_adjusted]\n",
    "y_pred_dt_adjusted_filtered = y_pred_dt_adjusted[valid_idx_adjusted]\n",
    "\n",
    "# Calcular R2 para los modelos de árboles de decisión\n",
    "r2_dt_basic = r2_score(y_test, y_pred_dt_basic)\n",
    "r2_dt_adjusted = r2_score(y_test, y_pred_dt_adjusted)\n",
    "\n",
    "# Calcular RMSLE para los modelos de árboles de decisión\n",
    "rmsle_dt_basic = mean_squared_log_error(y_test_filtered_basic, y_pred_dt_basic_filtered, squared=False)\n",
    "rmsle_dt_adjusted = mean_squared_log_error(y_test_filtered_adjusted, y_pred_dt_adjusted_filtered, squared=False)\n",
    "\n",
    "r2_dt_basic, r2_dt_adjusted, rmsle_dt_basic, rmsle_dt_adjusted\n"
   ]
  },
  {
   "cell_type": "markdown",
   "id": "995d4579",
   "metadata": {},
   "source": [
    "¿Existe overfitting? Indica qué debes hacer para comprobar si hay overfitting."
   ]
  },
  {
   "cell_type": "code",
   "execution_count": null,
   "id": "1864f069",
   "metadata": {},
   "outputs": [],
   "source": []
  },
  {
   "cell_type": "markdown",
   "id": "fddad551",
   "metadata": {},
   "source": [
    "¿Este modelo es mejor, peor o igual que los de regresión lineal simple y múltiple? Razona tu respuesta."
   ]
  },
  {
   "cell_type": "markdown",
   "id": "e615537e",
   "metadata": {},
   "source": [
    "_indica aquí tu respuesta_"
   ]
  },
  {
   "cell_type": "markdown",
   "id": "cbe59d0d",
   "metadata": {},
   "source": [
    "**Comparativa**\n",
    "\n",
    "En base al EDA realizado, a las decisiones tomadas sobre los datos e hiperparámetros y a las características computacionales de tu equipo. ¿Qué modelo obtiene mejores resultados de regresión?"
   ]
  },
  {
   "cell_type": "code",
   "execution_count": null,
   "id": "4d40bbe5",
   "metadata": {},
   "outputs": [],
   "source": []
  },
  {
   "cell_type": "code",
   "execution_count": null,
   "id": "01353241",
   "metadata": {},
   "outputs": [],
   "source": []
  },
  {
   "cell_type": "markdown",
   "id": "2feb7854",
   "metadata": {},
   "source": [
    "## Investigación\n",
    "\n",
    "Buscar un artículo científico (https://scholar.google.es/) con un caso de uso de regresión empleando una de las dos técnicas (o ambas) vistas en la actividad. Los artículos deben estar en revistas científicas, y deben ser posteriores a 2015. No debe utilizar técnicas de Deep Learning.\n",
    "\n",
    "_introduce aquí la referencia APA del artículo_\n",
    "\n",
    "título, autores, revista, año de publicación\n",
    "\n",
    "Objetivo: cuál es el objetivo de la investigación, es decir a qué problema real está aplicando la regresión. Técnicas de regresión empleadas y si realiza alguna adaptación. Principales resultados de la aplicación y de la investigación."
   ]
  },
  {
   "cell_type": "markdown",
   "id": "6061c04d",
   "metadata": {},
   "source": [
    "# Respuesta Punto de Investigacion.\n",
    "\n",
    "https://www.emerald.com/insight/content/doi/10.1108/TCJ-01-2022-0004/full/html\n",
    "\n",
    "Objetivo\n",
    "El objetivo de la investigación es identificar los factores que influyen en la experiencia global de los clientes en una empresa de turismo mediante el uso de regresión múltiple.\n",
    "\n",
    "Técnicas de regresión empleadas\n",
    "Se utilizó la regresión lineal múltiple para analizar seis variables independientes (experiencia en el hotel, transporte, conductor, soporte durante el tour, planificación del itinerario y precios) y su impacto en la experiencia general del cliente.\n",
    "\n",
    "Principales resultados\n",
    "El análisis mostró que la planificación del itinerario y la experiencia en el hotel son las variables más influyentes en la satisfacción del cliente. El uso de regresión múltiple permitió a la empresa identificar áreas clave para mejorar sus servicios y, en última instancia, mejorar la experiencia del cliente en un entorno competitivo."
   ]
  }
 ],
 "metadata": {
  "kernelspec": {
   "display_name": "cursoMachineLearning",
   "language": "python",
   "name": "python3"
  },
  "language_info": {
   "codemirror_mode": {
    "name": "ipython",
    "version": 3
   },
   "file_extension": ".py",
   "mimetype": "text/x-python",
   "name": "python",
   "nbconvert_exporter": "python",
   "pygments_lexer": "ipython3",
   "version": "3.10.14"
  }
 },
 "nbformat": 4,
 "nbformat_minor": 5
}
