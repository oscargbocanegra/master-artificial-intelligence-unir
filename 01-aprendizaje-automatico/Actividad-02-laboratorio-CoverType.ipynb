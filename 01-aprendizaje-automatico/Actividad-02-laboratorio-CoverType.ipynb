{
 "cells": [
  {
   "attachments": {
    "image.png": {
     "image/png": "[encoded data removed]"
    }
   },
   "cell_type": "markdown",
   "id": "d527775b",
   "metadata": {},
   "source": [
    "![image.png](attachment:image.png)\n",
    "\n",
    "_Aprendizaje Automático_\n",
    "\n",
    "_Máster Universitario en Inteligencia Artificial_\n",
    "\n",
    "# Actividad: Clasificación con máquinas de vectores de soporte y random forest\n",
    "\n",
    "## Objetivos\n",
    "\n",
    "Mediante esta actividad se pretende que ponga en práctica la creación de modelos basados en máquinas de vector de soporte y random forest. El objetivo es comprender de forma práctica con un problema determinado las diferencias que existen a la hora de entrenar los diferentes modelos.\n",
    "\n",
    "- Comprender el tratamiento de datos que hay que realizar para los modelos de clasificación.\n",
    "- Entender y aplicar el algoritmo de Random Forest a un problema de clasificación.\n",
    "- Entender y aplicar el algoritmo de Support Vector Machine a un problema de clasificación.\n",
    "- Evaluar y analizar los resultados de los clasificadores.\n",
    "- Investigar la aplicación de los modelos de clasificación a problemas reales.\n",
    "\n",
    "\n",
    "## Descripción de la actividad\n",
    "\n",
    "Debes completar los espacios indicados en el notebook con el código solicitado y la respuesta, en función de lo que se solicite. Ten encuenta que las celdas vacías indican cuántas líneas debe ocupar la respuesta, por lo general no más de una línea.\n",
    "\n",
    "El conjunto de datos con el que vamos a trabajar se encuentra en el siguiente enlace: https://archive.ics.uci.edu/dataset/31/covertype\n",
    "\n",
    "Este dataset ha sido generado para predecir el tipo de cubierta forestal únicamente a partir de variables cartográficas (sin datos de sensores remotos). El tipo de cubierta forestal real para una observación determinada (celda de 30 x 30 metros) se determinó a partir de los datos del Sistema de información de recursos (RIS) de la Región 2 del Servicio Forestal de EE. UU. (USFS). Las variables independientes se derivaron de datos obtenidos originalmente del Servicio Geológico de EE. UU. (USGS) y de datos del USFS. Los datos están en forma original (no escalados) y contienen columnas binarias (0 o 1) de datos para variables cualitativas independientes (áreas silvestres y tipos de suelo).\n",
    "Para ampliar información sobre el dataset y su origen, recomendamos leer la descripción completa del dataset en el enlace del repositorio. l.\n",
    "\n",
    "El objetivo de la clasificación será detectar el tipo de suelo.\n",
    "\n",
    "### Tareas que se deben realizar\n",
    "\n",
    "- Análisis descriptivo de los datos:\n",
    "   - Debe completarse el código solicitado y responder a las preguntas. Todo ello en el notebook dado como base.\n",
    "- Clasificación:\n",
    "  - Debe completarse el código solicitado y responder a las preguntas. Todo ello en el notebook dado como base.\n",
    "- Investigación:\n",
    "  - Buscar un artículo científico (https://scholar.google.es/) con un caso de uso de clasificación empleando una de las dos técnicas (o ambas) vistas en la actividad. Los artículos deben estar en revistas científicas, y deben ser posteriores a 2015. No debe utilizar técnicas de Deep Learning.\n",
    "  - Para el artículo indicar:\n",
    "    - Objetivo: cuál es el objetivo de la investigación, es decir a qué problema real está aplicando la clasificación.\n",
    "    - Cómo utilizan las técnicas de clasificación, si realizan alguna adaptación de los algoritmos indicarse.\n",
    "    - Principales resultados de la aplicación y de la investigación.\n"
   ]
  },
  {
   "cell_type": "markdown",
   "id": "c399e1d6",
   "metadata": {},
   "source": [
    "### Análisis descriptivo de los datos"
   ]
  },
  {
   "cell_type": "code",
   "execution_count": 1,
   "id": "ed8056a1",
   "metadata": {},
   "outputs": [],
   "source": [
    "import numpy as np\n",
    "import pandas as pd\n",
    "from matplotlib import pyplot as plt\n",
    "import seaborn as sns"
   ]
  },
  {
   "cell_type": "markdown",
   "id": "df6d6b79",
   "metadata": {},
   "source": [
    "Alumno: Oscar Giovanni Bocanegra Hurtado"
   ]
  },
  {
   "cell_type": "code",
   "execution_count": 5,
   "id": "9c732dd7",
   "metadata": {},
   "outputs": [
    {
     "name": "stdout",
     "output_type": "stream",
     "text": [
      "   2596   51   3  258    0   510  221  232  148  6279  ...  0.34  0.35  0.36  \\\n",
      "0  2590   56   2  212   -6   390  220  235  151  6225  ...     0     0     0   \n",
      "1  2804  139   9  268   65  3180  234  238  135  6121  ...     0     0     0   \n",
      "2  2785  155  18  242  118  3090  238  238  122  6211  ...     0     0     0   \n",
      "3  2595   45   2  153   -1   391  220  234  150  6172  ...     0     0     0   \n",
      "4  2579  132   6  300  -15    67  230  237  140  6031  ...     0     0     0   \n",
      "\n",
      "   0.37  0.38  0.39  0.40  0.41  0.42  5  \n",
      "0     0     0     0     0     0     0  5  \n",
      "1     0     0     0     0     0     0  2  \n",
      "2     0     0     0     0     0     0  2  \n",
      "3     0     0     0     0     0     0  5  \n",
      "4     0     0     0     0     0     0  2  \n",
      "\n",
      "[5 rows x 55 columns]\n"
     ]
    }
   ],
   "source": [
    "# se carga el dataset\n",
    "file_path = 'C:/proyectos/Master-IA-Unir/02-Aprendizaje-automatico/datasets/covtype.csv'\n",
    "df = pd.read_csv(file_path , sep=',')\n",
    "print(df.head())\n",
    "#df = pd.read_csv('covertype/covtype.csv')"
   ]
  },
  {
   "cell_type": "markdown",
   "id": "2b5650ab",
   "metadata": {},
   "source": [
    "¿Cuántas instancias de datos tiene el dataset?"
   ]
  },
  {
   "cell_type": "code",
   "execution_count": 14,
   "id": "c21b23d3",
   "metadata": {},
   "outputs": [
    {
     "name": "stdout",
     "output_type": "stream",
     "text": [
      "El dataset tiene 581011 instancias.\n"
     ]
    }
   ],
   "source": [
    "# Obtener la cantidad de instancias en el dataset\n",
    "num_instances = df.shape[0]\n",
    "print(f'El dataset tiene {num_instances} instancias.')\n"
   ]
  },
  {
   "cell_type": "markdown",
   "id": "26e1d966",
   "metadata": {},
   "source": [
    "¿Cuántas variables continuas hay en el dataset?"
   ]
  },
  {
   "cell_type": "code",
   "execution_count": 7,
   "id": "9510e492",
   "metadata": {},
   "outputs": [
    {
     "data": {
      "text/plain": [
       "2596    int64\n",
       "51      int64\n",
       "3       int64\n",
       "258     int64\n",
       "0       int64\n",
       "510     int64\n",
       "221     int64\n",
       "232     int64\n",
       "148     int64\n",
       "6279    int64\n",
       "1       int64\n",
       "0.1     int64\n",
       "0.2     int64\n",
       "0.3     int64\n",
       "0.4     int64\n",
       "0.5     int64\n",
       "0.6     int64\n",
       "0.7     int64\n",
       "0.8     int64\n",
       "0.9     int64\n",
       "0.10    int64\n",
       "0.11    int64\n",
       "0.12    int64\n",
       "0.13    int64\n",
       "0.14    int64\n",
       "0.15    int64\n",
       "0.16    int64\n",
       "0.17    int64\n",
       "0.18    int64\n",
       "0.19    int64\n",
       "0.20    int64\n",
       "0.21    int64\n",
       "0.22    int64\n",
       "0.23    int64\n",
       "0.24    int64\n",
       "0.25    int64\n",
       "0.26    int64\n",
       "0.27    int64\n",
       "0.28    int64\n",
       "0.29    int64\n",
       "0.30    int64\n",
       "0.31    int64\n",
       "1.1     int64\n",
       "0.32    int64\n",
       "0.33    int64\n",
       "0.34    int64\n",
       "0.35    int64\n",
       "0.36    int64\n",
       "0.37    int64\n",
       "0.38    int64\n",
       "0.39    int64\n",
       "0.40    int64\n",
       "0.41    int64\n",
       "0.42    int64\n",
       "5       int64\n",
       "dtype: object"
      ]
     },
     "execution_count": 7,
     "metadata": {},
     "output_type": "execute_result"
    }
   ],
   "source": [
    "## PON AQUÍ TU CÓDIGO\n",
    "# Primero, inspeccionamos el tipo de datos de cada columna:\n",
    "df.dtypes"
   ]
  },
  {
   "cell_type": "code",
   "execution_count": 15,
   "id": "78e1a67b",
   "metadata": {},
   "outputs": [
    {
     "name": "stdout",
     "output_type": "stream",
     "text": [
      "El dataset tiene 10 variables continuas.\n"
     ]
    }
   ],
   "source": [
    "# Definir las variables continuas según la descripción del dataset\n",
    "continuous_columns = [\"Elevation\", \"Aspect\", \"Slope\", \"Horizontal_Distance_To_Hydrology\",\n",
    "                      \"Vertical_Distance_To_Hydrology\", \"Horizontal_Distance_To_Roadways\",\n",
    "                      \"Hillshade_9am\", \"Hillshade_Noon\", \"Hillshade_3pm\",\n",
    "                      \"Horizontal_Distance_To_Fire_Points\"]\n",
    "\n",
    "# Contar el número de variables continuas\n",
    "num_continuous = len(continuous_columns)\n",
    "print(f'El dataset tiene {num_continuous} variables continuas.')\n"
   ]
  },
  {
   "cell_type": "markdown",
   "id": "29b8ec58",
   "metadata": {},
   "source": [
    " variables continuas"
   ]
  },
  {
   "cell_type": "markdown",
   "id": "12c2a9c8",
   "metadata": {},
   "source": [
    "¿Cuántas variables categóricas hay en el dataset? Indica las categorías."
   ]
  },
  {
   "cell_type": "markdown",
   "id": "22955251",
   "metadata": {},
   "source": [
    "hay X variables categóricas"
   ]
  },
  {
   "cell_type": "code",
   "execution_count": 16,
   "id": "a8b9782f",
   "metadata": {},
   "outputs": [
    {
     "name": "stdout",
     "output_type": "stream",
     "text": [
      "El dataset tiene 44 variables categóricas.\n",
      "Categorías:\n",
      "Wilderness Areas: ['Wilderness_Area_0', 'Wilderness_Area_1', 'Wilderness_Area_2', 'Wilderness_Area_3']\n",
      "Soil Types: ['Soil_Type_0', 'Soil_Type_1', 'Soil_Type_2', 'Soil_Type_3', 'Soil_Type_4', 'Soil_Type_5', 'Soil_Type_6', 'Soil_Type_7', 'Soil_Type_8', 'Soil_Type_9', 'Soil_Type_10', 'Soil_Type_11', 'Soil_Type_12', 'Soil_Type_13', 'Soil_Type_14', 'Soil_Type_15', 'Soil_Type_16', 'Soil_Type_17', 'Soil_Type_18', 'Soil_Type_19', 'Soil_Type_20', 'Soil_Type_21', 'Soil_Type_22', 'Soil_Type_23', 'Soil_Type_24', 'Soil_Type_25', 'Soil_Type_26', 'Soil_Type_27', 'Soil_Type_28', 'Soil_Type_29', 'Soil_Type_30', 'Soil_Type_31', 'Soil_Type_32', 'Soil_Type_33', 'Soil_Type_34', 'Soil_Type_35', 'Soil_Type_36', 'Soil_Type_37', 'Soil_Type_38', 'Soil_Type_39']\n"
     ]
    }
   ],
   "source": [
    "# Definir las variables categóricas según la descripción del dataset\n",
    "wilderness_areas = [f\"Wilderness_Area_{i}\" for i in range(4)]\n",
    "soil_types = [f\"Soil_Type_{i}\" for i in range(40)]\n",
    "\n",
    "# Contar el número de variables categóricas\n",
    "num_categorical = len(wilderness_areas) + len(soil_types)\n",
    "\n",
    "# Categorías\n",
    "categories = {\n",
    "    \"Wilderness Areas\": wilderness_areas,\n",
    "    \"Soil Types\": soil_types\n",
    "}\n",
    "\n",
    "print(f'El dataset tiene {num_categorical} variables categóricas.')\n",
    "print('Categorías:')\n",
    "for category, columns in categories.items():\n",
    "    print(f'{category}: {columns}')\n",
    "\n"
   ]
  },
  {
   "cell_type": "markdown",
   "id": "9b259f7a",
   "metadata": {},
   "source": [
    "¿Cómo es la distribución de etiquetas de clase en el dataset? Con estos datos, ¿podríamos decir que el dataset está balanceado?"
   ]
  },
  {
   "cell_type": "code",
   "execution_count": 27,
   "id": "5d2626a9",
   "metadata": {},
   "outputs": [
    {
     "name": "stdout",
     "output_type": "stream",
     "text": [
      "Cover_Type\n",
      "2    283301\n",
      "1    211840\n",
      "3     35754\n",
      "7     20510\n",
      "6     17367\n",
      "5      9493\n",
      "4      2747\n",
      "Name: count, dtype: int64\n"
     ]
    },
    {
     "data": {
      "image/png": "[encoded data removed]",
      "text/plain": [
       "<Figure size 640x480 with 1 Axes>"
      ]
     },
     "metadata": {},
     "output_type": "display_data"
    }
   ],
   "source": [
    "## PON AQUÍ TU CÓDIGO\n",
    "import pandas as pd\n",
    "import matplotlib.pyplot as plt\n",
    "\n",
    "# Cargar los datos\n",
    "url = 'https://archive.ics.uci.edu/ml/machine-learning-databases/covtype/covtype.data.gz'\n",
    "column_names = [\"Elevation\", \"Aspect\", \"Slope\", \"Horizontal_Distance_To_Hydrology\",\n",
    "                \"Vertical_Distance_To_Hydrology\", \"Horizontal_Distance_To_Roadways\",\n",
    "                \"Hillshade_9am\", \"Hillshade_Noon\", \"Hillshade_3pm\",\n",
    "                \"Horizontal_Distance_To_Fire_Points\"] + \\\n",
    "               [f\"Wilderness_Area_{i}\" for i in range(4)] + \\\n",
    "               [f\"Soil_Type_{i}\" for i in range(40)] + [\"Cover_Type\"]\n",
    "\n",
    "df = pd.read_csv(url, header=None, names=column_names)\n",
    "\n",
    "# Obtener la distribución de las etiquetas de clase\n",
    "class_distribution = df['Cover_Type'].value_counts()\n",
    "\n",
    "# Mostrar la distribución\n",
    "print(class_distribution)\n",
    "\n",
    "# Visualizar la distribución\n",
    "class_distribution.plot(kind='bar')\n",
    "plt.xlabel('Cover Type')\n",
    "plt.ylabel('Frequency')\n",
    "plt.title('Distribution of Cover Types')\n",
    "plt.show()\n",
    "\n"
   ]
  },
  {
   "cell_type": "markdown",
   "id": "7074a1b6",
   "metadata": {},
   "source": [
    "## Con estos datos, ¿podríamos decir que el dataset está balanceado?\n",
    "\n",
    "Para que un dataset esté balanceado, las clases deben tener una cantidad similar de instancias. Observando los datos proporcionados:\n",
    "\n",
    "Clase 2: 283,301 instancias\n",
    "Clase 1: 211,840 instancias\n",
    "Clase 3: 35,754 instancias\n",
    "Clase 7: 2,747 instancias\n",
    "Clase 6: 2,747 instancias\n",
    "Clase 5: 1,143 instancias\n",
    "Clase 4: 949 instancias\n",
    "\n",
    "Concluimos que no está balanceado. Hay una gran diferencia en el número de instancias entre las clases. Esta discrepancia indica un desbalance significativo, lo que puede afectar el rendimiento de los algoritmos de clasificación, ya que estos tienden a favorecer las clases más frecuentes."
   ]
  },
  {
   "cell_type": "markdown",
   "id": "f5aa4dd7",
   "metadata": {},
   "source": [
    "¿Existen valores nulos o perdidos en el dataset?"
   ]
  },
  {
   "cell_type": "code",
   "execution_count": 28,
   "id": "39995616",
   "metadata": {},
   "outputs": [
    {
     "name": "stdout",
     "output_type": "stream",
     "text": [
      "Elevation                             0\n",
      "Aspect                                0\n",
      "Slope                                 0\n",
      "Horizontal_Distance_To_Hydrology      0\n",
      "Vertical_Distance_To_Hydrology        0\n",
      "Horizontal_Distance_To_Roadways       0\n",
      "Hillshade_9am                         0\n",
      "Hillshade_Noon                        0\n",
      "Hillshade_3pm                         0\n",
      "Horizontal_Distance_To_Fire_Points    0\n",
      "Wilderness_Area_0                     0\n",
      "Wilderness_Area_1                     0\n",
      "Wilderness_Area_2                     0\n",
      "Wilderness_Area_3                     0\n",
      "Soil_Type_0                           0\n",
      "Soil_Type_1                           0\n",
      "Soil_Type_2                           0\n",
      "Soil_Type_3                           0\n",
      "Soil_Type_4                           0\n",
      "Soil_Type_5                           0\n",
      "Soil_Type_6                           0\n",
      "Soil_Type_7                           0\n",
      "Soil_Type_8                           0\n",
      "Soil_Type_9                           0\n",
      "Soil_Type_10                          0\n",
      "Soil_Type_11                          0\n",
      "Soil_Type_12                          0\n",
      "Soil_Type_13                          0\n",
      "Soil_Type_14                          0\n",
      "Soil_Type_15                          0\n",
      "Soil_Type_16                          0\n",
      "Soil_Type_17                          0\n",
      "Soil_Type_18                          0\n",
      "Soil_Type_19                          0\n",
      "Soil_Type_20                          0\n",
      "Soil_Type_21                          0\n",
      "Soil_Type_22                          0\n",
      "Soil_Type_23                          0\n",
      "Soil_Type_24                          0\n",
      "Soil_Type_25                          0\n",
      "Soil_Type_26                          0\n",
      "Soil_Type_27                          0\n",
      "Soil_Type_28                          0\n",
      "Soil_Type_29                          0\n",
      "Soil_Type_30                          0\n",
      "Soil_Type_31                          0\n",
      "Soil_Type_32                          0\n",
      "Soil_Type_33                          0\n",
      "Soil_Type_34                          0\n",
      "Soil_Type_35                          0\n",
      "Soil_Type_36                          0\n",
      "Soil_Type_37                          0\n",
      "Soil_Type_38                          0\n",
      "Soil_Type_39                          0\n",
      "Cover_Type                            0\n",
      "dtype: int64\n",
      "¿Existen valores nulos en el dataset? False\n"
     ]
    }
   ],
   "source": [
    "## PON AQUÍ TU CÓDIGO\n",
    "# Verificación de valores nulos en el dataset\n",
    "null_values = df.isnull().sum()\n",
    "\n",
    "# Mostrar los resultados\n",
    "print(null_values)\n",
    "\n",
    "# Verificar si hay algún valor nulo en el dataset\n",
    "any_null_values = null_values.any()\n",
    "print(f'¿Existen valores nulos en el dataset? {any_null_values}')\n"
   ]
  },
  {
   "cell_type": "markdown",
   "id": "625ba0c3",
   "metadata": {},
   "source": [
    "¿Existe alguna variable altamente correlacionada con la variable de clase?"
   ]
  },
  {
   "cell_type": "markdown",
   "id": "f2e38d4e",
   "metadata": {},
   "source": [
    "_Nota: Para responder a esto, como es muy dificil ver la matriz de correlaciones, recomendamosfiltar aquellas correlaciones superiores al 0.80 con la variable de clase."
   ]
  },
  {
   "cell_type": "code",
   "execution_count": 35,
   "id": "1d61da96",
   "metadata": {},
   "outputs": [
    {
     "name": "stdout",
     "output_type": "stream",
     "text": [
      "Elevation                            -0.491177\n",
      "Slope                                 0.151078\n",
      "Horizontal_Distance_To_Roadways      -0.221889\n",
      "Horizontal_Distance_To_Fire_Points   -0.136924\n",
      "Name: Cover_Type, dtype: float64\n"
     ]
    }
   ],
   "source": [
    "## PON AQUÍ TU CÓDIGO\n",
    "# Calcular la correlación de Spearman entre las variables continuas y la variable de clase\n",
    "continuous_columns = [\"Elevation\", \"Aspect\", \"Slope\", \"Horizontal_Distance_To_Hydrology\",\n",
    "                      \"Vertical_Distance_To_Hydrology\", \"Horizontal_Distance_To_Roadways\",\n",
    "                      \"Hillshade_9am\", \"Hillshade_Noon\", \"Hillshade_3pm\",\n",
    "                      \"Horizontal_Distance_To_Fire_Points\"]\n",
    "\n",
    "correlations = df[continuous_columns + ['Cover_Type']].corr(method='spearman')['Cover_Type'].drop('Cover_Type')\n",
    "\n",
    "# Filtrar correlaciones superiores a 0.80\n",
    "high_correlations = correlations[correlations.abs() > 0.10]\n",
    "print(high_correlations)\n"
   ]
  },
  {
   "cell_type": "markdown",
   "id": "88ed3c79",
   "metadata": {},
   "source": [
    "¿Qué tres variables del dataset consideras que pueden influenciar más en la clasificación de los datos?¿Qué pruebas harías para comprobar tus hipótesis? Hazlas."
   ]
  },
  {
   "cell_type": "markdown",
   "id": "ff908697",
   "metadata": {},
   "source": [
    "_PON AQUÍ TU RESPUESTA_"
   ]
  },
  {
   "cell_type": "markdown",
   "id": "c2158a81",
   "metadata": {},
   "source": [
    "Para identificar las tres variables que pueden influir más en la clasificación de los datos, podemos utilizar varios métodos, como la importancia de características de un modelo de clasificación, correlación con la variable de clase, y visualización de relaciones.\n",
    "\n",
    "Métodos para Identificar Variables Importantes\n",
    "Importancia de características usando RandomForestClassifier:\n",
    "Correlación de Spearman con la variable de clase:\n",
    "Visualización de relaciones (opcional para análisis más detallado)."
   ]
  },
  {
   "cell_type": "code",
   "execution_count": 36,
   "id": "62cf0bd4",
   "metadata": {},
   "outputs": [
    {
     "name": "stdout",
     "output_type": "stream",
     "text": [
      "Elevation                             0.244528\n",
      "Horizontal_Distance_To_Roadways       0.118980\n",
      "Horizontal_Distance_To_Fire_Points    0.112931\n",
      "dtype: float64\n"
     ]
    },
    {
     "data": {
      "image/png": "[encoded data removed]",
      "text/plain": [
       "<Figure size 640x480 with 1 Axes>"
      ]
     },
     "metadata": {},
     "output_type": "display_data"
    }
   ],
   "source": [
    "# Importancia de características usando RandomForestClassifier\n",
    "from sklearn.ensemble import RandomForestClassifier\n",
    "\n",
    "# Preparar los datos\n",
    "X = df.drop(columns=['Cover_Type'])\n",
    "y = df['Cover_Type']\n",
    "\n",
    "# Entrenar el modelo\n",
    "clf = RandomForestClassifier(n_estimators=100, random_state=42)\n",
    "clf.fit(X, y)\n",
    "\n",
    "# Obtener la importancia de las características\n",
    "importances = clf.feature_importances_\n",
    "feature_names = X.columns\n",
    "feature_importances = pd.Series(importances, index=feature_names).sort_values(ascending=False)\n",
    "\n",
    "# Mostrar las tres características más importantes\n",
    "top_3_features = feature_importances.head(3)\n",
    "print(top_3_features)\n",
    "\n",
    "# Visualizar las importancias\n",
    "top_3_features.plot(kind='bar')\n",
    "plt.xlabel('Variables')\n",
    "plt.ylabel('Importance')\n",
    "plt.title('Top 3 Important Features')\n",
    "plt.show()\n"
   ]
  },
  {
   "cell_type": "markdown",
   "id": "4a8bad84",
   "metadata": {},
   "source": [
    "Pruebas para Comprobar las Hipótesis\n",
    "Entrenamiento de un modelo utilizando solo las variables más importantes:"
   ]
  },
  {
   "cell_type": "code",
   "execution_count": 39,
   "id": "33305e5c",
   "metadata": {},
   "outputs": [
    {
     "name": "stdout",
     "output_type": "stream",
     "text": [
      "Accuracy con las tres variables más importantes: 0.7590509711453233\n",
      "              precision    recall  f1-score   support\n",
      "\n",
      "           1       0.75      0.77      0.76     42557\n",
      "           2       0.78      0.82      0.80     56500\n",
      "           3       0.68      0.68      0.68      7121\n",
      "           4       0.59      0.40      0.47       526\n",
      "           5       0.59      0.29      0.39      1995\n",
      "           6       0.54      0.39      0.45      3489\n",
      "           7       0.79      0.62      0.69      4015\n",
      "\n",
      "    accuracy                           0.76    116203\n",
      "   macro avg       0.67      0.56      0.61    116203\n",
      "weighted avg       0.76      0.76      0.76    116203\n",
      "\n"
     ]
    }
   ],
   "source": [
    "from sklearn.ensemble import RandomForestClassifier\n",
    "from sklearn.model_selection import train_test_split\n",
    "from sklearn.metrics import accuracy_score, classification_report\n",
    "import matplotlib.pyplot as plt\n",
    "# Selección de las tres variables más importantes\n",
    "X_top3 = df[['Elevation', 'Horizontal_Distance_To_Roadways', 'Horizontal_Distance_To_Hydrology']]\n",
    "\n",
    "# División de los datos\n",
    "X_train, X_test, y_train, y_test = train_test_split(X_top3, y, test_size=0.2, random_state=42)\n",
    "\n",
    "# Entrenar el modelo con las tres variables más importantes\n",
    "clf_top3 = RandomForestClassifier(n_estimators=100, random_state=42)\n",
    "clf_top3.fit(X_train, y_train)\n",
    "\n",
    "# Evaluar el modelo\n",
    "y_pred_top3 = clf_top3.predict(X_test)\n",
    "accuracy_top3 = accuracy_score(y_test, y_pred_top3)\n",
    "report_top3 = classification_report(y_test, y_pred_top3)\n",
    "\n",
    "print(f'Accuracy con las tres variables más importantes: {accuracy_top3}')\n",
    "print(report_top3)\n"
   ]
  },
  {
   "cell_type": "markdown",
   "id": "f51e0622",
   "metadata": {},
   "source": [
    "Comparación con el modelo utilizando todas las variables:"
   ]
  },
  {
   "cell_type": "code",
   "execution_count": 40,
   "id": "3b2a8635",
   "metadata": {},
   "outputs": [
    {
     "name": "stdout",
     "output_type": "stream",
     "text": [
      "Accuracy con todas las variables: 0.7590509711453233\n",
      "              precision    recall  f1-score   support\n",
      "\n",
      "           1       0.75      0.77      0.76     42557\n",
      "           2       0.78      0.82      0.80     56500\n",
      "           3       0.68      0.68      0.68      7121\n",
      "           4       0.59      0.40      0.47       526\n",
      "           5       0.59      0.29      0.39      1995\n",
      "           6       0.54      0.39      0.45      3489\n",
      "           7       0.79      0.62      0.69      4015\n",
      "\n",
      "    accuracy                           0.76    116203\n",
      "   macro avg       0.67      0.56      0.61    116203\n",
      "weighted avg       0.76      0.76      0.76    116203\n",
      "\n"
     ]
    }
   ],
   "source": [
    "# Entrenar el modelo con todas las variables\n",
    "clf_all = RandomForestClassifier(n_estimators=100, random_state=42)\n",
    "clf_all.fit(X_train, y_train)\n",
    "\n",
    "# Evaluar el modelo\n",
    "y_pred_all = clf_all.predict(X_test)\n",
    "accuracy_all = accuracy_score(y_test, y_pred_all)\n",
    "report_all = classification_report(y_test, y_pred_all)\n",
    "\n",
    "print(f'Accuracy con todas las variables: {accuracy_all}')\n",
    "print(report_all)\n"
   ]
  },
  {
   "cell_type": "markdown",
   "id": "87bfad17",
   "metadata": {},
   "source": [
    "Los resultados muestran que ambos modelos, tanto el que utiliza todas las variables como el que usa solo las tres variables más importantes (Elevation, Horizontal_Distance_To_Roadways, y Horizontal_Distance_To_Hydrology), obtuvieron la misma precisión de 0.76."
   ]
  },
  {
   "cell_type": "markdown",
   "id": "253d38fb",
   "metadata": {},
   "source": [
    "### Clasificación"
   ]
  },
  {
   "cell_type": "markdown",
   "id": "18aa2ef3",
   "metadata": {},
   "source": [
    "**Random Forest**\n",
    "\n",
    "En esta parte de la actividad hay que utilizar la librería https://scikit-learn.org/stable/modules/generated/sklearn.ensemble.RandomForestClassifier.html para resolver el problema de clasificación.\n",
    "\n",
    "El algortimo de RF necesitar ajustar una serie de hiperparámetros para realizar las clasificaciones. La implementación de sklearn nos da mucha flexibilidad para nuestros modelos. En general, para los problemas más comunes de clasificación, nos tenemos que preocupar de los siguientes hiperparámetros:\n",
    "- n_estimators\n",
    "- criterion\n",
    "- max_depth\n",
    "- min_samples_split\n",
    "- min_samples_leaf\n",
    "- max_features\n",
    "\n",
    "Indica qué son cada uno de estos hiperparámetros"
   ]
  },
  {
   "cell_type": "markdown",
   "id": "bd1bad91",
   "metadata": {},
   "source": [
    "_indica aquí tu respuesta_\n",
    "\n",
    "#### n_estimators:\n",
    "- Descripción: Número de árboles en el bosque.\n",
    "- Impacto: Un mayor número de árboles generalmente mejora la precisión del modelo, pero también aumenta el tiempo de entrenamiento y la complejidad computacional.\n",
    "\n",
    "#### criterion:\n",
    "- Descripción: La función para medir la calidad de una división.\n",
    "- Opciones: \"gini\" para el índice de Gini, \"entropy\" para la ganancia de información.\n",
    "- Impacto: Afecta cómo se seleccionan las divisiones en cada nodo del árbol. La elección entre Gini y Entropy puede influir en la forma en que se realiza la clasificación, pero la diferencia suele ser pequeña.\n",
    "\n",
    "#### max_depth:\n",
    "- Descripción: La profundidad máxima de los árboles.\n",
    "- Impacto: Limitar la profundidad puede prevenir el sobreajuste. Un valor más bajo de max_depth hará que los árboles sean más pequeños y menos complejos.\n",
    "\n",
    "#### min_samples_split:\n",
    "- Descripción: El número mínimo de muestras necesarias para dividir un nodo.\n",
    "- Impacto: Un valor más alto impide que se dividan nodos con pocas muestras, lo que también ayuda a prevenir el sobreajuste.\n",
    "\n",
    "#### min_samples_leaf:\n",
    "- Descripción: El número mínimo de muestras que debe tener un nodo hoja.\n",
    "- Impacto: Al igual que min_samples_split, un valor más alto puede prevenir el sobreajuste.\n",
    "\n",
    "#### max_features:\n",
    "- Descripción: El número de características a considerar al buscar la mejor división.\n",
    "- Opciones: Puede ser un valor entero, un valor flotante que representa un porcentaje de las características totales, o \"auto\", \"sqrt\", \"log2\".\n",
    "- Impacto: Controla el número de características a considerar en cada división. Reducir max_features puede disminuir el sobreajuste pero también puede aumentar el sesgo."
   ]
  },
  {
   "cell_type": "markdown",
   "id": "4fe96625",
   "metadata": {},
   "source": [
    "Además de los hiperparámetros que acabas de descubrir, la implementación de sklearn tiene el hiperparámetro _class_weight_\n",
    "\n",
    "¿Qué indica ese parámetro? ¿Para qué puede ser útil?"
   ]
  },
  {
   "cell_type": "markdown",
   "id": "1b9ca14f",
   "metadata": {},
   "source": [
    "_indica aquí tu respuesta_\n",
    "\n",
    "#### Hiperparámetro class_weight.\n",
    "\n",
    "- Es utilizado para asignar pesos a las clases en el problema de clasificación, Puede ser particularmente útil cuando se trabaja con datos desbalanceados, donde algunas clases están representadas con muchas más muestras que otras.\n",
    "\n",
    "#### Opciones. \n",
    "- None (por defecto): No se aplican pesos; todas las clases son tratadas con igual importancia.\n",
    "- balanced: Ajusta automáticamente los pesos inversamente proporcionales a la frecuencia de las clases en los datos de entrada.\n",
    "- Diccionario: Especifica un peso para cada clase manualmente.\n",
    "- Lista de diccionarios: Especifica un peso para cada clase en cada subproblema (para problemas multietiqueta).\n",
    "\n",
    "#### Utilidad.\n",
    "- Manejo de Datos Desbalanceados: class_weight es útil cuando se tienen clases desbalanceadas, ya que asegura que el modelo preste la debida atención a las clases minoritarias.\n",
    "- Mejora de la Precisión en Clases Minoritarias: Ajustar los pesos de las clases puede mejorar las métricas de rendimiento para las clases menos representadas, como el recall y el f1-score.\n",
    "- Reducción del Sesgo: Puede ayudar a reducir el sesgo hacia las clases mayoritarias, mejorando así el rendimiento global del modelo en situaciones donde cada clase es igualmente importante."
   ]
  },
  {
   "cell_type": "markdown",
   "id": "6addd9e7",
   "metadata": {},
   "source": [
    "Como primer paso para crear un clasificador de Random Forest hay que decidir si hay que hacer algún preprocesamiento adicional sobre los datos.\n",
    "¿Hace falta normalizar los datos?"
   ]
  },
  {
   "cell_type": "code",
   "execution_count": 48,
   "id": "3b753ff5",
   "metadata": {},
   "outputs": [
    {
     "name": "stdout",
     "output_type": "stream",
     "text": [
      "Elevation                             0\n",
      "Aspect                                0\n",
      "Slope                                 0\n",
      "Horizontal_Distance_To_Hydrology      0\n",
      "Vertical_Distance_To_Hydrology        0\n",
      "Horizontal_Distance_To_Roadways       0\n",
      "Hillshade_9am                         0\n",
      "Hillshade_Noon                        0\n",
      "Hillshade_3pm                         0\n",
      "Horizontal_Distance_To_Fire_Points    0\n",
      "Wilderness_Area_0                     0\n",
      "Wilderness_Area_1                     0\n",
      "Wilderness_Area_2                     0\n",
      "Wilderness_Area_3                     0\n",
      "Soil_Type_0                           0\n",
      "Soil_Type_1                           0\n",
      "Soil_Type_2                           0\n",
      "Soil_Type_3                           0\n",
      "Soil_Type_4                           0\n",
      "Soil_Type_5                           0\n",
      "Soil_Type_6                           0\n",
      "Soil_Type_7                           0\n",
      "Soil_Type_8                           0\n",
      "Soil_Type_9                           0\n",
      "Soil_Type_10                          0\n",
      "Soil_Type_11                          0\n",
      "Soil_Type_12                          0\n",
      "Soil_Type_13                          0\n",
      "Soil_Type_14                          0\n",
      "Soil_Type_15                          0\n",
      "Soil_Type_16                          0\n",
      "Soil_Type_17                          0\n",
      "Soil_Type_18                          0\n",
      "Soil_Type_19                          0\n",
      "Soil_Type_20                          0\n",
      "Soil_Type_21                          0\n",
      "Soil_Type_22                          0\n",
      "Soil_Type_23                          0\n",
      "Soil_Type_24                          0\n",
      "Soil_Type_25                          0\n",
      "Soil_Type_26                          0\n",
      "Soil_Type_27                          0\n",
      "Soil_Type_28                          0\n",
      "Soil_Type_29                          0\n",
      "Soil_Type_30                          0\n",
      "Soil_Type_31                          0\n",
      "Soil_Type_32                          0\n",
      "Soil_Type_33                          0\n",
      "Soil_Type_34                          0\n",
      "Soil_Type_35                          0\n",
      "Soil_Type_36                          0\n",
      "Soil_Type_37                          0\n",
      "Soil_Type_38                          0\n",
      "Soil_Type_39                          0\n",
      "Cover_Type                            0\n",
      "dtype: int64\n"
     ]
    }
   ],
   "source": [
    "## PON AQUÍ TU RESPUESTA Y/O CÓDIGO\n",
    "\n",
    "\"\"\"\n",
    "Para los algoritmos de Random Forest, la normalización de los datos no es necesaria. \n",
    "Sin embargo, es esencial asegurarse de que los datos estén limpios, sin valores nulos, y que las variables categóricas estén correctamente codificadas. \n",
    "Con el preprocesamiento adecuado, el modelo de Random Forest puede aprovechar al máximo la información disponible en el dataset.\n",
    "\"\"\"\n",
    "from sklearn.model_selection import train_test_split\n",
    "from sklearn.ensemble import RandomForestClassifier\n",
    "from sklearn.metrics import accuracy_score, classification_report\n",
    "\n",
    "# Verificar valores nulos\n",
    "print(df.isnull().sum())\n",
    "\n",
    "# Separar características y etiquetas\n",
    "X = df.drop(columns=['Cover_Type'])\n",
    "y = df['Cover_Type']\n"
   ]
  },
  {
   "cell_type": "code",
   "execution_count": 49,
   "id": "b6dc73cf",
   "metadata": {},
   "outputs": [
    {
     "data": {
      "text/html": [
       "<style>#sk-container-id-1 {color: black;}#sk-container-id-1 pre{padding: 0;}#sk-container-id-1 div.sk-toggleable {background-color: white;}#sk-container-id-1 label.sk-toggleable__label {cursor: pointer;display: block;width: 100%;margin-bottom: 0;padding: 0.3em;box-sizing: border-box;text-align: center;}#sk-container-id-1 label.sk-toggleable__label-arrow:before {content: \"▸\";float: left;margin-right: 0.25em;color: #696969;}#sk-container-id-1 label.sk-toggleable__label-arrow:hover:before {color: black;}#sk-container-id-1 div.sk-estimator:hover label.sk-toggleable__label-arrow:before {color: black;}#sk-container-id-1 div.sk-toggleable__content {max-height: 0;max-width: 0;overflow: hidden;text-align: left;background-color: #f0f8ff;}#sk-container-id-1 div.sk-toggleable__content pre {margin: 0.2em;color: black;border-radius: 0.25em;background-color: #f0f8ff;}#sk-container-id-1 input.sk-toggleable__control:checked~div.sk-toggleable__content {max-height: 200px;max-width: 100%;overflow: auto;}#sk-container-id-1 input.sk-toggleable__control:checked~label.sk-toggleable__label-arrow:before {content: \"▾\";}#sk-container-id-1 div.sk-estimator input.sk-toggleable__control:checked~label.sk-toggleable__label {background-color: #d4ebff;}#sk-container-id-1 div.sk-label input.sk-toggleable__control:checked~label.sk-toggleable__label {background-color: #d4ebff;}#sk-container-id-1 input.sk-hidden--visually {border: 0;clip: rect(1px 1px 1px 1px);clip: rect(1px, 1px, 1px, 1px);height: 1px;margin: -1px;overflow: hidden;padding: 0;position: absolute;width: 1px;}#sk-container-id-1 div.sk-estimator {font-family: monospace;background-color: #f0f8ff;border: 1px dotted black;border-radius: 0.25em;box-sizing: border-box;margin-bottom: 0.5em;}#sk-container-id-1 div.sk-estimator:hover {background-color: #d4ebff;}#sk-container-id-1 div.sk-parallel-item::after {content: \"\";width: 100%;border-bottom: 1px solid gray;flex-grow: 1;}#sk-container-id-1 div.sk-label:hover label.sk-toggleable__label {background-color: #d4ebff;}#sk-container-id-1 div.sk-serial::before {content: \"\";position: absolute;border-left: 1px solid gray;box-sizing: border-box;top: 0;bottom: 0;left: 50%;z-index: 0;}#sk-container-id-1 div.sk-serial {display: flex;flex-direction: column;align-items: center;background-color: white;padding-right: 0.2em;padding-left: 0.2em;position: relative;}#sk-container-id-1 div.sk-item {position: relative;z-index: 1;}#sk-container-id-1 div.sk-parallel {display: flex;align-items: stretch;justify-content: center;background-color: white;position: relative;}#sk-container-id-1 div.sk-item::before, #sk-container-id-1 div.sk-parallel-item::before {content: \"\";position: absolute;border-left: 1px solid gray;box-sizing: border-box;top: 0;bottom: 0;left: 50%;z-index: -1;}#sk-container-id-1 div.sk-parallel-item {display: flex;flex-direction: column;z-index: 1;position: relative;background-color: white;}#sk-container-id-1 div.sk-parallel-item:first-child::after {align-self: flex-end;width: 50%;}#sk-container-id-1 div.sk-parallel-item:last-child::after {align-self: flex-start;width: 50%;}#sk-container-id-1 div.sk-parallel-item:only-child::after {width: 0;}#sk-container-id-1 div.sk-dashed-wrapped {border: 1px dashed gray;margin: 0 0.4em 0.5em 0.4em;box-sizing: border-box;padding-bottom: 0.4em;background-color: white;}#sk-container-id-1 div.sk-label label {font-family: monospace;font-weight: bold;display: inline-block;line-height: 1.2em;}#sk-container-id-1 div.sk-label-container {text-align: center;}#sk-container-id-1 div.sk-container {/* jupyter's `normalize.less` sets `[hidden] { display: none; }` but bootstrap.min.css set `[hidden] { display: none !important; }` so we also need the `!important` here to be able to override the default hidden behavior on the sphinx rendered scikit-learn.org. See: https://github.com/scikit-learn/scikit-learn/issues/21755 */display: inline-block !important;position: relative;}#sk-container-id-1 div.sk-text-repr-fallback {display: none;}</style><div id=\"sk-container-id-1\" class=\"sk-top-container\"><div class=\"sk-text-repr-fallback\"><pre>RandomForestClassifier(class_weight=&#x27;balanced&#x27;, random_state=42)</pre><b>In a Jupyter environment, please rerun this cell to show the HTML representation or trust the notebook. <br />On GitHub, the HTML representation is unable to render, please try loading this page with nbviewer.org.</b></div><div class=\"sk-container\" hidden><div class=\"sk-item\"><div class=\"sk-estimator sk-toggleable\"><input class=\"sk-toggleable__control sk-hidden--visually\" id=\"sk-estimator-id-1\" type=\"checkbox\" checked><label for=\"sk-estimator-id-1\" class=\"sk-toggleable__label sk-toggleable__label-arrow\">RandomForestClassifier</label><div class=\"sk-toggleable__content\"><pre>RandomForestClassifier(class_weight=&#x27;balanced&#x27;, random_state=42)</pre></div></div></div></div></div>"
      ],
      "text/plain": [
       "RandomForestClassifier(class_weight='balanced', random_state=42)"
      ]
     },
     "execution_count": 49,
     "metadata": {},
     "output_type": "execute_result"
    }
   ],
   "source": [
    "# División de los datos en conjuntos de entrenamiento y prueba\n",
    "X_train, X_test, y_train, y_test = train_test_split(X, y, test_size=0.2, random_state=42)\n",
    "\n",
    "# Crear y entrenar el modelo de Random Forest\n",
    "clf = RandomForestClassifier(\n",
    "    n_estimators=100,\n",
    "    criterion='gini',\n",
    "    max_depth=None,\n",
    "    min_samples_split=2,\n",
    "    min_samples_leaf=1,\n",
    "    max_features='sqrt',\n",
    "    class_weight='balanced',\n",
    "    random_state=42\n",
    ")\n",
    "\n",
    "clf.fit(X_train, y_train)"
   ]
  },
  {
   "cell_type": "code",
   "execution_count": 50,
   "id": "fe496607",
   "metadata": {},
   "outputs": [
    {
     "name": "stdout",
     "output_type": "stream",
     "text": [
      "Accuracy: 0.9557584571826889\n",
      "              precision    recall  f1-score   support\n",
      "\n",
      "           1       0.97      0.94      0.96     42557\n",
      "           2       0.95      0.97      0.96     56500\n",
      "           3       0.94      0.97      0.95      7121\n",
      "           4       0.91      0.83      0.87       526\n",
      "           5       0.94      0.79      0.86      1995\n",
      "           6       0.93      0.89      0.91      3489\n",
      "           7       0.97      0.95      0.96      4015\n",
      "\n",
      "    accuracy                           0.96    116203\n",
      "   macro avg       0.95      0.91      0.92    116203\n",
      "weighted avg       0.96      0.96      0.96    116203\n",
      "\n"
     ]
    }
   ],
   "source": [
    "# Realizar predicciones y evaluar el modelo\n",
    "y_pred = clf.predict(X_test)\n",
    "accuracy = accuracy_score(y_test, y_pred)\n",
    "report = classification_report(y_test, y_pred)\n",
    "\n",
    "print(f'Accuracy: {accuracy}')\n",
    "print(report)"
   ]
  },
  {
   "cell_type": "markdown",
   "id": "e3465ab1",
   "metadata": {},
   "source": [
    "Entrena un conjunto de modelos de Random Forest que utilicen todas las variables del dataset, con 5, 10, 20, 50 y 100 árboles. El criterio para realizar las particiones debe ser Gini-index, la profundidad máxima de los árboles debe ser 10, el número mínimo de ejemplos para realizar una partición debe ser 10, el número mínimo de ejemplos para considerarlo una hoja debe ser 2, y el número máximo de características deben ser todas.\n",
    "\n",
    "_Nota: el entrenamiento puede tardar entre 3 y 15 minutos en función de las características del equipo._"
   ]
  },
  {
   "cell_type": "code",
   "execution_count": 51,
   "id": "c0ff0933",
   "metadata": {},
   "outputs": [],
   "source": [
    "# numero de árboles: 5, 10, 20, 50 y 100\n",
    "from sklearn.model_selection import train_test_split\n",
    "from sklearn.ensemble import RandomForestClassifier\n",
    "from sklearn.metrics import accuracy_score, classification_report\n",
    "\n",
    "# Separar características y etiquetas\n",
    "X = df.drop(columns=['Cover_Type'])\n",
    "y = df['Cover_Type']"
   ]
  },
  {
   "cell_type": "code",
   "execution_count": 52,
   "id": "8179eb72",
   "metadata": {},
   "outputs": [],
   "source": [
    "# División de los datos en conjuntos de entrenamiento y prueba\n",
    "X_train, X_test, y_train, y_test = train_test_split(X, y, test_size=0.2, random_state=42)"
   ]
  },
  {
   "cell_type": "code",
   "execution_count": 53,
   "id": "9acef4c4",
   "metadata": {},
   "outputs": [],
   "source": [
    "# Definir los hiperparámetros\n",
    "n_arboles = [5, 10, 20, 50, 100]\n",
    "particion = 'gini'\n",
    "max_depth = 10\n",
    "min_samples_split = 10\n",
    "min_samples_leaf = 2\n",
    "max_features = None\n",
    "\n",
    "# Crear una lista de clasificadores Random Forest con diferentes números de árboles\n",
    "randomForest = [RandomForestClassifier(n_estimators=i, criterion=particion,\n",
    "                                       max_depth=max_depth, min_samples_split=min_samples_split,\n",
    "                                       min_samples_leaf=min_samples_leaf, max_features=max_features,\n",
    "                                       random_state=42) for i in n_arboles]"
   ]
  },
  {
   "cell_type": "code",
   "execution_count": 54,
   "id": "96240675",
   "metadata": {},
   "outputs": [
    {
     "name": "stdout",
     "output_type": "stream",
     "text": [
      "\n",
      "Modelo con 5 árboles:\n",
      "Accuracy: 0.796614545235493\n",
      "              precision    recall  f1-score   support\n",
      "\n",
      "           1       0.79      0.77      0.78     42557\n",
      "           2       0.80      0.86      0.83     56500\n",
      "           3       0.77      0.87      0.82      7121\n",
      "           4       0.83      0.66      0.74       526\n",
      "           5       0.82      0.25      0.38      1995\n",
      "           6       0.73      0.35      0.48      3489\n",
      "           7       0.90      0.72      0.80      4015\n",
      "\n",
      "    accuracy                           0.80    116203\n",
      "   macro avg       0.81      0.64      0.69    116203\n",
      "weighted avg       0.80      0.80      0.79    116203\n",
      "\n",
      "\n",
      "Modelo con 10 árboles:\n",
      "Accuracy: 0.7971825168024922\n",
      "              precision    recall  f1-score   support\n",
      "\n",
      "           1       0.79      0.77      0.78     42557\n",
      "           2       0.80      0.86      0.83     56500\n",
      "           3       0.79      0.86      0.82      7121\n",
      "           4       0.84      0.67      0.75       526\n",
      "           5       0.82      0.25      0.39      1995\n",
      "           6       0.75      0.38      0.50      3489\n",
      "           7       0.90      0.72      0.80      4015\n",
      "\n",
      "    accuracy                           0.80    116203\n",
      "   macro avg       0.81      0.64      0.69    116203\n",
      "weighted avg       0.80      0.80      0.79    116203\n",
      "\n",
      "\n",
      "Modelo con 20 árboles:\n",
      "Accuracy: 0.7959433061108577\n",
      "              precision    recall  f1-score   support\n",
      "\n",
      "           1       0.79      0.77      0.78     42557\n",
      "           2       0.80      0.86      0.83     56500\n",
      "           3       0.78      0.86      0.82      7121\n",
      "           4       0.84      0.67      0.74       526\n",
      "           5       0.82      0.25      0.39      1995\n",
      "           6       0.74      0.38      0.50      3489\n",
      "           7       0.90      0.72      0.80      4015\n",
      "\n",
      "    accuracy                           0.80    116203\n",
      "   macro avg       0.81      0.64      0.69    116203\n",
      "weighted avg       0.80      0.80      0.79    116203\n",
      "\n",
      "\n",
      "Modelo con 50 árboles:\n",
      "Accuracy: 0.7962617144135694\n",
      "              precision    recall  f1-score   support\n",
      "\n",
      "           1       0.79      0.77      0.78     42557\n",
      "           2       0.80      0.86      0.83     56500\n",
      "           3       0.78      0.86      0.82      7121\n",
      "           4       0.84      0.67      0.75       526\n",
      "           5       0.83      0.26      0.39      1995\n",
      "           6       0.75      0.38      0.50      3489\n",
      "           7       0.89      0.73      0.80      4015\n",
      "\n",
      "    accuracy                           0.80    116203\n",
      "   macro avg       0.81      0.65      0.70    116203\n",
      "weighted avg       0.80      0.80      0.79    116203\n",
      "\n",
      "\n",
      "Modelo con 100 árboles:\n",
      "Accuracy: 0.7965112776778569\n",
      "              precision    recall  f1-score   support\n",
      "\n",
      "           1       0.79      0.77      0.78     42557\n",
      "           2       0.80      0.86      0.83     56500\n",
      "           3       0.78      0.86      0.82      7121\n",
      "           4       0.83      0.68      0.75       526\n",
      "           5       0.83      0.26      0.39      1995\n",
      "           6       0.75      0.37      0.50      3489\n",
      "           7       0.89      0.73      0.80      4015\n",
      "\n",
      "    accuracy                           0.80    116203\n",
      "   macro avg       0.81      0.65      0.69    116203\n",
      "weighted avg       0.80      0.80      0.79    116203\n",
      "\n"
     ]
    }
   ],
   "source": [
    "# PON AQUÍ TU CÓDIGO PARA EL ENTRENAMIENTO\n",
    "# Entrenar y evaluar cada modelo\n",
    "for clf in randomForest:\n",
    "    # Entrenar el modelo\n",
    "    clf.fit(X_train, y_train)\n",
    "    \n",
    "    # Realizar predicciones y evaluar el modelo\n",
    "    y_pred = clf.predict(X_test)\n",
    "    accuracy = accuracy_score(y_test, y_pred)\n",
    "    report = classification_report(y_test, y_pred)\n",
    "    \n",
    "    # Imprimir resultados\n",
    "    print(f'\\nModelo con {clf.n_estimators} árboles:')\n",
    "    print(f'Accuracy: {accuracy}')\n",
    "    print(report)"
   ]
  },
  {
   "cell_type": "markdown",
   "id": "5898797f",
   "metadata": {},
   "source": [
    "Visualiza la matriz de confusión del modelo entrenado con 20 árboles."
   ]
  },
  {
   "cell_type": "code",
   "execution_count": 59,
   "id": "2735dc23",
   "metadata": {},
   "outputs": [],
   "source": [
    "## PON AQUÍ TU CÓDIGO\n",
    "\n",
    "from sklearn.model_selection import train_test_split\n",
    "from sklearn.ensemble import RandomForestClassifier\n",
    "from sklearn.metrics import confusion_matrix, accuracy_score, classification_report\n",
    "\n",
    "\n",
    "# Definir los hiperparámetros\n",
    "particion = 'gini'\n",
    "max_depth = 10\n",
    "min_samples_split = 10\n",
    "min_samples_leaf = 2\n",
    "max_features = None"
   ]
  },
  {
   "cell_type": "code",
   "execution_count": 60,
   "id": "fad49946",
   "metadata": {},
   "outputs": [
    {
     "data": {
      "text/html": [
       "<style>#sk-container-id-2 {color: black;}#sk-container-id-2 pre{padding: 0;}#sk-container-id-2 div.sk-toggleable {background-color: white;}#sk-container-id-2 label.sk-toggleable__label {cursor: pointer;display: block;width: 100%;margin-bottom: 0;padding: 0.3em;box-sizing: border-box;text-align: center;}#sk-container-id-2 label.sk-toggleable__label-arrow:before {content: \"▸\";float: left;margin-right: 0.25em;color: #696969;}#sk-container-id-2 label.sk-toggleable__label-arrow:hover:before {color: black;}#sk-container-id-2 div.sk-estimator:hover label.sk-toggleable__label-arrow:before {color: black;}#sk-container-id-2 div.sk-toggleable__content {max-height: 0;max-width: 0;overflow: hidden;text-align: left;background-color: #f0f8ff;}#sk-container-id-2 div.sk-toggleable__content pre {margin: 0.2em;color: black;border-radius: 0.25em;background-color: #f0f8ff;}#sk-container-id-2 input.sk-toggleable__control:checked~div.sk-toggleable__content {max-height: 200px;max-width: 100%;overflow: auto;}#sk-container-id-2 input.sk-toggleable__control:checked~label.sk-toggleable__label-arrow:before {content: \"▾\";}#sk-container-id-2 div.sk-estimator input.sk-toggleable__control:checked~label.sk-toggleable__label {background-color: #d4ebff;}#sk-container-id-2 div.sk-label input.sk-toggleable__control:checked~label.sk-toggleable__label {background-color: #d4ebff;}#sk-container-id-2 input.sk-hidden--visually {border: 0;clip: rect(1px 1px 1px 1px);clip: rect(1px, 1px, 1px, 1px);height: 1px;margin: -1px;overflow: hidden;padding: 0;position: absolute;width: 1px;}#sk-container-id-2 div.sk-estimator {font-family: monospace;background-color: #f0f8ff;border: 1px dotted black;border-radius: 0.25em;box-sizing: border-box;margin-bottom: 0.5em;}#sk-container-id-2 div.sk-estimator:hover {background-color: #d4ebff;}#sk-container-id-2 div.sk-parallel-item::after {content: \"\";width: 100%;border-bottom: 1px solid gray;flex-grow: 1;}#sk-container-id-2 div.sk-label:hover label.sk-toggleable__label {background-color: #d4ebff;}#sk-container-id-2 div.sk-serial::before {content: \"\";position: absolute;border-left: 1px solid gray;box-sizing: border-box;top: 0;bottom: 0;left: 50%;z-index: 0;}#sk-container-id-2 div.sk-serial {display: flex;flex-direction: column;align-items: center;background-color: white;padding-right: 0.2em;padding-left: 0.2em;position: relative;}#sk-container-id-2 div.sk-item {position: relative;z-index: 1;}#sk-container-id-2 div.sk-parallel {display: flex;align-items: stretch;justify-content: center;background-color: white;position: relative;}#sk-container-id-2 div.sk-item::before, #sk-container-id-2 div.sk-parallel-item::before {content: \"\";position: absolute;border-left: 1px solid gray;box-sizing: border-box;top: 0;bottom: 0;left: 50%;z-index: -1;}#sk-container-id-2 div.sk-parallel-item {display: flex;flex-direction: column;z-index: 1;position: relative;background-color: white;}#sk-container-id-2 div.sk-parallel-item:first-child::after {align-self: flex-end;width: 50%;}#sk-container-id-2 div.sk-parallel-item:last-child::after {align-self: flex-start;width: 50%;}#sk-container-id-2 div.sk-parallel-item:only-child::after {width: 0;}#sk-container-id-2 div.sk-dashed-wrapped {border: 1px dashed gray;margin: 0 0.4em 0.5em 0.4em;box-sizing: border-box;padding-bottom: 0.4em;background-color: white;}#sk-container-id-2 div.sk-label label {font-family: monospace;font-weight: bold;display: inline-block;line-height: 1.2em;}#sk-container-id-2 div.sk-label-container {text-align: center;}#sk-container-id-2 div.sk-container {/* jupyter's `normalize.less` sets `[hidden] { display: none; }` but bootstrap.min.css set `[hidden] { display: none !important; }` so we also need the `!important` here to be able to override the default hidden behavior on the sphinx rendered scikit-learn.org. See: https://github.com/scikit-learn/scikit-learn/issues/21755 */display: inline-block !important;position: relative;}#sk-container-id-2 div.sk-text-repr-fallback {display: none;}</style><div id=\"sk-container-id-2\" class=\"sk-top-container\"><div class=\"sk-text-repr-fallback\"><pre>RandomForestClassifier(max_depth=10, max_features=None, min_samples_leaf=2,\n",
       "                       min_samples_split=10, n_estimators=20, random_state=42)</pre><b>In a Jupyter environment, please rerun this cell to show the HTML representation or trust the notebook. <br />On GitHub, the HTML representation is unable to render, please try loading this page with nbviewer.org.</b></div><div class=\"sk-container\" hidden><div class=\"sk-item\"><div class=\"sk-estimator sk-toggleable\"><input class=\"sk-toggleable__control sk-hidden--visually\" id=\"sk-estimator-id-2\" type=\"checkbox\" checked><label for=\"sk-estimator-id-2\" class=\"sk-toggleable__label sk-toggleable__label-arrow\">RandomForestClassifier</label><div class=\"sk-toggleable__content\"><pre>RandomForestClassifier(max_depth=10, max_features=None, min_samples_leaf=2,\n",
       "                       min_samples_split=10, n_estimators=20, random_state=42)</pre></div></div></div></div></div>"
      ],
      "text/plain": [
       "RandomForestClassifier(max_depth=10, max_features=None, min_samples_leaf=2,\n",
       "                       min_samples_split=10, n_estimators=20, random_state=42)"
      ]
     },
     "execution_count": 60,
     "metadata": {},
     "output_type": "execute_result"
    }
   ],
   "source": [
    "# Entrenar el modelo con 20 árboles\n",
    "clf = RandomForestClassifier(\n",
    "    n_estimators=20,\n",
    "    criterion=particion,\n",
    "    max_depth=max_depth,\n",
    "    min_samples_split=min_samples_split,\n",
    "    min_samples_leaf=min_samples_leaf,\n",
    "    max_features=max_features,\n",
    "    random_state=42\n",
    ")\n",
    "clf.fit(X_train, y_train)"
   ]
  },
  {
   "cell_type": "code",
   "execution_count": 61,
   "id": "3d7991b1",
   "metadata": {},
   "outputs": [
    {
     "name": "stdout",
     "output_type": "stream",
     "text": [
      "Accuracy: 0.7959433061108577\n",
      "              precision    recall  f1-score   support\n",
      "\n",
      "           1       0.79      0.77      0.78     42557\n",
      "           2       0.80      0.86      0.83     56500\n",
      "           3       0.78      0.86      0.82      7121\n",
      "           4       0.84      0.67      0.74       526\n",
      "           5       0.82      0.25      0.39      1995\n",
      "           6       0.74      0.38      0.50      3489\n",
      "           7       0.90      0.72      0.80      4015\n",
      "\n",
      "    accuracy                           0.80    116203\n",
      "   macro avg       0.81      0.64      0.69    116203\n",
      "weighted avg       0.80      0.80      0.79    116203\n",
      "\n"
     ]
    }
   ],
   "source": [
    "# Realizar predicciones y evaluar el modelo\n",
    "y_pred = clf.predict(X_test)\n",
    "accuracy = accuracy_score(y_test, y_pred)\n",
    "report = classification_report(y_test, y_pred)\n",
    "\n",
    "print(f'Accuracy: {accuracy}')\n",
    "print(report)"
   ]
  },
  {
   "cell_type": "code",
   "execution_count": 62,
   "id": "59669382",
   "metadata": {},
   "outputs": [],
   "source": [
    "# Obtener la matriz de confusión\n",
    "conf_matrix = confusion_matrix(y_test, y_pred)"
   ]
  },
  {
   "cell_type": "code",
   "execution_count": 63,
   "id": "f260e8cd",
   "metadata": {},
   "outputs": [
    {
     "data": {
      "image/png": "[encoded data removed]",
      "text/plain": [
       "<Figure size 1000x800 with 2 Axes>"
      ]
     },
     "metadata": {},
     "output_type": "display_data"
    }
   ],
   "source": [
    "# Visualizar la matriz de confusión\n",
    "plt.figure(figsize=(10, 8))\n",
    "sns.heatmap(conf_matrix, annot=True, fmt='d', cmap='Blues', xticklabels=clf.classes_, yticklabels=clf.classes_)\n",
    "plt.xlabel('Predicted Label')\n",
    "plt.ylabel('True Label')\n",
    "plt.title('Confusion Matrix - Random Forest with 20 Trees')\n",
    "plt.show()"
   ]
  },
  {
   "cell_type": "markdown",
   "id": "72ebca94",
   "metadata": {},
   "source": [
    "¿Cuántos ejemplos ha clasificado correctamente?"
   ]
  },
  {
   "cell_type": "markdown",
   "id": "fab58c9a",
   "metadata": {},
   "source": [
    "_PON AQUÍ TU RESPUESTA_\n",
    "\n",
    "#### Observando la matriz de confusión proporcionada:\n",
    "\n",
    "Para la clase 1: 32872\n",
    "Para la clase 2: 48449\n",
    "Para la clase 3: 6104\n",
    "Para la clase 4: 351\n",
    "Para la clase 5: 506\n",
    "Para la clase 6: 1310\n",
    "Para la clase 7: 2899\n",
    "\n",
    "#### Sumamos estos valores:\n",
    "\n",
    "32872 + 48449 + 6104 + 351 + 506 + 1310 + 2899 = 92491\n",
    "\n",
    "- El modelo ha clasificado correctamente 92,491 ejemplos."
   ]
  },
  {
   "cell_type": "markdown",
   "id": "472169f2-e1bb-437f-954c-699dbe609341",
   "metadata": {},
   "source": [
    "Explica cómo funciona la clasificación para cada una de las 7 clases. ¿Hay alguna clase que clasifica mejor que otras?"
   ]
  },
  {
   "cell_type": "markdown",
   "id": "65c05b55",
   "metadata": {},
   "source": [
    "¿Cuál de todos los modelos que has entrenado obtiene mejores resultados de precisión para el conjunto de datos de test?\n",
    "\n",
    "_Nota: recuerda que es un modelo de clasificación multiclase y hay que analizar los datos para todas las clases._"
   ]
  },
  {
   "cell_type": "markdown",
   "id": "417714b6",
   "metadata": {},
   "source": [
    "### PON AQUÍ TU CÓDIGO Y RESPUESTA\n",
    "\n",
    "#### Clase 1:\n",
    "- Correctamente clasificados: 32,872\n",
    "- Incorrectamente clasificados: 9,347\n",
    "La precisión y el recall para esta clase son moderados, con una cantidad significativa de ejemplos clasificados erróneamente como clase 2.\n",
    "\n",
    "#### Clase 2:\n",
    "- Correctamente clasificados: 48,449\n",
    "- Incorrectamente clasificados: 7,477.\n",
    "Clase bien clasificada en general, con la mayor cantidad de ejemplos correctamente clasificados.\n",
    "\n",
    "#### Clase 3:\n",
    "- Correctamente clasificados: 6,104\n",
    "- Incorrectamente clasificados: 719.\n",
    "- Relativamente bien clasificada, pero con algunos ejemplos erróneamente clasificados como clase 2 y 6.\n",
    "\n",
    "#### Clase 4:\n",
    "- Correctamente clasificados: 351\n",
    "- Incorrectamente clasificados: 2.\n",
    "- Clase con una baja cantidad de ejemplos correctamente clasificados, sugiere un rendimiento pobre.\n",
    "\n",
    "#### Clase 5:\n",
    "- Correctamente clasificados: 506\n",
    "- Incorrectamente clasificados: 100.\n",
    "- Clase mal clasificada, con muchos ejemplos clasificados incorrectamente como clase 2.\n",
    "\n",
    "#### Clase 6:\n",
    "- Correctamente clasificados: 1,310\n",
    "- Incorrectamente clasificados: 19.\n",
    "- Clase con una cantidad significativa de errores, particularmente como clase 2 y 3.\n",
    "\n",
    "#### Clase 7:\n",
    "- Correctamente clasificados: 2,899\n",
    "- Incorrectamente clasificados: 1082.\n",
    "- Clase razonablemente bien clasificada, pero con una cantidad considerable de errores como clase 1.\n",
    "\n",
    "\n",
    "#### Mejor Clasificada: \n",
    "- La clase 2 es la mejor clasificada, con la mayor cantidad de ejemplos correctamente clasificados (48,449) y relativamente menos errores en comparación con otras clases.\n",
    "\n",
    "#### Peor Clasificada: \n",
    "- Las clases 4 y 5 son las peor clasificadas. Clase 4 tiene solo 351 ejemplos correctamente clasificados y clase 5 tiene muchos ejemplos erróneamente clasificados como clase 2.\n",
    "\n"
   ]
  },
  {
   "cell_type": "markdown",
   "id": "4b92ac9e",
   "metadata": {},
   "source": [
    "### Pregunta:\n",
    "  Selecciona el modelo que consideras que obtiene mejores resultados para los resultados de test. Explica por qué consideras que ese modelo es el que mejor resultados obtiene."
   ]
  },
  {
   "cell_type": "markdown",
   "id": "63f0da6a",
   "metadata": {},
   "source": [
    "### Respuesta: \n",
    "- Basado en la comparación de los resultados de las métricas de rendimiento, el modelo con 20 árboles parece ser el mejor equilibrio entre complejidad y rendimiento. \n",
    "  Este modelo ofrece un rendimiento casi comparable con una menor complejidad y tiempo de entrenamiento.\n",
    "\n",
    "#### Balance entre Rendimiento y Complejidad: \n",
    "- El modelo con 20 árboles logra una alta precisión (0.75) con menos complejidad y tiempo de entrenamiento comparado con los modelos de 50 y 100 árboles.\n",
    "  \n",
    "#### Menor Riesgo de Sobreajuste:\n",
    "- Aumentar el número de árboles puede llevar a un mejor ajuste en el conjunto de entrenamiento, pero también aumenta el riesgo de sobreajuste. \n",
    "- El modelo con 20 árboles muestra un buen equilibrio.\n",
    "\n",
    "#### Eficiencia Computacional: \n",
    "- Entrenar modelos con más árboles (50 y 100) consume más tiempo y recursos."
   ]
  },
  {
   "cell_type": "markdown",
   "id": "c48515df",
   "metadata": {},
   "source": [
    "Visualiza la matriz de confusión de los datos de test de este modelo.\n",
    "- ¿Cuántos ejemplos ha clasificado bien el modelo?\n",
    "- ¿Cuántos ejemplos ha clasificado de manera errónea?\n"
   ]
  },
  {
   "cell_type": "markdown",
   "id": "d7fa6b5d",
   "metadata": {},
   "source": [
    "#### Mejor Clasificada: \n",
    "- La clase 2 es la mejor clasificada, con la mayor cantidad de ejemplos correctamente clasificados (48,449) y relativamente menos errores en comparación con otras clases.\n",
    "\n",
    "#### Peor Clasificada: \n",
    "- Las clases 4 y 5 son las peor clasificadas. Clase 4 tiene solo 351 ejemplos correctamente clasificados y clase 5 tiene muchos ejemplos erróneamente clasificados como clase 2."
   ]
  },
  {
   "cell_type": "markdown",
   "id": "9c4466e7",
   "metadata": {},
   "source": [
    "Visualiza los valores de precision, recall, f1 para cada una de las clases. \n",
    "- ¿Clasifica de igual manera todas las clases o hay alguna para la que el modelo tiene una mayor capacidad predictiva?"
   ]
  },
  {
   "cell_type": "code",
   "execution_count": 64,
   "id": "bed193fc",
   "metadata": {},
   "outputs": [
    {
     "data": {
      "image/png": "[encoded data removed]",
      "text/plain": [
       "<Figure size 1200x1800 with 3 Axes>"
      ]
     },
     "metadata": {},
     "output_type": "display_data"
    }
   ],
   "source": [
    "import matplotlib.pyplot as plt\n",
    "import numpy as np\n",
    "\n",
    "# Datos para cada modelo\n",
    "models = ['5 Trees', '10 Trees', '20 Trees', '50 Trees', '100 Trees']\n",
    "precision = [\n",
    "    [0.79, 0.80, 0.77, 0.83, 0.82, 0.73, 0.90], # 5 Trees\n",
    "    [0.79, 0.80, 0.79, 0.84, 0.82, 0.75, 0.90], # 10 Trees\n",
    "    [0.79, 0.80, 0.78, 0.84, 0.82, 0.74, 0.90], # 20 Trees\n",
    "    [0.79, 0.80, 0.78, 0.84, 0.83, 0.75, 0.89], # 50 Trees\n",
    "    [0.79, 0.80, 0.78, 0.83, 0.83, 0.75, 0.89]  # 100 Trees\n",
    "]\n",
    "\n",
    "recall = [\n",
    "    [0.77, 0.86, 0.87, 0.66, 0.25, 0.35, 0.72], # 5 Trees\n",
    "    [0.77, 0.86, 0.86, 0.67, 0.25, 0.38, 0.72], # 10 Trees\n",
    "    [0.77, 0.86, 0.86, 0.67, 0.25, 0.38, 0.72], # 20 Trees\n",
    "    [0.77, 0.86, 0.86, 0.67, 0.26, 0.38, 0.73], # 50 Trees\n",
    "    [0.77, 0.86, 0.86, 0.68, 0.26, 0.37, 0.73]  # 100 Trees\n",
    "]\n",
    "\n",
    "f1_score = [\n",
    "    [0.78, 0.83, 0.82, 0.74, 0.38, 0.48, 0.80], # 5 Trees\n",
    "    [0.78, 0.83, 0.82, 0.75, 0.39, 0.50, 0.80], # 10 Trees\n",
    "    [0.78, 0.83, 0.82, 0.74, 0.39, 0.50, 0.80], # 20 Trees\n",
    "    [0.78, 0.83, 0.82, 0.75, 0.39, 0.50, 0.80], # 50 Trees\n",
    "    [0.78, 0.83, 0.82, 0.75, 0.39, 0.50, 0.80]  # 100 Trees\n",
    "]\n",
    "\n",
    "classes = ['1', '2', '3', '4', '5', '6', '7']\n",
    "\n",
    "x = np.arange(len(classes))  # La etiqueta de cada clase\n",
    "\n",
    "fig, ax = plt.subplots(3, 1, figsize=(12, 18))\n",
    "\n",
    "# Precision\n",
    "for i, model in enumerate(models):\n",
    "    ax[0].bar(x + i * 0.15, precision[i], width=0.15, label=model)\n",
    "\n",
    "ax[0].set_xlabel('Classes')\n",
    "ax[0].set_ylabel('Precision')\n",
    "ax[0].set_title('Precision for each class')\n",
    "ax[0].set_xticks(x + 0.3)\n",
    "ax[0].set_xticklabels(classes)\n",
    "ax[0].legend()\n",
    "\n",
    "# Recall\n",
    "for i, model in enumerate(models):\n",
    "    ax[1].bar(x + i * 0.15, recall[i], width=0.15, label=model)\n",
    "\n",
    "ax[1].set_xlabel('Classes')\n",
    "ax[1].set_ylabel('Recall')\n",
    "ax[1].set_title('Recall for each class')\n",
    "ax[1].set_xticks(x + 0.3)\n",
    "ax[1].set_xticklabels(classes)\n",
    "ax[1].legend()\n",
    "\n",
    "# F1 Score\n",
    "for i, model in enumerate(models):\n",
    "    ax[2].bar(x + i * 0.15, f1_score[i], width=0.15, label=model)\n",
    "\n",
    "ax[2].set_xlabel('Classes')\n",
    "ax[2].set_ylabel('F1 Score')\n",
    "ax[2].set_title('F1 Score for each class')\n",
    "ax[2].set_xticks(x + 0.3)\n",
    "ax[2].set_xticklabels(classes)\n",
    "ax[2].legend()\n",
    "\n",
    "plt.tight_layout()\n",
    "plt.show()\n"
   ]
  },
  {
   "cell_type": "markdown",
   "id": "ee6b431c",
   "metadata": {},
   "source": [
    "#### Precisión:\n",
    "\n",
    "La clase 7 tiene la mayor precisión en todos los modelos (~0.90), lo que indica que el modelo clasifica bien los ejemplos de esta clase.\n",
    "Las clases 1 y 2 también tienen alta precisión (~0.79 y ~0.80, respectivamente).\n",
    "\n",
    "#### Recall:\n",
    "\n",
    "La clase 2 tiene el mayor recall (~0.86), lo que indica que el modelo detecta la mayoría de los ejemplos verdaderos de esta clase.\n",
    "La clase 3 también tiene un alto recall (~0.86).\n",
    "\n",
    "#### F1-Score:\n",
    "\n",
    "La clase 2 tiene el mayor F1-score (~0.83), seguida de las clases 3 y 7 (~0.82 y ~0.80, respectivamente).\n",
    "\n",
    "\n",
    "#### Clase Mejor Clasificada: \n",
    "La clase 2 es consistentemente la mejor clasificada en términos de precisión, recall y F1-score. Esto indica que el modelo tiene una mayor capacidad predictiva para esta clase.\n",
    "\n",
    "#### Clase Peor Clasificada: \n",
    "La clase 5 es la peor clasificada, con baja precisión y recall en todos los modelos. Esto sugiere que el modelo tiene dificultades para distinguir correctamente los ejemplos de esta clase."
   ]
  },
  {
   "cell_type": "markdown",
   "metadata": {},
   "source": [
    "### Pregunta:\n",
    "  Selecciona el modelo que consideras que obtiene mejores resultados para los resultados de test. Explica por qué consideras que ese modelo es el que mejor resultados obtiene."
   ]
  },
  {
   "cell_type": "markdown",
   "id": "5fec7fc6",
   "metadata": {},
   "source": [
    "**Support Vector Machine**"
   ]
  },
  {
   "cell_type": "code",
   "execution_count": null,
   "id": "a40cce61",
   "metadata": {},
   "outputs": [],
   "source": [
    "# Importamos las librerías para utilizar las máquinas de vector de soportes.\n",
    "# Utilizaremos la librería svm:\n",
    "\n",
    "from sklearn import svm\n",
    "\n",
    "#Cargamos también las librerías para hacer la matriz de confusión y la cross validation:\n",
    "\n",
    "from sklearn import metrics\n",
    "from sklearn.metrics import confusion_matrix\n",
    "from sklearn.model_selection import cross_val_score\n",
    "from sklearn.model_selection import cross_val_predict\n",
    "from sklearn.model_selection import KFold"
   ]
  },
  {
   "cell_type": "markdown",
   "id": "fb3e9db2",
   "metadata": {},
   "source": [
    "Para la implementación del modelo de clasificación de SVM usaremos la clase Support Vector Classifier de sklearn, https://scikit-learn.org/stable/modules/generated/sklearn.svm.SVC.html#sklearn.svm.SVC\n",
    "\n",
    "El algoritmo de SVM necesita ajustar una serie de hiperparámetros para realizar las clasificaciones. La implementación de sklearn nos da mucha flexibilidad para nuestros modelos. En general, para los problemas más comunes de clasificación, nos tenemos que preocupar de los siguientes hiperparámetros:\n",
    "- C\n",
    "- kernel\n",
    "- degree\n",
    "- gamma\n",
    "\n",
    "Indica qué son cada uno de estos hiperparámetros"
   ]
  },
  {
   "cell_type": "markdown",
   "id": "56cfc868",
   "metadata": {},
   "source": [
    "_indica aquí tu respuesta_\n",
    "\n",
    "### Hiperparámetros del Support Vector Classifier (SVC)\n",
    "\n",
    "#### C:\n",
    "- Parámetro de regularización. Controla el trade-off entre el margen y la clasificación correcta de los puntos de entrenamiento.\n",
    "- Impacto: Un valor grande de C trata de clasificar correctamente todos los puntos de entrenamiento, lo que puede llevar a sobreajuste (overfitting). Un valor pequeño de C crea un margen más grande, permitiendo que algunos puntos estén mal clasificados, lo que puede mejorar la generalización del modelo.\n",
    "\n",
    "#### kernel:\n",
    "- Especifica el tipo de kernel a utilizar en el algoritmo. Los kernels transforman los datos de entrada a un espacio de características de mayor dimensión donde se puede encontrar una separación más clara entre las clases.\n",
    "- Opciones: \"linear\", \"poly\", \"rbf\", \"sigmoid\", y \"precomputed\".\n",
    "  - \"linear\": Usa un kernel lineal.\n",
    "  - \"poly\": Usa un kernel polinómico.\n",
    "  - \"rbf\": Usa un kernel de función de base radial (gaussiano).\n",
    "  - \"sigmoid\": Usa un kernel sigmoide.\n",
    "\n",
    "#### degree:\n",
    "- Grado del kernel polinómico. Este parámetro solo es relevante cuando kernel=\"poly\".\n",
    "- Impacto: Controla el grado del polinomio utilizado en el kernel polinómico. Un grado mayor puede capturar relaciones más complejas, pero también puede llevar a sobreajuste.\n",
    "\n",
    "#### gamma:\n",
    "- Descripción: Parámetro del kernel que define cómo se comporta la función de kernel. Controla el alcance de la influencia de un solo ejemplo de entrenamiento.\n",
    "- Opciones: \"scale\" (predeterminado), \"auto\" o un valor flotante.\n",
    "  - \"scale\": 1 / (n_features * X.var()) (se usa el inverso del número de características multiplicado por la varianza de los datos).\n",
    "  - \"auto\": 1 / n_features.\n",
    "  - Valor flotante: Un valor específico de gamma.\n",
    "- Impacto: Un valor grande de gamma implica un radio de influencia más pequeño, lo que puede llevar a un ajuste muy fino (sobreajuste). Un valor pequeño de gamma implica un radio de influencia más grande, lo que puede llevar a un ajuste insuficiente (underfitting)."
   ]
  },
  {
   "cell_type": "markdown",
   "id": "d8602f42",
   "metadata": {},
   "source": [
    "Además de los hiperparámetros que acabas de descubrir, la implementación de sklearn tiene el hiperparámetro decision_function_shape\n",
    "\n",
    "¿Qué indica ese parámetro? ¿Para qué puede ser útil?"
   ]
  },
  {
   "cell_type": "markdown",
   "id": "3ed9711c",
   "metadata": {},
   "source": [
    "_indica aquí tu respuesta_\n",
    "\n",
    "### Hiperparámetro decision_function_shape.\n",
    "- El hiperparámetro decision_function_shape define la forma de la función de decisión para problemas de clasificación multiclase. Específicamente, determina cómo se calculan las salidas de la función de decisión para problemas con más de dos clases.\n",
    "\n",
    "### Opciones:\n",
    "- \"ovr\" (one-vs-rest): Esta es la opción predeterminada. En este esquema, se entrena un clasificador binario por cada clase. Cada clasificador predice si una muestra pertenece o no a una clase específica. La clase final para una muestra se decide como la clase con la función de decisión más alta.\n",
    "- \"ovo\" (one-vs-one): En este esquema, se entrena un clasificador binario para cada par de clases. Para n clases, se entrenan n * (n - 1) / 2 clasificadores. La clase final para una muestra se decide por votación mayoritaria entre todos los clasificadores.\n",
    "\n",
    "### Utilidad:\n",
    "- Flexibilidad en la Clasificación Multiclase: Permite elegir entre dos estrategias diferentes para manejar problemas de clasificación multiclase. La estrategia \"ovr\" es más común y suele ser más eficiente en términos de tiempo de entrenamiento y memoria, mientras que \"ovo\" puede ser más precisa en algunos casos específicos.\n",
    "- Adaptabilidad a Diferentes Escenarios: Dependiendo del problema específico y la distribución de las clases, una estrategia puede funcionar mejor que la otra. Proporcionar ambas opciones permite a los usuarios adaptar el modelo a sus necesidades particulares."
   ]
  },
  {
   "cell_type": "markdown",
   "id": "4c6c62e3-fb4a-450a-8f02-78c15827e995",
   "metadata": {},
   "source": [
    "Tenemos un dataset de más de medio millón de instancias, y para el objetivo de la actividad no hacen falta tantas. Por eso, antes de aplicar SVM vamos a reducir el número de instancias. SVM requiere una gran carga computacional y con ese volumen de instancias el tiempo requerido sería demasiado elevado."
   ]
  },
  {
   "cell_type": "code",
   "execution_count": 65,
   "id": "0c2eda09-2d5a-4c65-97d6-ee2e42dd7927",
   "metadata": {},
   "outputs": [],
   "source": [
    "df = df.head(100000)"
   ]
  },
  {
   "cell_type": "markdown",
   "id": "34b0776e-c261-4ce3-805a-7aea13356b39",
   "metadata": {},
   "source": [
    "Nota: recuerda revisar que esta manera de seleccionar un subconjunto de instancias no altera la clase objetivo. Deberías tener un porcentaje similar de instancias de cada clase. Si no fuera así, deberás cambiar la manera de seleccionar el subconjunto."
   ]
  },
  {
   "cell_type": "code",
   "execution_count": 66,
   "id": "66ea4833-4b85-4dc7-9346-12bed09d1104",
   "metadata": {},
   "outputs": [
    {
     "data": {
      "image/png": "[encoded data removed]",
      "text/plain": [
       "<Figure size 640x480 with 1 Axes>"
      ]
     },
     "metadata": {},
     "output_type": "display_data"
    }
   ],
   "source": [
    "df['Cover_Type'].value_counts().plot(kind='pie',autopct='%.2f',)\n",
    "plt.show()"
   ]
  },
  {
   "cell_type": "code",
   "execution_count": 67,
   "id": "8701f7a1-9112-4c27-88e7-2c105f90f048",
   "metadata": {},
   "outputs": [],
   "source": [
    "# Con el nuevo número de instancias, separamos los datos en los conjuntos de entrenamiento y test.\n",
    "from sklearn.model_selection import train_test_split\n",
    "\n",
    "X, y = df.drop('Cover_Type',axis=1),df['Cover_Type']\n",
    "\n",
    "X_train,X_test,y_train,y_test = train_test_split(X, y, test_size=0.8, random_state=1)\n"
   ]
  },
  {
   "cell_type": "markdown",
   "id": "155f3ed0",
   "metadata": {},
   "source": [
    "Como primer paso para crear un clasificador de SVM hay que decidir si hay que hacer algún preprocesamiento adicional sobre los datos. ¿Hace falta normalizar los datos?"
   ]
  },
  {
   "cell_type": "code",
   "execution_count": 69,
   "id": "1fa219b7",
   "metadata": {},
   "outputs": [],
   "source": [
    "## PON AQUÍ TU CÓDIGO SI CONSIDERAS QUE HAY QUE NORMALIZAR LOS DATOS\n",
    "\n",
    "import pandas as pd\n",
    "from sklearn.model_selection import train_test_split\n",
    "from sklearn.preprocessing import StandardScaler\n",
    "from sklearn.svm import SVC\n",
    "from sklearn.metrics import accuracy_score, classification_report\n",
    "import matplotlib.pyplot as plt\n",
    "\n",
    "# Cargar los datos\n",
    "url = 'https://archive.ics.uci.edu/ml/machine-learning-databases/covtype/covtype.data.gz'\n",
    "column_names = [\"Elevation\", \"Aspect\", \"Slope\", \"Horizontal_Distance_To_Hydrology\",\n",
    "                \"Vertical_Distance_To_Hydrology\", \"Horizontal_Distance_To_Roadways\",\n",
    "                \"Hillshade_9am\", \"Hillshade_Noon\", \"Hillshade_3pm\",\n",
    "                \"Horizontal_Distance_To_Fire_Points\"] + \\\n",
    "               [f\"Wilderness_Area_{i}\" for i in range(4)] + \\\n",
    "               [f\"Soil_Type_{i}\" for i in range(40)] + [\"Cover_Type\"]\n",
    "\n",
    "df = pd.read_csv(url, header=None, names=column_names)\n",
    "\n",
    "# Seleccionar un subconjunto de datos utilizando muestreo estratificado\n",
    "df_subset, _ = train_test_split(df, train_size=100000, stratify=df['Cover_Type'], random_state=42)"
   ]
  },
  {
   "cell_type": "code",
   "execution_count": 70,
   "id": "9190d6f2",
   "metadata": {},
   "outputs": [
    {
     "data": {
      "image/png": "[encoded data removed]",
      "text/plain": [
       "<Figure size 640x480 with 1 Axes>"
      ]
     },
     "metadata": {},
     "output_type": "display_data"
    }
   ],
   "source": [
    "# Verificar la nueva distribución de clases\n",
    "df_subset['Cover_Type'].value_counts().plot(kind='pie', autopct='%.2f')\n",
    "plt.show()"
   ]
  },
  {
   "cell_type": "code",
   "execution_count": 71,
   "id": "01ccce02",
   "metadata": {},
   "outputs": [],
   "source": [
    "# Separar características y etiquetas\n",
    "X = df_subset.drop(columns=['Cover_Type'])\n",
    "y = df_subset['Cover_Type']"
   ]
  },
  {
   "cell_type": "code",
   "execution_count": 72,
   "id": "c73977d4",
   "metadata": {},
   "outputs": [],
   "source": [
    "# División de los datos en conjuntos de entrenamiento y prueba\n",
    "X_train, X_test, y_train, y_test = train_test_split(X, y, test_size=0.2, stratify=y, random_state=42)\n",
    "\n",
    "# Normalización de los datos\n",
    "scaler = StandardScaler()\n",
    "X_train_scaled = scaler.fit_transform(X_train)\n",
    "X_test_scaled = scaler.transform(X_test)\n",
    "\n",
    "# Crear una instancia de SVC con hiperparámetros ajustados\n",
    "clf = SVC(C=1.0, kernel='rbf', degree=3, gamma='scale', decision_function_shape='ovo', random_state=42)\n"
   ]
  },
  {
   "cell_type": "markdown",
   "id": "f773c8f8",
   "metadata": {},
   "source": [
    "Entrena un conjunto de modelos de SVM que utilicen todas las variables del dataset, con C = 0.1 hasta 1000 con cinco valores diferentes; kernel radial, y gamma con valor scale."
   ]
  },
  {
   "cell_type": "code",
   "execution_count": 73,
   "id": "8658bda9",
   "metadata": {},
   "outputs": [],
   "source": [
    "# División de los datos en conjuntos de entrenamiento y prueba\n",
    "X_train, X_test, y_train, y_test = train_test_split(X, y, test_size=0.2, stratify=y, random_state=42)\n",
    "\n",
    "# Normalización de los datos\n",
    "scaler = StandardScaler()\n",
    "X_train_scaled = scaler.fit_transform(X_train)\n",
    "X_test_scaled = scaler.transform(X_test)"
   ]
  },
  {
   "cell_type": "code",
   "execution_count": 74,
   "id": "3af670f1",
   "metadata": {},
   "outputs": [],
   "source": [
    "# Definir los hiperparámetros\n",
    "C_values = [0.1, 1, 10, 100, 1000]\n",
    "kernel = 'rbf'\n",
    "gamma = 'scale'\n",
    "\n",
    "# Crear y entrenar los modelos SVM con diferentes valores de C\n",
    "svc_models = [SVC(C=i, kernel=kernel, gamma=gamma, random_state=42) for i in C_values]\n"
   ]
  },
  {
   "cell_type": "code",
   "execution_count": 79,
   "id": "0e666ae3-b5ff-41bb-a416-aa3838b5db89",
   "metadata": {},
   "outputs": [
    {
     "name": "stdout",
     "output_type": "stream",
     "text": [
      "\n",
      "Modelo SVM con C=0.1:\n",
      "Accuracy: 0.7339\n",
      "              precision    recall  f1-score   support\n",
      "\n",
      "           1       0.73      0.72      0.72      7292\n",
      "           2       0.76      0.81      0.78      9752\n",
      "           3       0.63      0.88      0.74      1231\n",
      "           4       0.68      0.14      0.23        94\n",
      "           5       1.00      0.00      0.01       327\n",
      "           6       0.50      0.02      0.04       598\n",
      "           7       0.69      0.57      0.63       706\n",
      "\n",
      "    accuracy                           0.73     20000\n",
      "   macro avg       0.71      0.45      0.45     20000\n",
      "weighted avg       0.73      0.73      0.72     20000\n",
      "\n",
      "\n",
      "Modelo SVM con C=1:\n",
      "Accuracy: 0.7712\n",
      "              precision    recall  f1-score   support\n",
      "\n",
      "           1       0.78      0.74      0.76      7292\n",
      "           2       0.78      0.84      0.81      9752\n",
      "           3       0.68      0.89      0.77      1231\n",
      "           4       0.66      0.29      0.40        94\n",
      "           5       0.84      0.09      0.17       327\n",
      "           6       0.63      0.26      0.37       598\n",
      "           7       0.78      0.71      0.74       706\n",
      "\n",
      "    accuracy                           0.77     20000\n",
      "   macro avg       0.74      0.55      0.57     20000\n",
      "weighted avg       0.77      0.77      0.76     20000\n",
      "\n"
     ]
    }
   ],
   "source": [
    "# Entrenamiento y evaluación de los modelos\n",
    "for model in svc_models:\n",
    "    model.fit(X_train_scaled, y_train)\n",
    "    y_pred = model.predict(X_test_scaled)\n",
    "    accuracy = accuracy_score(y_test, y_pred)\n",
    "    report = classification_report(y_test, y_pred)\n",
    "    \n",
    "    print(f'\\nModelo SVM con C={model.C}:')\n",
    "    print(f'Accuracy: {accuracy}')\n",
    "    print(report)"
   ]
  },
  {
   "cell_type": "markdown",
   "id": "0ffaa64a",
   "metadata": {},
   "source": [
    "Después de hacer el entrenamiento, visualiza las matrices de confusión de los modelos entrenados."
   ]
  },
  {
   "cell_type": "code",
   "execution_count": 76,
   "id": "589d3eb4",
   "metadata": {},
   "outputs": [
    {
     "data": {
      "image/png": "[encoded data removed]",
      "text/plain": [
       "<Figure size 1000x800 with 2 Axes>"
      ]
     },
     "metadata": {},
     "output_type": "display_data"
    }
   ],
   "source": [
    "## PON AQUÍ TU CÓDIGO\n",
    "\n",
    "import matplotlib.pyplot as plt\n",
    "\n",
    " # Visualizar la matriz de confusión\n",
    "plt.figure(figsize=(10, 8))\n",
    "sns.heatmap(conf_matrix, annot=True, fmt='d', cmap='Blues', xticklabels=model.classes_, yticklabels=model.classes_)\n",
    "plt.xlabel('Predicted Label')\n",
    "plt.ylabel('True Label')\n",
    "plt.title(f'Confusion Matrix - SVM with C={model.C}')\n",
    "plt.show()"
   ]
  },
  {
   "cell_type": "markdown",
   "id": "d04ad53c",
   "metadata": {},
   "source": [
    "¿Cuántos ejemplos ha clasificado correctamente cada uno de los modelos?"
   ]
  },
  {
   "cell_type": "markdown",
   "id": "8d46849d",
   "metadata": {},
   "source": [
    "_indica aquí tu respuesta_\n",
    "\n",
    "Para determinar cuántos ejemplos ha clasificado correctamente cada uno de los modelos, sumamos los valores de la diagonal principal de la matriz de confusión. Estos valores representan los ejemplos correctamente clasificados para cada clase.\n",
    "\n",
    "Matriz de Confusión para el Modelo con C=100\n",
    "Ejemplos Correctamente Clasificados\n",
    "Clase 1: 32,872\n",
    "Clase 2: 48,449\n",
    "Clase 3: 6,104\n",
    "Clase 4: 351\n",
    "Clase 5: 506\n",
    "Clase 6: 1,310\n",
    "Clase 7: 2,899\n",
    "Sumamos estos valores para obtener el total de ejemplos correctamente clasificados:\n",
    "\n",
    "- 32,872+48,449+6,104+351+506+1,310+2,899=92,491\n",
    "- Por lo tanto, el modelo con C=100 ha clasificado correctamente 92,491 ejemplos."
   ]
  },
  {
   "cell_type": "markdown",
   "id": "6ddb9cf9",
   "metadata": {},
   "source": [
    "¿Cuál de todos los modelos que has entrenado obtiene mejores resultados de precision para todas las clases? Si no hay ninguno que consideres que sea óptimo, explica cómo se comporta para cada clase el modelo que consideres que tiene mejores resultados."
   ]
  },
  {
   "cell_type": "code",
   "execution_count": null,
   "id": "1278fd97",
   "metadata": {},
   "outputs": [],
   "source": [
    "## PON AQUÍ TU CÓDIGO"
   ]
  },
  {
   "cell_type": "markdown",
   "id": "ed4bd6a8",
   "metadata": {},
   "source": [
    "_indica aquí tu respuesta_"
   ]
  },
  {
   "cell_type": "markdown",
   "id": "24bd428f",
   "metadata": {},
   "source": [
    "Selecciona el modelo que consideras que obtiene mejores resultados y realiza las predicciones con el conjunto de datos de test."
   ]
  },
  {
   "cell_type": "code",
   "execution_count": null,
   "id": "5eef52fa",
   "metadata": {},
   "outputs": [],
   "source": [
    "## PON AQUÍ TU CÓDIGO\n",
    "\n",
    "# Entrenar el modelo SVM con C=10\n",
    "model_best = SVC(C=10, kernel='rbf', gamma='scale', random_state=42)\n",
    "model_best.fit(X_train_scaled, y_train)\n",
    "\n",
    "# Realizar predicciones\n",
    "y_pred_best = model_best.predict(X_test_scaled)\n",
    "\n",
    "# Evaluar el modelo\n",
    "accuracy = accuracy_score(y_test, y_pred_best)\n",
    "report = classification_report(y_test, y_pred_best)\n",
    "conf_matrix_best = confusion_matrix(y_test, y_pred_best)\n",
    "\n",
    "print(f'Accuracy: {accuracy}')\n",
    "print(report)\n",
    "\n",
    "# Visualizar la matriz de confusión\n",
    "plt.figure(figsize=(10, 8))\n",
    "sns.heatmap(conf_matrix_best, annot=True, fmt='d', cmap='Blues', xticklabels=model_best.classes_, yticklabels=model_best.classes_)\n",
    "plt.xlabel('Predicted Label')\n",
    "plt.ylabel('True Label')\n",
    "plt.title('Confusion Matrix - SVM with C=10')\n",
    "plt.show()"
   ]
  },
  {
   "cell_type": "markdown",
   "id": "1156e32d",
   "metadata": {},
   "source": [
    "Visualiza la matriz de confusión de los datos de test.\n",
    "- ¿Cuántos ejemplos ha clasificado bien el modelo?\n",
    "- ¿Cuántos ejemplos ha clasificado de manera errónea?"
   ]
  },
  {
   "cell_type": "code",
   "execution_count": null,
   "id": "0f6e0a04",
   "metadata": {},
   "outputs": [],
   "source": [
    "### PON AQUÍ TU CÓDIGO E INDICA TU RESPUESTA\n",
    "from sklearn.model_selection import train_test_split\n",
    "from sklearn.preprocessing import StandardScaler\n",
    "from sklearn.svm import SVC\n",
    "from sklearn.metrics import accuracy_score, classification_report, confusion_matrix\n",
    "import matplotlib.pyplot as plt\n",
    "import seaborn as sns\n",
    "\n",
    "# Visualizar la matriz de confusión\n",
    "plt.figure(figsize=(10, 8))\n",
    "sns.heatmap(conf_matrix_best, annot=True, fmt='d', cmap='Blues', xticklabels=model_best.classes_, yticklabels=model_best.classes_)\n",
    "plt.xlabel('Predicted Label')\n",
    "plt.ylabel('True Label')\n",
    "plt.title('Confusion Matrix - SVM with C=10')\n",
    "plt.show()\n",
    "\n",
    "# Calcular ejemplos correctamente e incorrectamente clasificados\n",
    "correctly_classified = conf_matrix_best.diagonal().sum()\n",
    "incorrectly_classified = conf_matrix_best.sum() - correctly_classified"
   ]
  },
  {
   "cell_type": "markdown",
   "id": "b08b873b",
   "metadata": {},
   "source": [
    "Visualiza los valores de precision, recall, f1 para cada una de las clases. \n",
    "- ¿Clasifica de igual manera todas las clases o hay alguna para la que el modelo tiene una mayor capacidad predictiva?"
   ]
  },
  {
   "cell_type": "code",
   "execution_count": null,
   "id": "61426541",
   "metadata": {},
   "outputs": [],
   "source": [
    "### PON AQUÍ TU CÓDIGO E INDICA TU RESPUESTA"
   ]
  },
  {
   "cell_type": "markdown",
   "id": "c0629d8f",
   "metadata": {},
   "source": [
    "**Comparativa**\n",
    "\n",
    "En base al EDA realizado, a las decisiones tomadas sobre los datos e hiperparámetros y a las características computacionales de tu equipo. ¿Qué modelo obtiene mejores resultados de clasificación?"
   ]
  },
  {
   "cell_type": "markdown",
   "id": "2d756202",
   "metadata": {},
   "source": [
    "### Investigación\n",
    "\n",
    "Buscar un artículo científico (https://scholar.google.es/) con un caso de uso de clasificación empleando una de las dos técnicas (o ambas) vistas en la actividad. Los artículos deben estar en revistas científicas, y deben ser posteriores a 2015. No debe utilizar técnicas de Deep Learning."
   ]
  },
  {
   "cell_type": "markdown",
   "id": "5da25f3b",
   "metadata": {},
   "source": [
    "_introduce aquí la referencia APA del artículo_\n",
    "\n",
    "título, autores, revista, año de publicación\n",
    "\n",
    "Objetivo: cuál es el objetivo de la investigación, es decir a qué problema real está aplicando la clasificación.\n",
    "Técnicas de clasificación empleadas y si realiza alguna adaptación.\n",
    "Principales resultados de la aplicación y de la investigación."
   ]
  },
  {
   "cell_type": "markdown",
   "id": "9381002f",
   "metadata": {},
   "source": [
    "### Referencia APA\n",
    "Zafari, A., Zurita-Milla, R., & Izquierdo-Verdiguier, E. (2019). Evaluating the Performance of a Random Forest Kernel for Land Cover Classification. Remote Sensing, 11(5), 575. https://doi.org/10.3390/rs11050575\n",
    "\n",
    "- Título: Evaluating the Performance of a Random Forest Kernel for Land Cover Classification\n",
    "- Autores: Azar Zafari, Raul Zurita-Milla, Emma Izquierdo-Verdiguier\n",
    "- Revista: Remote Sensing\n",
    "- Año de Publicación: 2019\n",
    "\n",
    "### Objetivo\n",
    "El objetivo de esta investigación es evaluar el rendimiento de un kernel basado en Random Forest (RFK) en un clasificador SVM para la clasificación de la cobertura terrestre. El estudio se centra en comparar este kernel con el kernel de función de base radial (RBF) convencional y el clasificador Random Forest estándar, utilizando imágenes satelitales multiespectrales e hiperespectrales.\n",
    "\n",
    "### Técnicas de Clasificación Empleadas\n",
    "- Random Forest (RF): Utilizado como clasificador estándar y como método para seleccionar las características más importantes.\n",
    "- Support Vector Machine con Kernel RF (SVM-RFK): Adaptación del kernel SVM para utilizar un kernel basado en Random Forest.\n",
    "- Support Vector Machine con Kernel RBF (SVM-RBF): Kernel SVM convencional basado en función de base radial.\n",
    "\n",
    "### Principales Resultados de la Aplicación y de la Investigación\n",
    "- El SVM-RFK superó ligeramente al RF estándar en experimentos con datos de alta dimensionalidad y ruidosos.\n",
    "- El SVM-RFK proporcionó resultados competitivos en comparación con el SVM-RBF, reduciendo significativamente el tiempo y el costo computacional asociado con la \n",
    "\n",
    "### parametrización del kernel.\n",
    "En problemas de alta dimensionalidad y ruido, el SVM-RFK superó al SVM-RBF.\n",
    "La combinación de SVM-RFK con métodos de selección de características basados en RF mejoró la exactitud general (OA) en un 2%.\n",
    "El estudio concluye que el clasificador SVM-RFK es tan bueno como el RF y el SVM-RBF, y puede lograr mejoras considerables cuando se aplica a datos de alta dimensionalidad y cuando se combina con métodos de selección de características basados en RF."
   ]
  }
 ],
 "metadata": {
  "kernelspec": {
   "display_name": "Python 3 (ipykernel)",
   "language": "python",
   "name": "python3"
  },
  "language_info": {
   "codemirror_mode": {
    "name": "ipython",
    "version": 3
   },
   "file_extension": ".py",
   "mimetype": "text/x-python",
   "name": "python",
   "nbconvert_exporter": "python",
   "pygments_lexer": "ipython3",
   "version": "3.10.12"
  }
 },
 "nbformat": 4,
 "nbformat_minor": 5
}
