{
 "cells": [
  {
   "attachments": {},
   "cell_type": "markdown",
   "id": "a6b2b19c",
   "metadata": {},
   "source": [
    "# Tema 3: Evaluación de clasificadores\n",
    "## Métricas de evaluación en Python\n",
    "\n",
    "La evaluación de cualquier modelo de ML es fundamental. En el caso de los clasificadores (modelos de ML centrados en la tarea de clasificar), esto se hace observando si cumple su propósito, es decir si asigna o no las clases de manera correcta a cada instancia de datos.\n",
    "\n",
    "La manera habitual de mostrar esta informacion es mediante una matriz de confusión. Una matriz de confusión para un clasificador binario es un array 2x2 donde las filas se corresponden con los clases verdaderas y las columnas se corresponde con las clases predichas. _el orden de puede cambiar_\n",
    "Y en cada celda de la matriz se contabilizan los resultados de la clasificación. Tendremos cuatro tipos de resultados:\n",
    "- Verdaderos positivos (TP): se trata de las clasificaciones correctas etiquetadas como positivas y que realmente corresponden a la clase positiva.\n",
    "- Verdaderos negativos (TN): se trata de las clasificaciones correctas etiquetadas como negativas y que realmente corresponden a la clase negativa.\n",
    "- Falsos positivos (FP): etiquetados como positivos pero que realmente pertenecen a la clase negativa.\n",
    "- Falsos negativos (FN): etiquetados como negativos pero que realmente pertenecen a la clase positiva.\n",
    "\n",
    "\n",
    "Es muy importante interpretar la matriz de confusión en base a la clase que tomamos como positiva y la clase que tomamos como negativa.\n",
    "\n",
    "En Python usaremos el módulo metrics para calcular estos valores. En particular, la función https://scikit-learn.org/stable/modules/generated/sklearn.metrics.confusion_matrix.html nos devuelve la matriz de confusión de un clasificador a partir de los y_real, y_pred.\n"
   ]
  },
  {
   "cell_type": "code",
   "execution_count": null,
   "id": "1efe2ee8",
   "metadata": {},
   "outputs": [],
   "source": [
    "#%pip install scikit-learn\n",
    "\n",
    "from sklearn.metrics import classification_report\n",
    "from sklearn import metrics\n"
   ]
  },
  {
   "cell_type": "code",
   "execution_count": null,
   "id": "a53c1646",
   "metadata": {},
   "outputs": [
    {
     "data": {
      "text/plain": [
       "array([[3, 1],\n",
       "       [0, 2]])"
      ]
     },
     "execution_count": 13,
     "metadata": {},
     "output_type": "execute_result"
    }
   ],
   "source": [
    "from sklearn.metrics import confusion_matrix\n",
    "\n",
    "y_real = ['gato', 'perro', 'gato', 'gato','perro', 'gato']\n",
    "y_pred = ['perro', 'perro', 'gato', 'gato','perro', 'gato']\n",
    "tn, fp, fn, tp = confusion_matrix(y_real, y_pred).ravel()\n",
    "\n",
    "confusion_matrix(y_real, y_pred)"
   ]
  },
  {
   "cell_type": "code",
   "execution_count": 14,
   "id": "da2c7f87",
   "metadata": {},
   "outputs": [
    {
     "data": {
      "text/plain": [
       "(np.int64(3), np.int64(1), np.int64(0), np.int64(2))"
      ]
     },
     "execution_count": 14,
     "metadata": {},
     "output_type": "execute_result"
    }
   ],
   "source": [
    "(tn, fp, fn, tp)"
   ]
  },
  {
   "cell_type": "code",
   "execution_count": null,
   "id": "ec6de61a",
   "metadata": {},
   "outputs": [
    {
     "data": {
      "text/plain": [
       "<sklearn.metrics._plot.confusion_matrix.ConfusionMatrixDisplay at 0x74afb432f770>"
      ]
     },
     "execution_count": 16,
     "metadata": {},
     "output_type": "execute_result"
    },
    {
     "data": {
      "image/png": "[encoded data removed]",
      "text/plain": [
       "<Figure size 640x480 with 2 Axes>"
      ]
     },
     "metadata": {},
     "output_type": "display_data"
    }
   ],
   "source": [
    "from sklearn.metrics import ConfusionMatrixDisplay\n",
    "\n",
    "ConfusionMatrixDisplay.from_predictions(y_real, y_pred)"
   ]
  },
  {
   "cell_type": "code",
   "execution_count": 7,
   "id": "e9b19a30",
   "metadata": {},
   "outputs": [
    {
     "name": "stdout",
     "output_type": "stream",
     "text": [
      "              precision    recall  f1-score   support\n",
      "\n",
      "        gato      1.000     0.750     0.857         4\n",
      "       perro      0.667     1.000     0.800         2\n",
      "\n",
      "    accuracy                          0.833         6\n",
      "   macro avg      0.833     0.875     0.829         6\n",
      "weighted avg      0.889     0.833     0.838         6\n",
      "\n"
     ]
    }
   ],
   "source": [
    "# Mostrar precision and recall, junto con el resto de métricas\n",
    "print(classification_report(y_real, y_pred, digits=3))"
   ]
  },
  {
   "cell_type": "code",
   "execution_count": 25,
   "id": "1a45dc15",
   "metadata": {},
   "outputs": [],
   "source": [
    "\n",
    "precision = metrics.precision_score(y_real, y_pred, pos_label='gato')\n",
    "recall = metrics.recall_score(y_real, y_pred, pos_label='gato')\n",
    "accuracy = metrics.accuracy_score(y_real, y_pred)\n",
    "f1 = metrics.f1_score(y_real, y_pred, pos_label='gato')"
   ]
  },
  {
   "cell_type": "code",
   "execution_count": 26,
   "id": "afe962f6",
   "metadata": {},
   "outputs": [
    {
     "data": {
      "text/plain": [
       "(0.8333333333333334,\n",
       " np.float64(1.0),\n",
       " np.float64(0.75),\n",
       " np.float64(0.8571428571428571))"
      ]
     },
     "execution_count": 26,
     "metadata": {},
     "output_type": "execute_result"
    }
   ],
   "source": [
    "(accuracy, precision, recall, f1)"
   ]
  }
 ],
 "metadata": {
  "kernelspec": {
   "display_name": "Master AI Python",
   "language": "python",
   "name": "master-ai"
  },
  "language_info": {
   "codemirror_mode": {
    "name": "ipython",
    "version": 3
   },
   "file_extension": ".py",
   "mimetype": "text/x-python",
   "name": "python",
   "nbconvert_exporter": "python",
   "pygments_lexer": "ipython3",
   "version": "3.12.3"
  }
 },
 "nbformat": 4,
 "nbformat_minor": 5
}
